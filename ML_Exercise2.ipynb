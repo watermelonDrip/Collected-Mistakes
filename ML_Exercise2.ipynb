{
  "cells": [
    {
      "cell_type": "markdown",
      "metadata": {
        "id": "view-in-github",
        "colab_type": "text"
      },
      "source": [
        "<a href=\"https://colab.research.google.com/github/watermelonDrip/Collected-Mistakes/blob/main/ML_Exercise2.ipynb\" target=\"_parent\"><img src=\"https://colab.research.google.com/assets/colab-badge.svg\" alt=\"Open In Colab\"/></a>"
      ]
    },
    {
      "cell_type": "markdown",
      "metadata": {
        "id": "VCoqe6lJt0s9"
      },
      "source": [
        "# 机器学习练习 2 - 逻辑回归"
      ]
    },
    {
      "cell_type": "markdown",
      "metadata": {
        "id": "X-QGRXxdt0tB"
      },
      "source": [
        "这个笔记包含了以Python为编程语言的Coursera上机器学习的第二次编程练习。请参考 [作业文件](ex2.pdf) 详细描述和方程。\n",
        "在这一次练习中，我们将要实现逻辑回归并且应用到一个分类任务。我们还将通过将正则化加入训练算法，来提高算法的鲁棒性，并用更复杂的情形来测试它。\n",
        "\n",
        "代码修改并注释：黄海广，haiguang2000@qq.com"
      ]
    },
    {
      "cell_type": "markdown",
      "metadata": {
        "id": "Xd0hem5Mt0tC"
      },
      "source": [
        "## 逻辑回归"
      ]
    },
    {
      "cell_type": "markdown",
      "metadata": {
        "id": "CfLMF5NKt0tC"
      },
      "source": [
        "在训练的初始阶段，我们将要构建一个逻辑回归模型来预测，某个学生是否被大学录取。设想你是大学相关部分的管理者，想通过申请学生两次测试的评分，来决定他们是否被录取。现在你拥有之前申请学生的可以用于训练逻辑回归的训练样本集。对于每一个训练样本，你有他们两次测试的评分和最后是被录取的结果。为了完成这个预测任务，我们准备构建一个可以基于两次测试评分来评估录取可能性的分类模型。"
      ]
    },
    {
      "cell_type": "markdown",
      "metadata": {
        "id": "_lsI9eNGt0tD"
      },
      "source": [
        "让我们从检查数据开始。"
      ]
    },
    {
      "cell_type": "code",
      "execution_count": 509,
      "metadata": {
        "collapsed": true,
        "id": "5s5Dhd0qt0tD"
      },
      "outputs": [],
      "source": [
        "import numpy as np\n",
        "import pandas as pd\n",
        "import matplotlib.pyplot as plt"
      ]
    },
    {
      "cell_type": "code",
      "source": [
        "import pandas as pd\n",
        "import torch\n",
        "from torch.autograd import Variable\n",
        "from torch.nn import functional as F"
      ],
      "metadata": {
        "id": "wckrdmbWAg4F"
      },
      "execution_count": 510,
      "outputs": []
    },
    {
      "cell_type": "code",
      "execution_count": 511,
      "metadata": {
        "colab": {
          "base_uri": "https://localhost:8080/",
          "height": 206
        },
        "id": "vgWIPspnt0tF",
        "outputId": "656bce59-7a90-404d-eefb-88d2577ef85d"
      },
      "outputs": [
        {
          "output_type": "execute_result",
          "data": {
            "text/html": [
              "\n",
              "  <div id=\"df-506e275c-9657-48cd-a5e9-15c625060e32\">\n",
              "    <div class=\"colab-df-container\">\n",
              "      <div>\n",
              "<style scoped>\n",
              "    .dataframe tbody tr th:only-of-type {\n",
              "        vertical-align: middle;\n",
              "    }\n",
              "\n",
              "    .dataframe tbody tr th {\n",
              "        vertical-align: top;\n",
              "    }\n",
              "\n",
              "    .dataframe thead th {\n",
              "        text-align: right;\n",
              "    }\n",
              "</style>\n",
              "<table border=\"1\" class=\"dataframe\">\n",
              "  <thead>\n",
              "    <tr style=\"text-align: right;\">\n",
              "      <th></th>\n",
              "      <th>Exam 1</th>\n",
              "      <th>Exam 2</th>\n",
              "      <th>Admitted</th>\n",
              "    </tr>\n",
              "  </thead>\n",
              "  <tbody>\n",
              "    <tr>\n",
              "      <th>0</th>\n",
              "      <td>34.623660</td>\n",
              "      <td>78.024693</td>\n",
              "      <td>0</td>\n",
              "    </tr>\n",
              "    <tr>\n",
              "      <th>1</th>\n",
              "      <td>30.286711</td>\n",
              "      <td>43.894998</td>\n",
              "      <td>0</td>\n",
              "    </tr>\n",
              "    <tr>\n",
              "      <th>2</th>\n",
              "      <td>35.847409</td>\n",
              "      <td>72.902198</td>\n",
              "      <td>0</td>\n",
              "    </tr>\n",
              "    <tr>\n",
              "      <th>3</th>\n",
              "      <td>60.182599</td>\n",
              "      <td>86.308552</td>\n",
              "      <td>1</td>\n",
              "    </tr>\n",
              "    <tr>\n",
              "      <th>4</th>\n",
              "      <td>79.032736</td>\n",
              "      <td>75.344376</td>\n",
              "      <td>1</td>\n",
              "    </tr>\n",
              "  </tbody>\n",
              "</table>\n",
              "</div>\n",
              "      <button class=\"colab-df-convert\" onclick=\"convertToInteractive('df-506e275c-9657-48cd-a5e9-15c625060e32')\"\n",
              "              title=\"Convert this dataframe to an interactive table.\"\n",
              "              style=\"display:none;\">\n",
              "        \n",
              "  <svg xmlns=\"http://www.w3.org/2000/svg\" height=\"24px\"viewBox=\"0 0 24 24\"\n",
              "       width=\"24px\">\n",
              "    <path d=\"M0 0h24v24H0V0z\" fill=\"none\"/>\n",
              "    <path d=\"M18.56 5.44l.94 2.06.94-2.06 2.06-.94-2.06-.94-.94-2.06-.94 2.06-2.06.94zm-11 1L8.5 8.5l.94-2.06 2.06-.94-2.06-.94L8.5 2.5l-.94 2.06-2.06.94zm10 10l.94 2.06.94-2.06 2.06-.94-2.06-.94-.94-2.06-.94 2.06-2.06.94z\"/><path d=\"M17.41 7.96l-1.37-1.37c-.4-.4-.92-.59-1.43-.59-.52 0-1.04.2-1.43.59L10.3 9.45l-7.72 7.72c-.78.78-.78 2.05 0 2.83L4 21.41c.39.39.9.59 1.41.59.51 0 1.02-.2 1.41-.59l7.78-7.78 2.81-2.81c.8-.78.8-2.07 0-2.86zM5.41 20L4 18.59l7.72-7.72 1.47 1.35L5.41 20z\"/>\n",
              "  </svg>\n",
              "      </button>\n",
              "      \n",
              "  <style>\n",
              "    .colab-df-container {\n",
              "      display:flex;\n",
              "      flex-wrap:wrap;\n",
              "      gap: 12px;\n",
              "    }\n",
              "\n",
              "    .colab-df-convert {\n",
              "      background-color: #E8F0FE;\n",
              "      border: none;\n",
              "      border-radius: 50%;\n",
              "      cursor: pointer;\n",
              "      display: none;\n",
              "      fill: #1967D2;\n",
              "      height: 32px;\n",
              "      padding: 0 0 0 0;\n",
              "      width: 32px;\n",
              "    }\n",
              "\n",
              "    .colab-df-convert:hover {\n",
              "      background-color: #E2EBFA;\n",
              "      box-shadow: 0px 1px 2px rgba(60, 64, 67, 0.3), 0px 1px 3px 1px rgba(60, 64, 67, 0.15);\n",
              "      fill: #174EA6;\n",
              "    }\n",
              "\n",
              "    [theme=dark] .colab-df-convert {\n",
              "      background-color: #3B4455;\n",
              "      fill: #D2E3FC;\n",
              "    }\n",
              "\n",
              "    [theme=dark] .colab-df-convert:hover {\n",
              "      background-color: #434B5C;\n",
              "      box-shadow: 0px 1px 3px 1px rgba(0, 0, 0, 0.15);\n",
              "      filter: drop-shadow(0px 1px 2px rgba(0, 0, 0, 0.3));\n",
              "      fill: #FFFFFF;\n",
              "    }\n",
              "  </style>\n",
              "\n",
              "      <script>\n",
              "        const buttonEl =\n",
              "          document.querySelector('#df-506e275c-9657-48cd-a5e9-15c625060e32 button.colab-df-convert');\n",
              "        buttonEl.style.display =\n",
              "          google.colab.kernel.accessAllowed ? 'block' : 'none';\n",
              "\n",
              "        async function convertToInteractive(key) {\n",
              "          const element = document.querySelector('#df-506e275c-9657-48cd-a5e9-15c625060e32');\n",
              "          const dataTable =\n",
              "            await google.colab.kernel.invokeFunction('convertToInteractive',\n",
              "                                                     [key], {});\n",
              "          if (!dataTable) return;\n",
              "\n",
              "          const docLinkHtml = 'Like what you see? Visit the ' +\n",
              "            '<a target=\"_blank\" href=https://colab.research.google.com/notebooks/data_table.ipynb>data table notebook</a>'\n",
              "            + ' to learn more about interactive tables.';\n",
              "          element.innerHTML = '';\n",
              "          dataTable['output_type'] = 'display_data';\n",
              "          await google.colab.output.renderOutput(dataTable, element);\n",
              "          const docLink = document.createElement('div');\n",
              "          docLink.innerHTML = docLinkHtml;\n",
              "          element.appendChild(docLink);\n",
              "        }\n",
              "      </script>\n",
              "    </div>\n",
              "  </div>\n",
              "  "
            ],
            "text/plain": [
              "      Exam 1     Exam 2  Admitted\n",
              "0  34.623660  78.024693         0\n",
              "1  30.286711  43.894998         0\n",
              "2  35.847409  72.902198         0\n",
              "3  60.182599  86.308552         1\n",
              "4  79.032736  75.344376         1"
            ]
          },
          "metadata": {},
          "execution_count": 511
        }
      ],
      "source": [
        "path = 'ex2data1.txt'\n",
        "data = pd.read_csv(path, header=None, names=['Exam 1', 'Exam 2', 'Admitted'])\n",
        "data.head()"
      ]
    },
    {
      "cell_type": "markdown",
      "metadata": {
        "id": "IrcMlFoZt0tG"
      },
      "source": [
        "让我们创建两个分数的散点图，并使用颜色编码来可视化，如果样本是正的（被接纳）或负的（未被接纳）。"
      ]
    },
    {
      "cell_type": "code",
      "execution_count": 512,
      "metadata": {
        "colab": {
          "base_uri": "https://localhost:8080/",
          "height": 496
        },
        "id": "HxNPtGzit0tH",
        "outputId": "53e20412-5267-4dd6-ac26-789731b6509b"
      },
      "outputs": [
        {
          "output_type": "display_data",
          "data": {
            "image/png": "[encoded data removed]",
            "text/plain": [
              "<Figure size 864x576 with 1 Axes>"
            ]
          },
          "metadata": {
            "needs_background": "light"
          }
        }
      ],
      "source": [
        "positive = data[data['Admitted'].isin([1])]\n",
        "negative = data[data['Admitted'].isin([0])]\n",
        "\n",
        "fig, ax = plt.subplots(figsize=(12,8))\n",
        "ax.scatter(positive['Exam 1'], positive['Exam 2'], s=50, c='b', marker='o', label='Admitted')\n",
        "ax.scatter(negative['Exam 1'], negative['Exam 2'], s=50, c='r', marker='x', label='Not Admitted')\n",
        "ax.legend()\n",
        "ax.set_xlabel('Exam 1 Score')\n",
        "ax.set_ylabel('Exam 2 Score')\n",
        "plt.show()"
      ]
    },
    {
      "cell_type": "markdown",
      "metadata": {
        "id": "XazehtRqt0tH"
      },
      "source": [
        "看起来在两类间，有一个清晰的决策边界。现在我们需要实现逻辑回归，那样就可以训练一个模型来预测结果。方程实现在下面的代码示例在\"exercises\" 文件夹的 \"ex2.pdf\" 中。"
      ]
    },
    {
      "cell_type": "markdown",
      "source": [
        "build model"
      ],
      "metadata": {
        "id": "bZ_U-IHJIUTJ"
      }
    },
    {
      "cell_type": "code",
      "source": [
        "class LogisticRegression(torch.nn.Module):\n",
        "    def __init__(self, input_dim, output_dim): \n",
        "        super(LogisticRegression,self).__init__()\n",
        "        self.linear = torch.nn.Linear(input_dim,output_dim)\n",
        "        #  \n",
        "        self.criterion = torch.nn.BCELoss(reduction = 'mean')\n",
        "\n",
        "    def forward(self,x):\n",
        "        y_pred = torch.sigmoid(self.linear(x))\n",
        "        return y_pred\n",
        "    def cal_loss(self, pred, target):\n",
        "        x = self.criterion(pred,target)\n",
        "        return x"
      ],
      "metadata": {
        "id": "UHJMk0EmEqsD"
      },
      "execution_count": 513,
      "outputs": []
    },
    {
      "cell_type": "markdown",
      "source": [
        "initialize model"
      ],
      "metadata": {
        "id": "CPOd1zFLIXIJ"
      }
    },
    {
      "cell_type": "code",
      "source": [
        "epochs = 200\n",
        "input_dim = 2 # Two inputs x1 and x2 \n",
        "output_dim = 1 # Single binary output \n",
        "learning_rate = 0.0001"
      ],
      "metadata": {
        "id": "1ppb6h6SIWo_"
      },
      "execution_count": 514,
      "outputs": []
    },
    {
      "cell_type": "markdown",
      "source": [
        "Step 4: Initializing the Loss Function and the Optimizer[link text](https://)"
      ],
      "metadata": {
        "id": "lvs4O2FIIxWM"
      }
    },
    {
      "cell_type": "code",
      "source": [
        "model = LogisticRegression(input_dim,output_dim)"
      ],
      "metadata": {
        "id": "YyN-nb1EIttz"
      },
      "execution_count": 515,
      "outputs": []
    },
    {
      "cell_type": "code",
      "source": [
        "optimizer = torch.optim.SGD(model.parameters(), lr=learning_rate)"
      ],
      "metadata": {
        "id": "liejeDKqI4u_"
      },
      "execution_count": 517,
      "outputs": []
    },
    {
      "cell_type": "markdown",
      "source": [
        "Step 5: Train the Model\n"
      ],
      "metadata": {
        "id": "LqtrTGrRI8rx"
      }
    },
    {
      "cell_type": "code",
      "source": [
        "# add a ones column - this makes the matrix multiplication work out easier\n",
        "#data.insert(0, 'Ones', 1)\n",
        "\n",
        "# set X (training data) and y (target variable)\n",
        "cols = data.shape[1]\n",
        "print(cols)\n",
        "X = data.iloc[:,0:cols-1]\n",
        "y = data.iloc[:,cols-1:cols]\n",
        "\n",
        " \n",
        "\n",
        "# convert to numpy arrays and initalize the parameter array theta\n",
        "#X = np.array(X.values)\n",
        "#y = np.array(y.values)\n",
        "#theta = np.zeros(3)\n",
        "\n",
        "from torch.autograd import Variable\n",
        "\n",
        "X = np.array(X)\n",
        "y = np.array(y)\n",
        " "
      ],
      "metadata": {
        "id": "rvl13nAFI-Qv",
        "outputId": "38d289b1-9ca6-4d2d-d7ce-db1938c224ba",
        "colab": {
          "base_uri": "https://localhost:8080/"
        }
      },
      "execution_count": 552,
      "outputs": [
        {
          "output_type": "stream",
          "name": "stdout",
          "text": [
            "4\n"
          ]
        }
      ]
    },
    {
      "cell_type": "code",
      "source": [
        "criterion = torch.nn.BCELoss()\n",
        "theta = np.zeros(3)\n",
        " \n",
        " \n",
        "criterion(y,y)"
      ],
      "metadata": {
        "id": "seD9YiWsIvO3",
        "outputId": "ed401f64-8545-4a71-a6dc-f03b8890742c",
        "colab": {
          "base_uri": "https://localhost:8080/",
          "height": 398
        }
      },
      "execution_count": 568,
      "outputs": [
        {
          "output_type": "error",
          "ename": "TypeError",
          "evalue": "ignored",
          "traceback": [
            "\u001b[0;31m---------------------------------------------------------------------------\u001b[0m",
            "\u001b[0;31mTypeError\u001b[0m                                 Traceback (most recent call last)",
            "\u001b[0;32m<ipython-input-568-984264ff6176>\u001b[0m in \u001b[0;36m<module>\u001b[0;34m()\u001b[0m\n\u001b[1;32m      3\u001b[0m \u001b[0;34m\u001b[0m\u001b[0m\n\u001b[1;32m      4\u001b[0m \u001b[0;34m\u001b[0m\u001b[0m\n\u001b[0;32m----> 5\u001b[0;31m \u001b[0mcriterion\u001b[0m\u001b[0;34m(\u001b[0m\u001b[0my\u001b[0m\u001b[0;34m,\u001b[0m\u001b[0my\u001b[0m\u001b[0;34m)\u001b[0m\u001b[0;34m\u001b[0m\u001b[0;34m\u001b[0m\u001b[0m\n\u001b[0m",
            "\u001b[0;32m/usr/local/lib/python3.7/dist-packages/torch/nn/modules/module.py\u001b[0m in \u001b[0;36m_call_impl\u001b[0;34m(self, *input, **kwargs)\u001b[0m\n\u001b[1;32m   1100\u001b[0m         if not (self._backward_hooks or self._forward_hooks or self._forward_pre_hooks or _global_backward_hooks\n\u001b[1;32m   1101\u001b[0m                 or _global_forward_hooks or _global_forward_pre_hooks):\n\u001b[0;32m-> 1102\u001b[0;31m             \u001b[0;32mreturn\u001b[0m \u001b[0mforward_call\u001b[0m\u001b[0;34m(\u001b[0m\u001b[0;34m*\u001b[0m\u001b[0minput\u001b[0m\u001b[0;34m,\u001b[0m \u001b[0;34m**\u001b[0m\u001b[0mkwargs\u001b[0m\u001b[0;34m)\u001b[0m\u001b[0;34m\u001b[0m\u001b[0;34m\u001b[0m\u001b[0m\n\u001b[0m\u001b[1;32m   1103\u001b[0m         \u001b[0;31m# Do not call functions when jit is used\u001b[0m\u001b[0;34m\u001b[0m\u001b[0;34m\u001b[0m\u001b[0;34m\u001b[0m\u001b[0m\n\u001b[1;32m   1104\u001b[0m         \u001b[0mfull_backward_hooks\u001b[0m\u001b[0;34m,\u001b[0m \u001b[0mnon_full_backward_hooks\u001b[0m \u001b[0;34m=\u001b[0m \u001b[0;34m[\u001b[0m\u001b[0;34m]\u001b[0m\u001b[0;34m,\u001b[0m \u001b[0;34m[\u001b[0m\u001b[0;34m]\u001b[0m\u001b[0;34m\u001b[0m\u001b[0;34m\u001b[0m\u001b[0m\n",
            "\u001b[0;32m/usr/local/lib/python3.7/dist-packages/torch/nn/modules/loss.py\u001b[0m in \u001b[0;36mforward\u001b[0;34m(self, input, target)\u001b[0m\n\u001b[1;32m    601\u001b[0m \u001b[0;34m\u001b[0m\u001b[0m\n\u001b[1;32m    602\u001b[0m     \u001b[0;32mdef\u001b[0m \u001b[0mforward\u001b[0m\u001b[0;34m(\u001b[0m\u001b[0mself\u001b[0m\u001b[0;34m,\u001b[0m \u001b[0minput\u001b[0m\u001b[0;34m:\u001b[0m \u001b[0mTensor\u001b[0m\u001b[0;34m,\u001b[0m \u001b[0mtarget\u001b[0m\u001b[0;34m:\u001b[0m \u001b[0mTensor\u001b[0m\u001b[0;34m)\u001b[0m \u001b[0;34m->\u001b[0m \u001b[0mTensor\u001b[0m\u001b[0;34m:\u001b[0m\u001b[0;34m\u001b[0m\u001b[0;34m\u001b[0m\u001b[0m\n\u001b[0;32m--> 603\u001b[0;31m         \u001b[0;32mreturn\u001b[0m \u001b[0mF\u001b[0m\u001b[0;34m.\u001b[0m\u001b[0mbinary_cross_entropy\u001b[0m\u001b[0;34m(\u001b[0m\u001b[0minput\u001b[0m\u001b[0;34m,\u001b[0m \u001b[0mtarget\u001b[0m\u001b[0;34m,\u001b[0m \u001b[0mweight\u001b[0m\u001b[0;34m=\u001b[0m\u001b[0mself\u001b[0m\u001b[0;34m.\u001b[0m\u001b[0mweight\u001b[0m\u001b[0;34m,\u001b[0m \u001b[0mreduction\u001b[0m\u001b[0;34m=\u001b[0m\u001b[0mself\u001b[0m\u001b[0;34m.\u001b[0m\u001b[0mreduction\u001b[0m\u001b[0;34m)\u001b[0m\u001b[0;34m\u001b[0m\u001b[0;34m\u001b[0m\u001b[0m\n\u001b[0m\u001b[1;32m    604\u001b[0m \u001b[0;34m\u001b[0m\u001b[0m\n\u001b[1;32m    605\u001b[0m \u001b[0;34m\u001b[0m\u001b[0m\n",
            "\u001b[0;32m/usr/local/lib/python3.7/dist-packages/torch/nn/functional.py\u001b[0m in \u001b[0;36mbinary_cross_entropy\u001b[0;34m(input, target, weight, size_average, reduce, reduction)\u001b[0m\n\u001b[1;32m   2903\u001b[0m     \u001b[0;32melse\u001b[0m\u001b[0;34m:\u001b[0m\u001b[0;34m\u001b[0m\u001b[0;34m\u001b[0m\u001b[0m\n\u001b[1;32m   2904\u001b[0m         \u001b[0mreduction_enum\u001b[0m \u001b[0;34m=\u001b[0m \u001b[0m_Reduction\u001b[0m\u001b[0;34m.\u001b[0m\u001b[0mget_enum\u001b[0m\u001b[0;34m(\u001b[0m\u001b[0mreduction\u001b[0m\u001b[0;34m)\u001b[0m\u001b[0;34m\u001b[0m\u001b[0;34m\u001b[0m\u001b[0m\n\u001b[0;32m-> 2905\u001b[0;31m     \u001b[0;32mif\u001b[0m \u001b[0mtarget\u001b[0m\u001b[0;34m.\u001b[0m\u001b[0msize\u001b[0m\u001b[0;34m(\u001b[0m\u001b[0;34m)\u001b[0m \u001b[0;34m!=\u001b[0m \u001b[0minput\u001b[0m\u001b[0;34m.\u001b[0m\u001b[0msize\u001b[0m\u001b[0;34m(\u001b[0m\u001b[0;34m)\u001b[0m\u001b[0;34m:\u001b[0m\u001b[0;34m\u001b[0m\u001b[0;34m\u001b[0m\u001b[0m\n\u001b[0m\u001b[1;32m   2906\u001b[0m         raise ValueError(\n\u001b[1;32m   2907\u001b[0m             \u001b[0;34m\"Using a target size ({}) that is different to the input size ({}) is deprecated. \"\u001b[0m\u001b[0;34m\u001b[0m\u001b[0;34m\u001b[0m\u001b[0m\n",
            "\u001b[0;31mTypeError\u001b[0m: 'int' object is not callable"
          ]
        }
      ]
    },
    {
      "cell_type": "markdown",
      "source": [
        "First, we convert our inputs and labels from numpy arrays to tensors.\n"
      ],
      "metadata": {
        "id": "XYsqyrDBKJOB"
      }
    },
    {
      "cell_type": "code",
      "source": [
        "##### For GPU #######\n",
        "if torch.cuda.is_available():\n",
        "    model.cuda()"
      ],
      "metadata": {
        "id": "HIXZI4j1KJ-I"
      },
      "execution_count": 519,
      "outputs": []
    },
    {
      "cell_type": "code",
      "source": [
        "#X, y = torch.Tensor(X),torch.Tensor(y)"
      ],
      "metadata": {
        "id": "uPt-YuPOKQTo"
      },
      "execution_count": 520,
      "outputs": []
    },
    {
      "cell_type": "code",
      "source": [
        "for epoch in range(epochs):\n",
        "    # Converting inputs and labels to Variable (Gpu)\n",
        "    if torch.cuda.is_available():\n",
        "        inputs = Variable(torch.from_numpy(X).cuda())\n",
        "        labels = Variable(torch.from_numpy(y).cuda())\n",
        "    else:\n",
        "        inputs = Variable(torch.from_numpy(X))\n",
        "        \n",
        "        labels = Variable(torch.from_numpy(y))\n",
        "    optimizer.zero_grad()\n",
        "        # get output from the model, given the inputs\n",
        "    outputs = model(inputs.float())\n",
        "    mse_loss = model.cal_loss(outputs.float(), labels.float())  # compute loss\n",
        "    mse_loss.backward()\n",
        "\n",
        "    # update parameters\n",
        "    optimizer.step()\n",
        "\n",
        "    print('epoch {}, loss {}'.format(epoch, mse_loss.item()))"
      ],
      "metadata": {
        "id": "71zPdeY-fY88",
        "outputId": "9863eb67-1858-492b-f9e3-7f04f5e9a573",
        "colab": {
          "base_uri": "https://localhost:8080/"
        }
      },
      "execution_count": 521,
      "outputs": [
        {
          "output_type": "stream",
          "name": "stdout",
          "text": [
            "epoch 0, loss 2.741011619567871\n",
            "epoch 1, loss 2.6166131496429443\n",
            "epoch 2, loss 2.5033833980560303\n",
            "epoch 3, loss 2.4006597995758057\n",
            "epoch 4, loss 2.307865619659424\n",
            "epoch 5, loss 2.22440505027771\n",
            "epoch 6, loss 2.149651527404785\n",
            "epoch 7, loss 2.0829246044158936\n",
            "epoch 8, loss 2.023505687713623\n",
            "epoch 9, loss 1.9706655740737915\n",
            "epoch 10, loss 1.9237282276153564\n",
            "epoch 11, loss 1.8820332288742065\n",
            "epoch 12, loss 1.8450580835342407\n",
            "epoch 13, loss 1.812249779701233\n",
            "epoch 14, loss 1.7831742763519287\n",
            "epoch 15, loss 1.7573738098144531\n",
            "epoch 16, loss 1.7345647811889648\n",
            "epoch 17, loss 1.7143398523330688\n",
            "epoch 18, loss 1.6963990926742554\n",
            "epoch 19, loss 1.680484414100647\n",
            "epoch 20, loss 1.6662914752960205\n",
            "epoch 21, loss 1.6537474393844604\n",
            "epoch 22, loss 1.6424200534820557\n",
            "epoch 23, loss 1.6323411464691162\n",
            "epoch 24, loss 1.6232670545578003\n",
            "epoch 25, loss 1.6149367094039917\n",
            "epoch 26, loss 1.6074239015579224\n",
            "epoch 27, loss 1.6005080938339233\n",
            "epoch 28, loss 1.5941898822784424\n",
            "epoch 29, loss 1.5882853269577026\n",
            "epoch 30, loss 1.5827940702438354\n",
            "epoch 31, loss 1.5776121616363525\n",
            "epoch 32, loss 1.5727349519729614\n",
            "epoch 33, loss 1.5681109428405762\n",
            "epoch 34, loss 1.5636433362960815\n",
            "epoch 35, loss 1.5593581199645996\n",
            "epoch 36, loss 1.5552635192871094\n",
            "epoch 37, loss 1.5513323545455933\n",
            "epoch 38, loss 1.5474121570587158\n",
            "epoch 39, loss 1.5436152219772339\n",
            "epoch 40, loss 1.5399807691574097\n",
            "epoch 41, loss 1.5363030433654785\n",
            "epoch 42, loss 1.5327568054199219\n",
            "epoch 43, loss 1.529294490814209\n",
            "epoch 44, loss 1.5257493257522583\n",
            "epoch 45, loss 1.52236008644104\n",
            "epoch 46, loss 1.5189398527145386\n",
            "epoch 47, loss 1.515575885772705\n",
            "epoch 48, loss 1.5122570991516113\n",
            "epoch 49, loss 1.5088428258895874\n",
            "epoch 50, loss 1.5055568218231201\n",
            "epoch 51, loss 1.5022194385528564\n",
            "epoch 52, loss 1.49900484085083\n",
            "epoch 53, loss 1.4956955909729004\n",
            "epoch 54, loss 1.4924157857894897\n",
            "epoch 55, loss 1.4891648292541504\n",
            "epoch 56, loss 1.4859412908554077\n",
            "epoch 57, loss 1.482669472694397\n",
            "epoch 58, loss 1.479457139968872\n",
            "epoch 59, loss 1.4762006998062134\n",
            "epoch 60, loss 1.473028302192688\n",
            "epoch 61, loss 1.4698128700256348\n",
            "epoch 62, loss 1.4666224718093872\n",
            "epoch 63, loss 1.463417649269104\n",
            "epoch 64, loss 1.460169792175293\n",
            "epoch 65, loss 1.4570062160491943\n",
            "epoch 66, loss 1.4538055658340454\n",
            "epoch 67, loss 1.4506438970565796\n",
            "epoch 68, loss 1.4474482536315918\n",
            "epoch 69, loss 1.4442741870880127\n",
            "epoch 70, loss 1.4411187171936035\n",
            "epoch 71, loss 1.437899112701416\n",
            "epoch 72, loss 1.434744119644165\n",
            "epoch 73, loss 1.4315693378448486\n",
            "epoch 74, loss 1.4284113645553589\n",
            "epoch 75, loss 1.4252429008483887\n",
            "epoch 76, loss 1.4220880270004272\n",
            "epoch 77, loss 1.4189214706420898\n",
            "epoch 78, loss 1.415779709815979\n",
            "epoch 79, loss 1.412613868713379\n",
            "epoch 80, loss 1.4094716310501099\n",
            "epoch 81, loss 1.4063422679901123\n",
            "epoch 82, loss 1.4031763076782227\n",
            "epoch 83, loss 1.4000636339187622\n",
            "epoch 84, loss 1.3969119787216187\n",
            "epoch 85, loss 1.3937954902648926\n",
            "epoch 86, loss 1.3906272649765015\n",
            "epoch 87, loss 1.387528657913208\n",
            "epoch 88, loss 1.3843919038772583\n",
            "epoch 89, loss 1.381276249885559\n",
            "epoch 90, loss 1.3781328201293945\n",
            "epoch 91, loss 1.3750349283218384\n",
            "epoch 92, loss 1.371924877166748\n",
            "epoch 93, loss 1.3688158988952637\n",
            "epoch 94, loss 1.3657002449035645\n",
            "epoch 95, loss 1.3626095056533813\n",
            "epoch 96, loss 1.3595118522644043\n",
            "epoch 97, loss 1.3563913106918335\n",
            "epoch 98, loss 1.3533129692077637\n",
            "epoch 99, loss 1.3502295017242432\n",
            "epoch 100, loss 1.3471267223358154\n",
            "epoch 101, loss 1.3440468311309814\n",
            "epoch 102, loss 1.340966820716858\n",
            "epoch 103, loss 1.3378806114196777\n",
            "epoch 104, loss 1.3347893953323364\n",
            "epoch 105, loss 1.3317277431488037\n",
            "epoch 106, loss 1.328672170639038\n",
            "epoch 107, loss 1.3256022930145264\n",
            "epoch 108, loss 1.3225384950637817\n",
            "epoch 109, loss 1.3194756507873535\n",
            "epoch 110, loss 1.3164280652999878\n",
            "epoch 111, loss 1.3133739233016968\n",
            "epoch 112, loss 1.3103245496749878\n",
            "epoch 113, loss 1.3072845935821533\n",
            "epoch 114, loss 1.3042442798614502\n",
            "epoch 115, loss 1.3011974096298218\n",
            "epoch 116, loss 1.2981593608856201\n",
            "epoch 117, loss 1.2951397895812988\n",
            "epoch 118, loss 1.2920920848846436\n",
            "epoch 119, loss 1.2890759706497192\n",
            "epoch 120, loss 1.2860625982284546\n",
            "epoch 121, loss 1.28303861618042\n",
            "epoch 122, loss 1.2800321578979492\n",
            "epoch 123, loss 1.2770156860351562\n",
            "epoch 124, loss 1.2740052938461304\n",
            "epoch 125, loss 1.2710051536560059\n",
            "epoch 126, loss 1.2680068016052246\n",
            "epoch 127, loss 1.2650163173675537\n",
            "epoch 128, loss 1.2620259523391724\n",
            "epoch 129, loss 1.259035587310791\n",
            "epoch 130, loss 1.256047010421753\n",
            "epoch 131, loss 1.253076195716858\n",
            "epoch 132, loss 1.2501006126403809\n",
            "epoch 133, loss 1.2471210956573486\n",
            "epoch 134, loss 1.2441520690917969\n",
            "epoch 135, loss 1.2411917448043823\n",
            "epoch 136, loss 1.2382227182388306\n",
            "epoch 137, loss 1.2352721691131592\n",
            "epoch 138, loss 1.232319951057434\n",
            "epoch 139, loss 1.229365587234497\n",
            "epoch 140, loss 1.226422905921936\n",
            "epoch 141, loss 1.2234805822372437\n",
            "epoch 142, loss 1.2205510139465332\n",
            "epoch 143, loss 1.2176179885864258\n",
            "epoch 144, loss 1.2146881818771362\n",
            "epoch 145, loss 1.2117657661437988\n",
            "epoch 146, loss 1.2088454961776733\n",
            "epoch 147, loss 1.2059268951416016\n",
            "epoch 148, loss 1.2030181884765625\n",
            "epoch 149, loss 1.200109601020813\n",
            "epoch 150, loss 1.1972107887268066\n",
            "epoch 151, loss 1.1943106651306152\n",
            "epoch 152, loss 1.1914150714874268\n",
            "epoch 153, loss 1.1885226964950562\n",
            "epoch 154, loss 1.1856369972229004\n",
            "epoch 155, loss 1.1827558279037476\n",
            "epoch 156, loss 1.1798784732818604\n",
            "epoch 157, loss 1.1770048141479492\n",
            "epoch 158, loss 1.1741392612457275\n",
            "epoch 159, loss 1.1712733507156372\n",
            "epoch 160, loss 1.1684157848358154\n",
            "epoch 161, loss 1.1655607223510742\n",
            "epoch 162, loss 1.1627131700515747\n",
            "epoch 163, loss 1.159864902496338\n",
            "epoch 164, loss 1.157028317451477\n",
            "epoch 165, loss 1.1541919708251953\n",
            "epoch 166, loss 1.1513621807098389\n",
            "epoch 167, loss 1.148535966873169\n",
            "epoch 168, loss 1.1457140445709229\n",
            "epoch 169, loss 1.142896294593811\n",
            "epoch 170, loss 1.1400854587554932\n",
            "epoch 171, loss 1.1372780799865723\n",
            "epoch 172, loss 1.1344739198684692\n",
            "epoch 173, loss 1.1316792964935303\n",
            "epoch 174, loss 1.1288886070251465\n",
            "epoch 175, loss 1.1261004209518433\n",
            "epoch 176, loss 1.123316764831543\n",
            "epoch 177, loss 1.1205427646636963\n",
            "epoch 178, loss 1.117769479751587\n",
            "epoch 179, loss 1.1150027513504028\n",
            "epoch 180, loss 1.1122428178787231\n",
            "epoch 181, loss 1.109484076499939\n",
            "epoch 182, loss 1.1067339181900024\n",
            "epoch 183, loss 1.1039880514144897\n",
            "epoch 184, loss 1.1012474298477173\n",
            "epoch 185, loss 1.0985114574432373\n",
            "epoch 186, loss 1.095780849456787\n",
            "epoch 187, loss 1.0930577516555786\n",
            "epoch 188, loss 1.090336799621582\n",
            "epoch 189, loss 1.0876250267028809\n",
            "epoch 190, loss 1.084916353225708\n",
            "epoch 191, loss 1.0822123289108276\n",
            "epoch 192, loss 1.0795150995254517\n",
            "epoch 193, loss 1.0768219232559204\n",
            "epoch 194, loss 1.0741366147994995\n",
            "epoch 195, loss 1.0714569091796875\n",
            "epoch 196, loss 1.0687810182571411\n",
            "epoch 197, loss 1.0661115646362305\n",
            "epoch 198, loss 1.0634478330612183\n",
            "epoch 199, loss 1.0607919692993164\n"
          ]
        }
      ]
    },
    {
      "cell_type": "markdown",
      "source": [
        "Next, we build our training loop and store the losses. Every so often we can also print out the accuracy on the test data to see how our model is doing"
      ],
      "metadata": {
        "id": "ZfvYPqBlKgMC"
      }
    },
    {
      "cell_type": "markdown",
      "metadata": {
        "id": "ugBo3QxGt0tI"
      },
      "source": [
        "# sigmoid 函数\n",
        "g 代表一个常用的逻辑函数（logistic function）为S形函数（Sigmoid function），公式为： \\\\[g\\left( z \\right)=\\frac{1}{1+{{e}^{-z}}}\\\\] \n",
        "合起来，我们得到逻辑回归模型的假设函数： \n",
        "\t\\\\[{{h}_{\\theta }}\\left( x \\right)=\\frac{1}{1+{{e}^{-{{\\theta }^{T}}X}}}\\\\] "
      ]
    },
    {
      "cell_type": "code",
      "execution_count": 522,
      "metadata": {
        "collapsed": true,
        "id": "783dfRz-t0tI"
      },
      "outputs": [],
      "source": [
        "def sigmoid(z):\n",
        "    return 1 / (1 + np.exp(-z))"
      ]
    },
    {
      "cell_type": "markdown",
      "metadata": {
        "id": "mK4mw4HXt0tJ"
      },
      "source": [
        "让我们做一个快速的检查，来确保它可以工作。"
      ]
    },
    {
      "cell_type": "code",
      "execution_count": 523,
      "metadata": {
        "id": "SgUk4jC9t0tJ",
        "outputId": "bb288054-965a-41a6-8dc1-b93da796322c",
        "colab": {
          "base_uri": "https://localhost:8080/",
          "height": 483
        }
      },
      "outputs": [
        {
          "output_type": "display_data",
          "data": {
            "image/png": "[encoded data removed]",
            "text/plain": [
              "<Figure size 864x576 with 1 Axes>"
            ]
          },
          "metadata": {
            "needs_background": "light"
          }
        }
      ],
      "source": [
        "nums = np.arange(-10, 10, step=1)\n",
        "\n",
        "fig, ax = plt.subplots(figsize=(12,8))\n",
        "ax.plot(nums, sigmoid(nums), 'r')\n",
        "plt.show()"
      ]
    },
    {
      "cell_type": "markdown",
      "metadata": {
        "id": "ZY5heKqct0tJ"
      },
      "source": [
        "棒极了！现在，我们需要编写代价函数来评估结果。\n",
        "代价函数：\n",
        "$J\\left( \\theta  \\right)=\\frac{1}{m}\\sum\\limits_{i=1}^{m}{[-{{y}^{(i)}}\\log \\left( {{h}_{\\theta }}\\left( {{x}^{(i)}} \\right) \\right)-\\left( 1-{{y}^{(i)}} \\right)\\log \\left( 1-{{h}_{\\theta }}\\left( {{x}^{(i)}} \\right) \\right)]}$"
      ]
    },
    {
      "cell_type": "code",
      "execution_count": 524,
      "metadata": {
        "collapsed": true,
        "id": "XmZn2wkWt0tK"
      },
      "outputs": [],
      "source": [
        "def cost(theta, X, y):\n",
        "    theta = np.matrix(theta)\n",
        "    X = np.matrix(X)\n",
        "    y = np.matrix(y)\n",
        "    first = np.multiply(-y, np.log(sigmoid(X * theta.T)))\n",
        "    second = np.multiply((1 - y), np.log(1 - sigmoid(X * theta.T)))\n",
        "    return np.sum(first - second) / (len(X))"
      ]
    },
    {
      "cell_type": "markdown",
      "metadata": {
        "id": "wu0_xfact0tK"
      },
      "source": [
        "现在，我们要做一些设置，和我们在练习1在线性回归的练习很相似。"
      ]
    },
    {
      "cell_type": "code",
      "execution_count": 525,
      "metadata": {
        "collapsed": true,
        "id": "CYPsSu5Nt0tK"
      },
      "outputs": [],
      "source": [
        "# add a ones column - this makes the matrix multiplication work out easier\n",
        "data.insert(0, 'Ones', 1)\n",
        "\n",
        "# set X (training data) and y (target variable)\n",
        "cols = data.shape[1]\n",
        "X = data.iloc[:,0:cols-1]\n",
        "y = data.iloc[:,cols-1:cols]\n",
        "\n",
        "# convert to numpy arrays and initalize the parameter array theta\n",
        "X = np.array(X.values)\n",
        "y = np.array(y.values)\n",
        "theta = np.zeros(3)"
      ]
    },
    {
      "cell_type": "markdown",
      "metadata": {
        "id": "11n9M-nut0tL"
      },
      "source": [
        "让我们来检查矩阵的维度来确保一切良好。"
      ]
    },
    {
      "cell_type": "code",
      "execution_count": 526,
      "metadata": {
        "id": "OgVscyylt0tL",
        "outputId": "f8db9c87-435c-426d-9dc2-32675528f33a",
        "colab": {
          "base_uri": "https://localhost:8080/"
        }
      },
      "outputs": [
        {
          "output_type": "execute_result",
          "data": {
            "text/plain": [
              "array([0., 0., 0.])"
            ]
          },
          "metadata": {},
          "execution_count": 526
        }
      ],
      "source": [
        "theta"
      ]
    },
    {
      "cell_type": "code",
      "execution_count": 527,
      "metadata": {
        "id": "3DEuhp90t0tL",
        "outputId": "2f33cbfd-26ad-4c1b-ea74-f401b102cc46",
        "colab": {
          "base_uri": "https://localhost:8080/"
        }
      },
      "outputs": [
        {
          "output_type": "execute_result",
          "data": {
            "text/plain": [
              "((100, 3), (3,), (100, 1))"
            ]
          },
          "metadata": {},
          "execution_count": 527
        }
      ],
      "source": [
        "X.shape, theta.shape, y.shape"
      ]
    },
    {
      "cell_type": "markdown",
      "metadata": {
        "id": "nfERukwXt0tL"
      },
      "source": [
        "让我们计算初始化参数的代价函数(theta为0)。"
      ]
    },
    {
      "cell_type": "code",
      "execution_count": 528,
      "metadata": {
        "id": "M031YkFst0tM",
        "outputId": "8d914084-74af-41f6-a77d-b8ade5bdf89d",
        "colab": {
          "base_uri": "https://localhost:8080/"
        }
      },
      "outputs": [
        {
          "output_type": "execute_result",
          "data": {
            "text/plain": [
              "0.6931471805599453"
            ]
          },
          "metadata": {},
          "execution_count": 528
        }
      ],
      "source": [
        "cost(theta, X, y)"
      ]
    },
    {
      "cell_type": "markdown",
      "metadata": {
        "id": "OsirRBy-t0tM"
      },
      "source": [
        "看起来不错，接下来，我们需要一个函数来计算我们的训练数据、标签和一些参数thata的梯度。"
      ]
    },
    {
      "cell_type": "markdown",
      "metadata": {
        "id": "5p-ziUDJt0tM"
      },
      "source": [
        "# gradient descent(梯度下降)\n",
        "* 这是批量梯度下降（batch gradient descent）  \n",
        "* 转化为向量化计算： $\\frac{1}{m} X^T( Sigmoid(X\\theta) - y )$\n",
        "$$\\frac{\\partial J\\left( \\theta  \\right)}{\\partial {{\\theta }_{j}}}=\\frac{1}{m}\\sum\\limits_{i=1}^{m}{({{h}_{\\theta }}\\left( {{x}^{(i)}} \\right)-{{y}^{(i)}})x_{_{j}}^{(i)}}$$"
      ]
    },
    {
      "cell_type": "code",
      "execution_count": 529,
      "metadata": {
        "collapsed": true,
        "id": "G4ABDz9vt0tM"
      },
      "outputs": [],
      "source": [
        "def gradient(theta, X, y):\n",
        "    theta = np.matrix(theta)\n",
        "    X = np.matrix(X)\n",
        "    y = np.matrix(y)\n",
        "    \n",
        "    parameters = int(theta.ravel().shape[1])\n",
        "    grad = np.zeros(parameters)\n",
        "    \n",
        "    error = sigmoid(X * theta.T) - y\n",
        "    \n",
        "    for i in range(parameters):\n",
        "        term = np.multiply(error, X[:,i])\n",
        "        grad[i] = np.sum(term) / len(X)\n",
        "    \n",
        "    return grad"
      ]
    },
    {
      "cell_type": "markdown",
      "metadata": {
        "id": "XI8jXxWPt0tM"
      },
      "source": [
        "注意，我们实际上没有在这个函数中执行梯度下降，我们仅仅在计算一个梯度步长。在练习中，一个称为“fminunc”的Octave函数是用来优化函数来计算成本和梯度参数。由于我们使用Python，我们可以用SciPy的“optimize”命名空间来做同样的事情。"
      ]
    },
    {
      "cell_type": "markdown",
      "metadata": {
        "id": "4BXGxNVwt0tN"
      },
      "source": [
        "我们看看用我们的数据和初始参数为0的梯度下降法的结果。"
      ]
    },
    {
      "cell_type": "code",
      "execution_count": 530,
      "metadata": {
        "id": "77erS_iwt0tN",
        "outputId": "d2806603-6996-4222-8cd9-85caad07ce6a",
        "colab": {
          "base_uri": "https://localhost:8080/"
        }
      },
      "outputs": [
        {
          "output_type": "execute_result",
          "data": {
            "text/plain": [
              "array([ -0.1       , -12.00921659, -11.26284221])"
            ]
          },
          "metadata": {},
          "execution_count": 530
        }
      ],
      "source": [
        "gradient(theta, X, y)"
      ]
    },
    {
      "cell_type": "markdown",
      "metadata": {
        "id": "thK3cMbCt0tN"
      },
      "source": [
        "现在可以用SciPy's truncated newton（TNC）实现寻找最优参数。"
      ]
    },
    {
      "cell_type": "code",
      "execution_count": 531,
      "metadata": {
        "id": "g0u89TZpt0tN",
        "outputId": "bec06db1-d8e5-4cd3-8a65-e220bdfd92fd",
        "colab": {
          "base_uri": "https://localhost:8080/"
        }
      },
      "outputs": [
        {
          "output_type": "execute_result",
          "data": {
            "text/plain": [
              "(array([-25.16131861,   0.20623159,   0.20147149]), 36, 0)"
            ]
          },
          "metadata": {},
          "execution_count": 531
        }
      ],
      "source": [
        "import scipy.optimize as opt\n",
        "result = opt.fmin_tnc(func=cost, x0=theta, fprime=gradient, args=(X, y))\n",
        "result"
      ]
    },
    {
      "cell_type": "markdown",
      "metadata": {
        "id": "yDQiiOYst0tN"
      },
      "source": [
        "让我们看看在这个结论下代价函数计算结果是什么个样子~"
      ]
    },
    {
      "cell_type": "code",
      "execution_count": 532,
      "metadata": {
        "id": "KfSnAlaYt0tO",
        "outputId": "97460e32-8219-4f4b-e656-723e2c76789b",
        "colab": {
          "base_uri": "https://localhost:8080/"
        }
      },
      "outputs": [
        {
          "output_type": "execute_result",
          "data": {
            "text/plain": [
              "0.2034977015894746"
            ]
          },
          "metadata": {},
          "execution_count": 532
        }
      ],
      "source": [
        "cost(result[0], X, y)"
      ]
    },
    {
      "cell_type": "markdown",
      "metadata": {
        "id": "8WVZ409ot0tO"
      },
      "source": [
        "接下来，我们需要编写一个函数，用我们所学的参数theta来为数据集X输出预测。然后，我们可以使用这个函数来给我们的分类器的训练精度打分。\n",
        "逻辑回归模型的假设函数： \n",
        "\t\\\\[{{h}_{\\theta }}\\left( x \\right)=\\frac{1}{1+{{e}^{-{{\\theta }^{T}}X}}}\\\\] \n",
        "当${{h}_{\\theta }}$大于等于0.5时，预测 y=1\n",
        "\n",
        "当${{h}_{\\theta }}$小于0.5时，预测 y=0 。"
      ]
    },
    {
      "cell_type": "code",
      "execution_count": 533,
      "metadata": {
        "collapsed": true,
        "id": "blgtRwvXt0tO"
      },
      "outputs": [],
      "source": [
        "def predict(theta, X):\n",
        "    probability = sigmoid(X * theta.T)\n",
        "    return [1 if x >= 0.5 else 0 for x in probability]"
      ]
    },
    {
      "cell_type": "code",
      "execution_count": 534,
      "metadata": {
        "id": "ARQO9y2At0tO",
        "outputId": "a2be5d30-9317-44dd-ea41-db71c6c60309",
        "colab": {
          "base_uri": "https://localhost:8080/"
        }
      },
      "outputs": [
        {
          "output_type": "stream",
          "name": "stdout",
          "text": [
            "accuracy = 89%\n"
          ]
        }
      ],
      "source": [
        "theta_min = np.matrix(result[0])\n",
        "predictions = predict(theta_min, X)\n",
        "correct = [1 if ((a == 1 and b == 1) or (a == 0 and b == 0)) else 0 for (a, b) in zip(predictions, y)]\n",
        "accuracy = (sum(map(int, correct)) % len(correct))\n",
        "print ('accuracy = {0}%'.format(accuracy))"
      ]
    },
    {
      "cell_type": "markdown",
      "metadata": {
        "id": "EjPiNb49t0tP"
      },
      "source": [
        "我们的逻辑回归分类器预测正确，如果一个学生被录取或没有录取，达到89%的精确度。不坏！记住，这是训练集的准确性。我们没有保持住了设置或使用交叉验证得到的真实逼近，所以这个数字有可能高于其真实值（这个话题将在以后说明）。"
      ]
    },
    {
      "cell_type": "markdown",
      "metadata": {
        "id": "Oyd5CXmPt0tP"
      },
      "source": [
        "## 正则化逻辑回归"
      ]
    },
    {
      "cell_type": "markdown",
      "metadata": {
        "id": "UE1SqmFat0tP"
      },
      "source": [
        "在训练的第二部分，我们将要通过加入正则项提升逻辑回归算法。如果你对正则化有点眼生，或者喜欢这一节的方程的背景，请参考在\"exercises\"文件夹中的\"ex2.pdf\"。简而言之，正则化是成本函数中的一个术语，它使算法更倾向于“更简单”的模型（在这种情况下，模型将更小的系数）。这个理论助于减少过拟合，提高模型的泛化能力。这样，我们开始吧。"
      ]
    },
    {
      "cell_type": "markdown",
      "metadata": {
        "id": "2QoIOSzZt0tP"
      },
      "source": [
        "设想你是工厂的生产主管，你有一些芯片在两次测试中的测试结果。对于这两次测试，你想决定是否芯片要被接受或抛弃。为了帮助你做出艰难的决定，你拥有过去芯片的测试数据集，从其中你可以构建一个逻辑回归模型。"
      ]
    },
    {
      "cell_type": "markdown",
      "metadata": {
        "id": "txnZFx84t0tP"
      },
      "source": [
        "和第一部分很像，从数据可视化开始吧！"
      ]
    },
    {
      "cell_type": "code",
      "execution_count": 535,
      "metadata": {
        "id": "5yeWagXqt0tP",
        "outputId": "706bd6ad-698b-4303-f3fb-4543eb8ed9b1",
        "colab": {
          "base_uri": "https://localhost:8080/",
          "height": 0
        }
      },
      "outputs": [
        {
          "output_type": "execute_result",
          "data": {
            "text/html": [
              "\n",
              "  <div id=\"df-84c633c1-8ccd-4520-bf93-97e0aa8fb57b\">\n",
              "    <div class=\"colab-df-container\">\n",
              "      <div>\n",
              "<style scoped>\n",
              "    .dataframe tbody tr th:only-of-type {\n",
              "        vertical-align: middle;\n",
              "    }\n",
              "\n",
              "    .dataframe tbody tr th {\n",
              "        vertical-align: top;\n",
              "    }\n",
              "\n",
              "    .dataframe thead th {\n",
              "        text-align: right;\n",
              "    }\n",
              "</style>\n",
              "<table border=\"1\" class=\"dataframe\">\n",
              "  <thead>\n",
              "    <tr style=\"text-align: right;\">\n",
              "      <th></th>\n",
              "      <th>Test 1</th>\n",
              "      <th>Test 2</th>\n",
              "      <th>Accepted</th>\n",
              "    </tr>\n",
              "  </thead>\n",
              "  <tbody>\n",
              "    <tr>\n",
              "      <th>0</th>\n",
              "      <td>0.051267</td>\n",
              "      <td>0.69956</td>\n",
              "      <td>1</td>\n",
              "    </tr>\n",
              "    <tr>\n",
              "      <th>1</th>\n",
              "      <td>-0.092742</td>\n",
              "      <td>0.68494</td>\n",
              "      <td>1</td>\n",
              "    </tr>\n",
              "    <tr>\n",
              "      <th>2</th>\n",
              "      <td>-0.213710</td>\n",
              "      <td>0.69225</td>\n",
              "      <td>1</td>\n",
              "    </tr>\n",
              "    <tr>\n",
              "      <th>3</th>\n",
              "      <td>-0.375000</td>\n",
              "      <td>0.50219</td>\n",
              "      <td>1</td>\n",
              "    </tr>\n",
              "    <tr>\n",
              "      <th>4</th>\n",
              "      <td>-0.513250</td>\n",
              "      <td>0.46564</td>\n",
              "      <td>1</td>\n",
              "    </tr>\n",
              "  </tbody>\n",
              "</table>\n",
              "</div>\n",
              "      <button class=\"colab-df-convert\" onclick=\"convertToInteractive('df-84c633c1-8ccd-4520-bf93-97e0aa8fb57b')\"\n",
              "              title=\"Convert this dataframe to an interactive table.\"\n",
              "              style=\"display:none;\">\n",
              "        \n",
              "  <svg xmlns=\"http://www.w3.org/2000/svg\" height=\"24px\"viewBox=\"0 0 24 24\"\n",
              "       width=\"24px\">\n",
              "    <path d=\"M0 0h24v24H0V0z\" fill=\"none\"/>\n",
              "    <path d=\"M18.56 5.44l.94 2.06.94-2.06 2.06-.94-2.06-.94-.94-2.06-.94 2.06-2.06.94zm-11 1L8.5 8.5l.94-2.06 2.06-.94-2.06-.94L8.5 2.5l-.94 2.06-2.06.94zm10 10l.94 2.06.94-2.06 2.06-.94-2.06-.94-.94-2.06-.94 2.06-2.06.94z\"/><path d=\"M17.41 7.96l-1.37-1.37c-.4-.4-.92-.59-1.43-.59-.52 0-1.04.2-1.43.59L10.3 9.45l-7.72 7.72c-.78.78-.78 2.05 0 2.83L4 21.41c.39.39.9.59 1.41.59.51 0 1.02-.2 1.41-.59l7.78-7.78 2.81-2.81c.8-.78.8-2.07 0-2.86zM5.41 20L4 18.59l7.72-7.72 1.47 1.35L5.41 20z\"/>\n",
              "  </svg>\n",
              "      </button>\n",
              "      \n",
              "  <style>\n",
              "    .colab-df-container {\n",
              "      display:flex;\n",
              "      flex-wrap:wrap;\n",
              "      gap: 12px;\n",
              "    }\n",
              "\n",
              "    .colab-df-convert {\n",
              "      background-color: #E8F0FE;\n",
              "      border: none;\n",
              "      border-radius: 50%;\n",
              "      cursor: pointer;\n",
              "      display: none;\n",
              "      fill: #1967D2;\n",
              "      height: 32px;\n",
              "      padding: 0 0 0 0;\n",
              "      width: 32px;\n",
              "    }\n",
              "\n",
              "    .colab-df-convert:hover {\n",
              "      background-color: #E2EBFA;\n",
              "      box-shadow: 0px 1px 2px rgba(60, 64, 67, 0.3), 0px 1px 3px 1px rgba(60, 64, 67, 0.15);\n",
              "      fill: #174EA6;\n",
              "    }\n",
              "\n",
              "    [theme=dark] .colab-df-convert {\n",
              "      background-color: #3B4455;\n",
              "      fill: #D2E3FC;\n",
              "    }\n",
              "\n",
              "    [theme=dark] .colab-df-convert:hover {\n",
              "      background-color: #434B5C;\n",
              "      box-shadow: 0px 1px 3px 1px rgba(0, 0, 0, 0.15);\n",
              "      filter: drop-shadow(0px 1px 2px rgba(0, 0, 0, 0.3));\n",
              "      fill: #FFFFFF;\n",
              "    }\n",
              "  </style>\n",
              "\n",
              "      <script>\n",
              "        const buttonEl =\n",
              "          document.querySelector('#df-84c633c1-8ccd-4520-bf93-97e0aa8fb57b button.colab-df-convert');\n",
              "        buttonEl.style.display =\n",
              "          google.colab.kernel.accessAllowed ? 'block' : 'none';\n",
              "\n",
              "        async function convertToInteractive(key) {\n",
              "          const element = document.querySelector('#df-84c633c1-8ccd-4520-bf93-97e0aa8fb57b');\n",
              "          const dataTable =\n",
              "            await google.colab.kernel.invokeFunction('convertToInteractive',\n",
              "                                                     [key], {});\n",
              "          if (!dataTable) return;\n",
              "\n",
              "          const docLinkHtml = 'Like what you see? Visit the ' +\n",
              "            '<a target=\"_blank\" href=https://colab.research.google.com/notebooks/data_table.ipynb>data table notebook</a>'\n",
              "            + ' to learn more about interactive tables.';\n",
              "          element.innerHTML = '';\n",
              "          dataTable['output_type'] = 'display_data';\n",
              "          await google.colab.output.renderOutput(dataTable, element);\n",
              "          const docLink = document.createElement('div');\n",
              "          docLink.innerHTML = docLinkHtml;\n",
              "          element.appendChild(docLink);\n",
              "        }\n",
              "      </script>\n",
              "    </div>\n",
              "  </div>\n",
              "  "
            ],
            "text/plain": [
              "     Test 1   Test 2  Accepted\n",
              "0  0.051267  0.69956         1\n",
              "1 -0.092742  0.68494         1\n",
              "2 -0.213710  0.69225         1\n",
              "3 -0.375000  0.50219         1\n",
              "4 -0.513250  0.46564         1"
            ]
          },
          "metadata": {},
          "execution_count": 535
        }
      ],
      "source": [
        "path =  'ex2data2.txt'\n",
        "data2 = pd.read_csv(path, header=None, names=['Test 1', 'Test 2', 'Accepted'])\n",
        "data2.head()"
      ]
    },
    {
      "cell_type": "code",
      "execution_count": 536,
      "metadata": {
        "id": "-yA1z19bt0tQ",
        "outputId": "3886a790-e31c-488d-9f25-1299b0d36841",
        "colab": {
          "base_uri": "https://localhost:8080/",
          "height": 0
        }
      },
      "outputs": [
        {
          "output_type": "display_data",
          "data": {
            "image/png": "[encoded data removed]",
            "text/plain": [
              "<Figure size 864x576 with 1 Axes>"
            ]
          },
          "metadata": {
            "needs_background": "light"
          }
        }
      ],
      "source": [
        "positive = data2[data2['Accepted'].isin([1])]\n",
        "negative = data2[data2['Accepted'].isin([0])]\n",
        "\n",
        "fig, ax = plt.subplots(figsize=(12,8))\n",
        "ax.scatter(positive['Test 1'], positive['Test 2'], s=50, c='b', marker='o', label='Accepted')\n",
        "ax.scatter(negative['Test 1'], negative['Test 2'], s=50, c='r', marker='x', label='Rejected')\n",
        "ax.legend()\n",
        "ax.set_xlabel('Test 1 Score')\n",
        "ax.set_ylabel('Test 2 Score')\n",
        "plt.show()"
      ]
    },
    {
      "cell_type": "markdown",
      "metadata": {
        "id": "F9lLgD8et0tQ"
      },
      "source": [
        "哇，这个数据看起来可比前一次的复杂得多。特别地，你会注意到其中没有线性决策界限，来良好的分开两类数据。一个方法是用像逻辑回归这样的线性技术来构造从原始特征的多项式中得到的特征。让我们通过创建一组多项式特征入手吧。"
      ]
    },
    {
      "cell_type": "code",
      "execution_count": 537,
      "metadata": {
        "id": "2A9daewnt0tQ",
        "outputId": "9da218a7-b8cb-4504-dc1b-e6f525c47786",
        "colab": {
          "base_uri": "https://localhost:8080/",
          "height": 0
        }
      },
      "outputs": [
        {
          "output_type": "execute_result",
          "data": {
            "text/html": [
              "\n",
              "  <div id=\"df-1287b407-f0cc-4e67-87ca-237b46efd66a\">\n",
              "    <div class=\"colab-df-container\">\n",
              "      <div>\n",
              "<style scoped>\n",
              "    .dataframe tbody tr th:only-of-type {\n",
              "        vertical-align: middle;\n",
              "    }\n",
              "\n",
              "    .dataframe tbody tr th {\n",
              "        vertical-align: top;\n",
              "    }\n",
              "\n",
              "    .dataframe thead th {\n",
              "        text-align: right;\n",
              "    }\n",
              "</style>\n",
              "<table border=\"1\" class=\"dataframe\">\n",
              "  <thead>\n",
              "    <tr style=\"text-align: right;\">\n",
              "      <th></th>\n",
              "      <th>Accepted</th>\n",
              "      <th>Ones</th>\n",
              "      <th>F10</th>\n",
              "      <th>F20</th>\n",
              "      <th>F21</th>\n",
              "      <th>F30</th>\n",
              "      <th>F31</th>\n",
              "      <th>F32</th>\n",
              "      <th>F40</th>\n",
              "      <th>F41</th>\n",
              "      <th>F42</th>\n",
              "      <th>F43</th>\n",
              "    </tr>\n",
              "  </thead>\n",
              "  <tbody>\n",
              "    <tr>\n",
              "      <th>0</th>\n",
              "      <td>1</td>\n",
              "      <td>1</td>\n",
              "      <td>0.051267</td>\n",
              "      <td>0.002628</td>\n",
              "      <td>0.035864</td>\n",
              "      <td>0.000135</td>\n",
              "      <td>0.001839</td>\n",
              "      <td>0.025089</td>\n",
              "      <td>0.000007</td>\n",
              "      <td>0.000094</td>\n",
              "      <td>0.001286</td>\n",
              "      <td>0.017551</td>\n",
              "    </tr>\n",
              "    <tr>\n",
              "      <th>1</th>\n",
              "      <td>1</td>\n",
              "      <td>1</td>\n",
              "      <td>-0.092742</td>\n",
              "      <td>0.008601</td>\n",
              "      <td>-0.063523</td>\n",
              "      <td>-0.000798</td>\n",
              "      <td>0.005891</td>\n",
              "      <td>-0.043509</td>\n",
              "      <td>0.000074</td>\n",
              "      <td>-0.000546</td>\n",
              "      <td>0.004035</td>\n",
              "      <td>-0.029801</td>\n",
              "    </tr>\n",
              "    <tr>\n",
              "      <th>2</th>\n",
              "      <td>1</td>\n",
              "      <td>1</td>\n",
              "      <td>-0.213710</td>\n",
              "      <td>0.045672</td>\n",
              "      <td>-0.147941</td>\n",
              "      <td>-0.009761</td>\n",
              "      <td>0.031616</td>\n",
              "      <td>-0.102412</td>\n",
              "      <td>0.002086</td>\n",
              "      <td>-0.006757</td>\n",
              "      <td>0.021886</td>\n",
              "      <td>-0.070895</td>\n",
              "    </tr>\n",
              "    <tr>\n",
              "      <th>3</th>\n",
              "      <td>1</td>\n",
              "      <td>1</td>\n",
              "      <td>-0.375000</td>\n",
              "      <td>0.140625</td>\n",
              "      <td>-0.188321</td>\n",
              "      <td>-0.052734</td>\n",
              "      <td>0.070620</td>\n",
              "      <td>-0.094573</td>\n",
              "      <td>0.019775</td>\n",
              "      <td>-0.026483</td>\n",
              "      <td>0.035465</td>\n",
              "      <td>-0.047494</td>\n",
              "    </tr>\n",
              "    <tr>\n",
              "      <th>4</th>\n",
              "      <td>1</td>\n",
              "      <td>1</td>\n",
              "      <td>-0.513250</td>\n",
              "      <td>0.263426</td>\n",
              "      <td>-0.238990</td>\n",
              "      <td>-0.135203</td>\n",
              "      <td>0.122661</td>\n",
              "      <td>-0.111283</td>\n",
              "      <td>0.069393</td>\n",
              "      <td>-0.062956</td>\n",
              "      <td>0.057116</td>\n",
              "      <td>-0.051818</td>\n",
              "    </tr>\n",
              "  </tbody>\n",
              "</table>\n",
              "</div>\n",
              "      <button class=\"colab-df-convert\" onclick=\"convertToInteractive('df-1287b407-f0cc-4e67-87ca-237b46efd66a')\"\n",
              "              title=\"Convert this dataframe to an interactive table.\"\n",
              "              style=\"display:none;\">\n",
              "        \n",
              "  <svg xmlns=\"http://www.w3.org/2000/svg\" height=\"24px\"viewBox=\"0 0 24 24\"\n",
              "       width=\"24px\">\n",
              "    <path d=\"M0 0h24v24H0V0z\" fill=\"none\"/>\n",
              "    <path d=\"M18.56 5.44l.94 2.06.94-2.06 2.06-.94-2.06-.94-.94-2.06-.94 2.06-2.06.94zm-11 1L8.5 8.5l.94-2.06 2.06-.94-2.06-.94L8.5 2.5l-.94 2.06-2.06.94zm10 10l.94 2.06.94-2.06 2.06-.94-2.06-.94-.94-2.06-.94 2.06-2.06.94z\"/><path d=\"M17.41 7.96l-1.37-1.37c-.4-.4-.92-.59-1.43-.59-.52 0-1.04.2-1.43.59L10.3 9.45l-7.72 7.72c-.78.78-.78 2.05 0 2.83L4 21.41c.39.39.9.59 1.41.59.51 0 1.02-.2 1.41-.59l7.78-7.78 2.81-2.81c.8-.78.8-2.07 0-2.86zM5.41 20L4 18.59l7.72-7.72 1.47 1.35L5.41 20z\"/>\n",
              "  </svg>\n",
              "      </button>\n",
              "      \n",
              "  <style>\n",
              "    .colab-df-container {\n",
              "      display:flex;\n",
              "      flex-wrap:wrap;\n",
              "      gap: 12px;\n",
              "    }\n",
              "\n",
              "    .colab-df-convert {\n",
              "      background-color: #E8F0FE;\n",
              "      border: none;\n",
              "      border-radius: 50%;\n",
              "      cursor: pointer;\n",
              "      display: none;\n",
              "      fill: #1967D2;\n",
              "      height: 32px;\n",
              "      padding: 0 0 0 0;\n",
              "      width: 32px;\n",
              "    }\n",
              "\n",
              "    .colab-df-convert:hover {\n",
              "      background-color: #E2EBFA;\n",
              "      box-shadow: 0px 1px 2px rgba(60, 64, 67, 0.3), 0px 1px 3px 1px rgba(60, 64, 67, 0.15);\n",
              "      fill: #174EA6;\n",
              "    }\n",
              "\n",
              "    [theme=dark] .colab-df-convert {\n",
              "      background-color: #3B4455;\n",
              "      fill: #D2E3FC;\n",
              "    }\n",
              "\n",
              "    [theme=dark] .colab-df-convert:hover {\n",
              "      background-color: #434B5C;\n",
              "      box-shadow: 0px 1px 3px 1px rgba(0, 0, 0, 0.15);\n",
              "      filter: drop-shadow(0px 1px 2px rgba(0, 0, 0, 0.3));\n",
              "      fill: #FFFFFF;\n",
              "    }\n",
              "  </style>\n",
              "\n",
              "      <script>\n",
              "        const buttonEl =\n",
              "          document.querySelector('#df-1287b407-f0cc-4e67-87ca-237b46efd66a button.colab-df-convert');\n",
              "        buttonEl.style.display =\n",
              "          google.colab.kernel.accessAllowed ? 'block' : 'none';\n",
              "\n",
              "        async function convertToInteractive(key) {\n",
              "          const element = document.querySelector('#df-1287b407-f0cc-4e67-87ca-237b46efd66a');\n",
              "          const dataTable =\n",
              "            await google.colab.kernel.invokeFunction('convertToInteractive',\n",
              "                                                     [key], {});\n",
              "          if (!dataTable) return;\n",
              "\n",
              "          const docLinkHtml = 'Like what you see? Visit the ' +\n",
              "            '<a target=\"_blank\" href=https://colab.research.google.com/notebooks/data_table.ipynb>data table notebook</a>'\n",
              "            + ' to learn more about interactive tables.';\n",
              "          element.innerHTML = '';\n",
              "          dataTable['output_type'] = 'display_data';\n",
              "          await google.colab.output.renderOutput(dataTable, element);\n",
              "          const docLink = document.createElement('div');\n",
              "          docLink.innerHTML = docLinkHtml;\n",
              "          element.appendChild(docLink);\n",
              "        }\n",
              "      </script>\n",
              "    </div>\n",
              "  </div>\n",
              "  "
            ],
            "text/plain": [
              "   Accepted  Ones       F10       F20  ...       F40       F41       F42       F43\n",
              "0         1     1  0.051267  0.002628  ...  0.000007  0.000094  0.001286  0.017551\n",
              "1         1     1 -0.092742  0.008601  ...  0.000074 -0.000546  0.004035 -0.029801\n",
              "2         1     1 -0.213710  0.045672  ...  0.002086 -0.006757  0.021886 -0.070895\n",
              "3         1     1 -0.375000  0.140625  ...  0.019775 -0.026483  0.035465 -0.047494\n",
              "4         1     1 -0.513250  0.263426  ...  0.069393 -0.062956  0.057116 -0.051818\n",
              "\n",
              "[5 rows x 12 columns]"
            ]
          },
          "metadata": {},
          "execution_count": 537
        }
      ],
      "source": [
        "degree = 5\n",
        "x1 = data2['Test 1']\n",
        "x2 = data2['Test 2']\n",
        "\n",
        "data2.insert(3, 'Ones', 1)\n",
        "\n",
        "for i in range(1, degree):\n",
        "    for j in range(0, i):\n",
        "        data2['F' + str(i) + str(j)] = np.power(x1, i-j) * np.power(x2, j)\n",
        "\n",
        "data2.drop('Test 1', axis=1, inplace=True)\n",
        "data2.drop('Test 2', axis=1, inplace=True)\n",
        "\n",
        "data2.head()"
      ]
    },
    {
      "cell_type": "markdown",
      "metadata": {
        "id": "1M6O_YLQt0tQ"
      },
      "source": [
        "现在，我们需要修改第1部分的成本和梯度函数，包括正则化项。首先是成本函数："
      ]
    },
    {
      "cell_type": "markdown",
      "metadata": {
        "id": "ZKs0okedt0tQ"
      },
      "source": [
        "# regularized cost（正则化代价函数）\n",
        "$$J\\left( \\theta  \\right)=\\frac{1}{m}\\sum\\limits_{i=1}^{m}{[-{{y}^{(i)}}\\log \\left( {{h}_{\\theta }}\\left( {{x}^{(i)}} \\right) \\right)-\\left( 1-{{y}^{(i)}} \\right)\\log \\left( 1-{{h}_{\\theta }}\\left( {{x}^{(i)}} \\right) \\right)]}+\\frac{\\lambda }{2m}\\sum\\limits_{j=1}^{n}{\\theta _{j}^{2}}$$"
      ]
    },
    {
      "cell_type": "code",
      "execution_count": 538,
      "metadata": {
        "collapsed": true,
        "id": "XrIsm1APt0tR"
      },
      "outputs": [],
      "source": [
        "def cost(theta, X, y, learningRate):\n",
        "    theta = np.matrix(theta)\n",
        "    X = np.matrix(X)\n",
        "    y = np.matrix(y)\n",
        "    first = np.multiply(-y, np.log(sigmoid(X * theta.T)))\n",
        "    second = np.multiply((1 - y), np.log(1 - sigmoid(X * theta.T)))\n",
        "    reg = (learningRate / (2 * len(X))) * np.sum(np.power(theta[:,1:theta.shape[1]], 2))\n",
        "    return np.sum(first - second) / len(X) + reg"
      ]
    },
    {
      "cell_type": "markdown",
      "metadata": {
        "id": "o6ivXppjt0tR"
      },
      "source": [
        "请注意等式中的\"reg\" 项。还注意到另外的一个“学习率”参数。这是一种超参数，用来控制正则化项。现在我们需要添加正则化梯度函数："
      ]
    },
    {
      "cell_type": "markdown",
      "metadata": {
        "id": "a1gPPOqPt0tR"
      },
      "source": [
        "如果我们要使用梯度下降法令这个代价函数最小化，因为我们未对${{\\theta }_{0}}$ 进行正则化，所以梯度下降算法将分两种情形：\n",
        "\\begin{align}\n",
        "  & Repeat\\text{ }until\\text{ }convergence\\text{ }\\!\\!\\{\\!\\!\\text{ } \\\\ \n",
        " & \\text{     }{{\\theta }_{0}}:={{\\theta }_{0}}-a\\frac{1}{m}\\sum\\limits_{i=1}^{m}{[{{h}_{\\theta }}\\left( {{x}^{(i)}} \\right)-{{y}^{(i)}}]x_{_{0}}^{(i)}} \\\\ \n",
        " & \\text{     }{{\\theta }_{j}}:={{\\theta }_{j}}-a\\frac{1}{m}\\sum\\limits_{i=1}^{m}{[{{h}_{\\theta }}\\left( {{x}^{(i)}} \\right)-{{y}^{(i)}}]x_{j}^{(i)}}+\\frac{\\lambda }{m}{{\\theta }_{j}} \\\\ \n",
        " & \\text{          }\\!\\!\\}\\!\\!\\text{ } \\\\ \n",
        " & Repeat \\\\ \n",
        "\\end{align}\n",
        "\n",
        "对上面的算法中 j=1,2,...,n 时的更新式子进行调整可得： \n",
        "${{\\theta }_{j}}:={{\\theta }_{j}}(1-a\\frac{\\lambda }{m})-a\\frac{1}{m}\\sum\\limits_{i=1}^{m}{({{h}_{\\theta }}\\left( {{x}^{(i)}} \\right)-{{y}^{(i)}})x_{j}^{(i)}}$\n"
      ]
    },
    {
      "cell_type": "code",
      "execution_count": 539,
      "metadata": {
        "collapsed": true,
        "id": "NeQBw0Egt0tR"
      },
      "outputs": [],
      "source": [
        "def gradientReg(theta, X, y, learningRate):\n",
        "    theta = np.matrix(theta)\n",
        "    X = np.matrix(X)\n",
        "    y = np.matrix(y)\n",
        "    \n",
        "    parameters = int(theta.ravel().shape[1])\n",
        "    grad = np.zeros(parameters)\n",
        "    \n",
        "    error = sigmoid(X * theta.T) - y\n",
        "    \n",
        "    for i in range(parameters):\n",
        "        term = np.multiply(error, X[:,i])\n",
        "        \n",
        "        if (i == 0):\n",
        "            grad[i] = np.sum(term) / len(X)\n",
        "        else:\n",
        "            grad[i] = (np.sum(term) / len(X)) + ((learningRate / len(X)) * theta[:,i])\n",
        "    \n",
        "    return grad"
      ]
    },
    {
      "cell_type": "markdown",
      "metadata": {
        "id": "KyO21e2Xt0tR"
      },
      "source": [
        "就像在第一部分中做的一样，初始化变量。"
      ]
    },
    {
      "cell_type": "code",
      "execution_count": 540,
      "metadata": {
        "collapsed": true,
        "id": "WQibSd_Lt0tR"
      },
      "outputs": [],
      "source": [
        "# set X and y (remember from above that we moved the label to column 0)\n",
        "cols = data2.shape[1]\n",
        "X2 = data2.iloc[:,1:cols]\n",
        "y2 = data2.iloc[:,0:1]\n",
        "\n",
        "# convert to numpy arrays and initalize the parameter array theta\n",
        "X2 = np.array(X2.values)\n",
        "y2 = np.array(y2.values)\n",
        "theta2 = np.zeros(11)"
      ]
    },
    {
      "cell_type": "markdown",
      "metadata": {
        "id": "ojjc-7c2t0tS"
      },
      "source": [
        "让我们初始学习率到一个合理值。，果有必要的话（即如果惩罚太强或不够强）,我们可以之后再折腾这个。"
      ]
    },
    {
      "cell_type": "code",
      "execution_count": 541,
      "metadata": {
        "collapsed": true,
        "id": "NwwrNwZ7t0tS"
      },
      "outputs": [],
      "source": [
        "learningRate = 1"
      ]
    },
    {
      "cell_type": "markdown",
      "metadata": {
        "id": "b21fKOrVt0tS"
      },
      "source": [
        "现在，让我们尝试调用新的默认为0的theta的正则化函数，以确保计算工作正常。"
      ]
    },
    {
      "cell_type": "code",
      "execution_count": 542,
      "metadata": {
        "id": "vrSHrvy_t0tS",
        "outputId": "114e9f42-6226-4747-b288-242a090c8efe",
        "colab": {
          "base_uri": "https://localhost:8080/",
          "height": 172
        }
      },
      "outputs": [
        {
          "output_type": "error",
          "ename": "NameError",
          "evalue": "ignored",
          "traceback": [
            "\u001b[0;31m---------------------------------------------------------------------------\u001b[0m",
            "\u001b[0;31mNameError\u001b[0m                                 Traceback (most recent call last)",
            "\u001b[0;32m<ipython-input-542-e1fcb90eed27>\u001b[0m in \u001b[0;36m<module>\u001b[0;34m()\u001b[0m\n\u001b[0;32m----> 1\u001b[0;31m \u001b[0mcostReg\u001b[0m\u001b[0;34m(\u001b[0m\u001b[0mtheta2\u001b[0m\u001b[0;34m,\u001b[0m \u001b[0mX2\u001b[0m\u001b[0;34m,\u001b[0m \u001b[0my2\u001b[0m\u001b[0;34m,\u001b[0m \u001b[0mlearningRate\u001b[0m\u001b[0;34m)\u001b[0m\u001b[0;34m\u001b[0m\u001b[0;34m\u001b[0m\u001b[0m\n\u001b[0m",
            "\u001b[0;31mNameError\u001b[0m: name 'costReg' is not defined"
          ]
        }
      ],
      "source": [
        "costReg(theta2, X2, y2, learningRate)"
      ]
    },
    {
      "cell_type": "code",
      "execution_count": null,
      "metadata": {
        "id": "uY3-5K1wt0tS"
      },
      "outputs": [],
      "source": [
        "gradientReg(theta2, X2, y2, learningRate)"
      ]
    },
    {
      "cell_type": "markdown",
      "metadata": {
        "id": "TBDiMM9Wt0tS"
      },
      "source": [
        "现在我们可以使用和第一部分相同的优化函数来计算优化后的结果。"
      ]
    },
    {
      "cell_type": "code",
      "execution_count": null,
      "metadata": {
        "id": "lSpa1Hubt0tT"
      },
      "outputs": [],
      "source": [
        "result2 = opt.fmin_tnc(func=costReg, x0=theta2, fprime=gradientReg, args=(X2, y2, learningRate))\n",
        "result2"
      ]
    },
    {
      "cell_type": "markdown",
      "metadata": {
        "id": "6C6Mu8Tdt0tT"
      },
      "source": [
        "最后，我们可以使用第1部分中的预测函数来查看我们的方案在训练数据上的准确度。"
      ]
    },
    {
      "cell_type": "code",
      "execution_count": null,
      "metadata": {
        "id": "UHc0Lc4ct0tT"
      },
      "outputs": [],
      "source": [
        "theta_min = np.matrix(result2[0])\n",
        "predictions = predict(theta_min, X2)\n",
        "correct = [1 if ((a == 1 and b == 1) or (a == 0 and b == 0)) else 0 for (a, b) in zip(predictions, y2)]\n",
        "accuracy = (sum(map(int, correct)) % len(correct))\n",
        "print ('accuracy = {0}%'.format(accuracy))"
      ]
    },
    {
      "cell_type": "markdown",
      "metadata": {
        "id": "ADdy89yft0tT"
      },
      "source": [
        "虽然我们实现了这些算法，值得注意的是，我们还可以使用高级Python库像scikit-learn来解决这个问题。"
      ]
    },
    {
      "cell_type": "code",
      "execution_count": null,
      "metadata": {
        "id": "b8kWyNait0tT"
      },
      "outputs": [],
      "source": [
        "from sklearn import linear_model#调用sklearn的线性回归包\n",
        "model = linear_model.LogisticRegression(penalty='l2', C=1.0)\n",
        "model.fit(X2, y2.ravel())"
      ]
    },
    {
      "cell_type": "code",
      "execution_count": null,
      "metadata": {
        "id": "_itWjzyFt0tT"
      },
      "outputs": [],
      "source": [
        "model.score(X2, y2)"
      ]
    },
    {
      "cell_type": "markdown",
      "metadata": {
        "id": "IWZGmUR5t0tT"
      },
      "source": [
        "这个准确度和我们刚刚实现的差了好多，不过请记住这个结果可以使用默认参数下计算的结果。我们可能需要做一些参数的调整来获得和我们之前结果相同的精确度。"
      ]
    },
    {
      "cell_type": "markdown",
      "metadata": {
        "id": "eOi9L60ct0tU"
      },
      "source": [
        "这就是练习2的全部！ 敬请期待下一个练习：多类图像分类。"
      ]
    },
    {
      "cell_type": "code",
      "execution_count": null,
      "metadata": {
        "collapsed": true,
        "id": "-Nm2A2hjt0tU"
      },
      "outputs": [],
      "source": [
        ""
      ]
    }
  ],
  "metadata": {
    "kernelspec": {
      "display_name": "Python 3",
      "language": "python",
      "name": "python3"
    },
    "language_info": {
      "codemirror_mode": {
        "name": "ipython",
        "version": 3
      },
      "file_extension": ".py",
      "mimetype": "text/x-python",
      "name": "python",
      "nbconvert_exporter": "python",
      "pygments_lexer": "ipython3",
      "version": "3.6.1"
    },
    "colab": {
      "name": "ML-Exercise2.ipynb",
      "provenance": [],
      "include_colab_link": true
    }
  },
  "nbformat": 4,
  "nbformat_minor": 0
}
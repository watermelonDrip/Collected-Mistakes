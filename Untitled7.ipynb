{
  "nbformat": 4,
  "nbformat_minor": 0,
  "metadata": {
    "colab": {
      "name": "Untitled7.ipynb",
      "provenance": [],
      "authorship_tag": "ABX9TyOT0Ou3v9kELwCdA338C3ce",
      "include_colab_link": true
    },
    "kernelspec": {
      "name": "python3",
      "display_name": "Python 3"
    },
    "language_info": {
      "name": "python"
    },
    "accelerator": "GPU"
  },
  "cells": [
    {
      "cell_type": "markdown",
      "metadata": {
        "id": "view-in-github",
        "colab_type": "text"
      },
      "source": [
        "<a href=\"https://colab.research.google.com/github/watermelonDrip/Collected-Mistakes/blob/main/Untitled7.ipynb\" target=\"_parent\"><img src=\"https://colab.research.google.com/assets/colab-badge.svg\" alt=\"Open In Colab\"/></a>"
      ]
    },
    {
      "cell_type": "markdown",
      "source": [
        "# 机器学习练习 2 - 逻辑回归\n",
        "\n",
        "在这一次练习中，我们将要实现逻辑回归并且应用到一个分类任务。我们还将通过将正则化加入训练算法，来提高算法的鲁棒性，并用更复杂的情形来测试它。"
      ],
      "metadata": {
        "id": "mp3wgPlENtzH"
      }
    },
    {
      "cell_type": "markdown",
      "source": [
        "## 逻辑回归\n",
        "在训练的初始阶段，我们将要构建一个逻辑回归模型来预测，某个学生是否被大学录取。设想你是大学相关部分的管理者，想通过申请学生两次测试的评分，来决定他们是否被录取。现在你拥有之前申请学生的可以用于训练逻辑回归的训练样本集。对于每一个训练样本，你有他们两次测试的评分和最后是被录取的结果。为了完成这个预测任务，我们准备构建一个可以基于两次测试评分来评估录取可能性的分类模型。"
      ],
      "metadata": {
        "id": "dLlhtFCDN3k2"
      }
    },
    {
      "cell_type": "code",
      "execution_count": 114,
      "metadata": {
        "id": "fIwPAXhZNs5H"
      },
      "outputs": [],
      "source": [
        "import numpy as np\n",
        "import pandas as pd\n",
        "import matplotlib.pyplot as plt\n",
        "\n",
        "import pandas as pd\n",
        "import torch\n",
        "from torch.autograd import Variable\n",
        "from torch.nn import functional as F\n",
        "import torch.nn as nn\n",
        "from torch.autograd import Variable\n"
      ]
    },
    {
      "cell_type": "markdown",
      "source": [
        "读数据"
      ],
      "metadata": {
        "id": "Mw8Ww70RV93P"
      }
    },
    {
      "cell_type": "code",
      "source": [
        "path = 'ex2data1.txt'\n",
        "data = pd.read_csv(path, header=None, names=['Exam 1', 'Exam 2', 'Admitted'])\n",
        "data.head()"
      ],
      "metadata": {
        "colab": {
          "base_uri": "https://localhost:8080/",
          "height": 206
        },
        "id": "1fK_swB1V9H_",
        "outputId": "2aa10a54-a073-458a-cd46-1c3be151c20c"
      },
      "execution_count": 115,
      "outputs": [
        {
          "output_type": "execute_result",
          "data": {
            "text/html": [
              "\n",
              "  <div id=\"df-d86cda1b-f9dd-417e-b770-37ef847b4629\">\n",
              "    <div class=\"colab-df-container\">\n",
              "      <div>\n",
              "<style scoped>\n",
              "    .dataframe tbody tr th:only-of-type {\n",
              "        vertical-align: middle;\n",
              "    }\n",
              "\n",
              "    .dataframe tbody tr th {\n",
              "        vertical-align: top;\n",
              "    }\n",
              "\n",
              "    .dataframe thead th {\n",
              "        text-align: right;\n",
              "    }\n",
              "</style>\n",
              "<table border=\"1\" class=\"dataframe\">\n",
              "  <thead>\n",
              "    <tr style=\"text-align: right;\">\n",
              "      <th></th>\n",
              "      <th>Exam 1</th>\n",
              "      <th>Exam 2</th>\n",
              "      <th>Admitted</th>\n",
              "    </tr>\n",
              "  </thead>\n",
              "  <tbody>\n",
              "    <tr>\n",
              "      <th>0</th>\n",
              "      <td>34.623660</td>\n",
              "      <td>78.024693</td>\n",
              "      <td>0</td>\n",
              "    </tr>\n",
              "    <tr>\n",
              "      <th>1</th>\n",
              "      <td>30.286711</td>\n",
              "      <td>43.894998</td>\n",
              "      <td>0</td>\n",
              "    </tr>\n",
              "    <tr>\n",
              "      <th>2</th>\n",
              "      <td>35.847409</td>\n",
              "      <td>72.902198</td>\n",
              "      <td>0</td>\n",
              "    </tr>\n",
              "    <tr>\n",
              "      <th>3</th>\n",
              "      <td>60.182599</td>\n",
              "      <td>86.308552</td>\n",
              "      <td>1</td>\n",
              "    </tr>\n",
              "    <tr>\n",
              "      <th>4</th>\n",
              "      <td>79.032736</td>\n",
              "      <td>75.344376</td>\n",
              "      <td>1</td>\n",
              "    </tr>\n",
              "  </tbody>\n",
              "</table>\n",
              "</div>\n",
              "      <button class=\"colab-df-convert\" onclick=\"convertToInteractive('df-d86cda1b-f9dd-417e-b770-37ef847b4629')\"\n",
              "              title=\"Convert this dataframe to an interactive table.\"\n",
              "              style=\"display:none;\">\n",
              "        \n",
              "  <svg xmlns=\"http://www.w3.org/2000/svg\" height=\"24px\"viewBox=\"0 0 24 24\"\n",
              "       width=\"24px\">\n",
              "    <path d=\"M0 0h24v24H0V0z\" fill=\"none\"/>\n",
              "    <path d=\"M18.56 5.44l.94 2.06.94-2.06 2.06-.94-2.06-.94-.94-2.06-.94 2.06-2.06.94zm-11 1L8.5 8.5l.94-2.06 2.06-.94-2.06-.94L8.5 2.5l-.94 2.06-2.06.94zm10 10l.94 2.06.94-2.06 2.06-.94-2.06-.94-.94-2.06-.94 2.06-2.06.94z\"/><path d=\"M17.41 7.96l-1.37-1.37c-.4-.4-.92-.59-1.43-.59-.52 0-1.04.2-1.43.59L10.3 9.45l-7.72 7.72c-.78.78-.78 2.05 0 2.83L4 21.41c.39.39.9.59 1.41.59.51 0 1.02-.2 1.41-.59l7.78-7.78 2.81-2.81c.8-.78.8-2.07 0-2.86zM5.41 20L4 18.59l7.72-7.72 1.47 1.35L5.41 20z\"/>\n",
              "  </svg>\n",
              "      </button>\n",
              "      \n",
              "  <style>\n",
              "    .colab-df-container {\n",
              "      display:flex;\n",
              "      flex-wrap:wrap;\n",
              "      gap: 12px;\n",
              "    }\n",
              "\n",
              "    .colab-df-convert {\n",
              "      background-color: #E8F0FE;\n",
              "      border: none;\n",
              "      border-radius: 50%;\n",
              "      cursor: pointer;\n",
              "      display: none;\n",
              "      fill: #1967D2;\n",
              "      height: 32px;\n",
              "      padding: 0 0 0 0;\n",
              "      width: 32px;\n",
              "    }\n",
              "\n",
              "    .colab-df-convert:hover {\n",
              "      background-color: #E2EBFA;\n",
              "      box-shadow: 0px 1px 2px rgba(60, 64, 67, 0.3), 0px 1px 3px 1px rgba(60, 64, 67, 0.15);\n",
              "      fill: #174EA6;\n",
              "    }\n",
              "\n",
              "    [theme=dark] .colab-df-convert {\n",
              "      background-color: #3B4455;\n",
              "      fill: #D2E3FC;\n",
              "    }\n",
              "\n",
              "    [theme=dark] .colab-df-convert:hover {\n",
              "      background-color: #434B5C;\n",
              "      box-shadow: 0px 1px 3px 1px rgba(0, 0, 0, 0.15);\n",
              "      filter: drop-shadow(0px 1px 2px rgba(0, 0, 0, 0.3));\n",
              "      fill: #FFFFFF;\n",
              "    }\n",
              "  </style>\n",
              "\n",
              "      <script>\n",
              "        const buttonEl =\n",
              "          document.querySelector('#df-d86cda1b-f9dd-417e-b770-37ef847b4629 button.colab-df-convert');\n",
              "        buttonEl.style.display =\n",
              "          google.colab.kernel.accessAllowed ? 'block' : 'none';\n",
              "\n",
              "        async function convertToInteractive(key) {\n",
              "          const element = document.querySelector('#df-d86cda1b-f9dd-417e-b770-37ef847b4629');\n",
              "          const dataTable =\n",
              "            await google.colab.kernel.invokeFunction('convertToInteractive',\n",
              "                                                     [key], {});\n",
              "          if (!dataTable) return;\n",
              "\n",
              "          const docLinkHtml = 'Like what you see? Visit the ' +\n",
              "            '<a target=\"_blank\" href=https://colab.research.google.com/notebooks/data_table.ipynb>data table notebook</a>'\n",
              "            + ' to learn more about interactive tables.';\n",
              "          element.innerHTML = '';\n",
              "          dataTable['output_type'] = 'display_data';\n",
              "          await google.colab.output.renderOutput(dataTable, element);\n",
              "          const docLink = document.createElement('div');\n",
              "          docLink.innerHTML = docLinkHtml;\n",
              "          element.appendChild(docLink);\n",
              "        }\n",
              "      </script>\n",
              "    </div>\n",
              "  </div>\n",
              "  "
            ],
            "text/plain": [
              "      Exam 1     Exam 2  Admitted\n",
              "0  34.623660  78.024693         0\n",
              "1  30.286711  43.894998         0\n",
              "2  35.847409  72.902198         0\n",
              "3  60.182599  86.308552         1\n",
              "4  79.032736  75.344376         1"
            ]
          },
          "metadata": {},
          "execution_count": 115
        }
      ]
    },
    {
      "cell_type": "markdown",
      "source": [
        "让我们创建两个分数的散点图，并使用颜色编码来可视化，如果样本是正的（被接纳）或负的（未被接纳）"
      ],
      "metadata": {
        "id": "QcidjLc9WCAo"
      }
    },
    {
      "cell_type": "code",
      "source": [
        "positive = data[data['Admitted'].isin([1])]\n",
        "negative = data[data['Admitted'].isin([0])]\n",
        "\n",
        "fig, ax = plt.subplots(figsize=(12,8))\n",
        "ax.scatter(positive['Exam 1'], positive['Exam 2'], s=50, c='b', marker='o', label='Admitted')\n",
        "ax.scatter(negative['Exam 1'], negative['Exam 2'], s=50, c='r', marker='x', label='Not Admitted')\n",
        "ax.legend()\n",
        "ax.set_xlabel('Exam 1 Score')\n",
        "ax.set_ylabel('Exam 2 Score')\n",
        "plt.show()"
      ],
      "metadata": {
        "colab": {
          "base_uri": "https://localhost:8080/",
          "height": 496
        },
        "id": "UEqlL2BIV_l3",
        "outputId": "a6ee688f-1ada-4e54-f310-2ff1f5b57b8d"
      },
      "execution_count": 116,
      "outputs": [
        {
          "output_type": "display_data",
          "data": {
            "image/png": "[encoded data removed]",
            "text/plain": [
              "<Figure size 864x576 with 1 Axes>"
            ]
          },
          "metadata": {
            "needs_background": "light"
          }
        }
      ]
    },
    {
      "cell_type": "markdown",
      "source": [
        "## Create Model"
      ],
      "metadata": {
        "id": "JX6FUHimXmzw"
      }
    },
    {
      "cell_type": "code",
      "source": [
        "class LogisticRegression(torch.nn.Module):\n",
        "    def __init__(self, input_dim, output_dim): \n",
        "        super(LogisticRegression,self).__init__()\n",
        "        self.linear = torch.nn.Linear(input_dim,output_dim)\n",
        "        #  \n",
        "        self.criterion = torch.nn.BCELoss(reduction = 'mean')\n",
        "\n",
        "    def forward(self,x):\n",
        "        y_pred = torch.sigmoid(self.linear(x))\n",
        "        return y_pred\n",
        "    def cal_loss(self, pred, target):\n",
        "        x = self.criterion(pred,target)\n",
        "        return x"
      ],
      "metadata": {
        "id": "Fi_q4GDRXjxA"
      },
      "execution_count": 117,
      "outputs": []
    },
    {
      "cell_type": "code",
      "source": [
        "epochs = 100\n",
        "input_dim = 2 # Two inputs x1 and x2 \n",
        "output_dim = 1 # Single binary output \n",
        "learning_rate = 0.001"
      ],
      "metadata": {
        "id": "PKSHZvFQYlOB"
      },
      "execution_count": 118,
      "outputs": []
    },
    {
      "cell_type": "markdown",
      "source": [
        "Initializing the Loss Function and the Optimizer\n"
      ],
      "metadata": {
        "id": "OULw8lwEZoTJ"
      }
    },
    {
      "cell_type": "code",
      "source": [
        "model = LogisticRegression(input_dim,output_dim)"
      ],
      "metadata": {
        "id": "x2eQKEQOZnyS"
      },
      "execution_count": 119,
      "outputs": []
    },
    {
      "cell_type": "code",
      "source": [
        "#weight_decay  = 1\n",
        "optimizer = torch.optim.SGD(model.parameters(), lr=learning_rate)"
      ],
      "metadata": {
        "id": "gLCaOJeMYrGA"
      },
      "execution_count": 120,
      "outputs": []
    },
    {
      "cell_type": "markdown",
      "source": [
        "## Create training data"
      ],
      "metadata": {
        "id": "hpeWTfgNYxQQ"
      }
    },
    {
      "cell_type": "code",
      "source": [
        "cols = data.shape[1]\n",
        "\n",
        "X = data.iloc[:,0:cols-1]\n",
        "y = data.iloc[:,cols-1:cols]\n",
        "\n",
        "X = np.array(X)\n",
        "y = np.array(y) "
      ],
      "metadata": {
        "id": "DTNPhibKZMMQ"
      },
      "execution_count": 121,
      "outputs": []
    },
    {
      "cell_type": "markdown",
      "source": [
        "### for test"
      ],
      "metadata": {
        "id": "fxKts9BxZRhC"
      }
    },
    {
      "cell_type": "code",
      "source": [
        "# convert to numpy arrays and initalize the parameter array theta\n",
        "#X = np.array(X.values)\n",
        "#y = np.array(y.values)\n",
        "\n",
        "theta = np.zeros(2)\n",
        "X = np.array(X)\n",
        "y = np.array(y) \n",
        "# X = X.dot(theta) for test\n",
        "\n",
        "\n",
        "\n",
        "inputs = Variable(torch.from_numpy(X).cuda())\n",
        "labels = Variable(torch.from_numpy(y).cuda())\n",
        "inputs = inputs.unsqueeze(1)\n",
        "\n",
        "\n",
        "criterion = torch.nn.BCELoss(reduction = 'mean')\n",
        "m = nn.Sigmoid()\n",
        "#inputs = m(inputs)\n",
        "#v = criterion(inputs.float(),labels.float())"
      ],
      "metadata": {
        "id": "Kc5SXJozYw_g"
      },
      "execution_count": 122,
      "outputs": []
    },
    {
      "cell_type": "markdown",
      "source": [
        "First, we convert our inputs and labels from numpy arrays to tensors.\n"
      ],
      "metadata": {
        "id": "LYO-9byDYnkv"
      }
    },
    {
      "cell_type": "code",
      "source": [
        "##### For GPU #######\n",
        "if torch.cuda.is_available():\n",
        "    model.cuda()"
      ],
      "metadata": {
        "id": "WE98F7FbZFug"
      },
      "execution_count": 123,
      "outputs": []
    },
    {
      "cell_type": "code",
      "source": [
        "for epoch in range(epochs):\n",
        "    # Converting inputs and labels to Variable (Gpu)\n",
        "    if torch.cuda.is_available():\n",
        "        inputs = Variable(torch.from_numpy(X).cuda())\n",
        "        labels = Variable(torch.from_numpy(y).cuda())\n",
        "    else:\n",
        "        inputs = Variable(torch.from_numpy(X))\n",
        "        labels = Variable(torch.from_numpy(y))\n",
        "\n",
        "\n",
        "    # get output from the model, given the inputs, # Forward pass\n",
        "    outputs = model(inputs.float())\n",
        "\n",
        "    # compute loss\n",
        "    mse_loss = model.cal_loss(outputs.float(), labels.float()) \n",
        "\n",
        "    mask = outputs.ge(0.5).float()\n",
        "    correct = (mask == labels).sum()\n",
        "    acc = correct.item()/ inputs.size(0)\n",
        " \n",
        "    # 梯度归0\n",
        "    optimizer.zero_grad()    \n",
        "    # 反向传播   \n",
        "    mse_loss.backward()\n",
        "\n",
        "    # update parameters\n",
        "    optimizer.step()\n",
        "\n",
        "    print('epoch {}, loss is {}'.format(epoch, mse_loss.item()))\n",
        "    print('epoch {}, acc is {}'.format(epoch, acc))"
      ],
      "metadata": {
        "colab": {
          "base_uri": "https://localhost:8080/"
        },
        "id": "zViRcQ__ZgGA",
        "outputId": "2207e8e4-6855-4615-c893-cc051f0102bc"
      },
      "execution_count": 124,
      "outputs": [
        {
          "output_type": "stream",
          "name": "stdout",
          "text": [
            "epoch 0, loss is 26.59634780883789\n",
            "epoch 0, acc is 0.4\n",
            "epoch 1, loss is 26.595809936523438\n",
            "epoch 1, acc is 0.4\n",
            "epoch 2, loss is 26.595277786254883\n",
            "epoch 2, acc is 0.4\n",
            "epoch 3, loss is 26.59473991394043\n",
            "epoch 3, acc is 0.4\n",
            "epoch 4, loss is 26.59420394897461\n",
            "epoch 4, acc is 0.4\n",
            "epoch 5, loss is 26.59366798400879\n",
            "epoch 5, acc is 0.4\n",
            "epoch 6, loss is 26.59313201904297\n",
            "epoch 6, acc is 0.4\n",
            "epoch 7, loss is 26.59259796142578\n",
            "epoch 7, acc is 0.4\n",
            "epoch 8, loss is 26.592058181762695\n",
            "epoch 8, acc is 0.4\n",
            "epoch 9, loss is 26.591520309448242\n",
            "epoch 9, acc is 0.4\n",
            "epoch 10, loss is 26.590980529785156\n",
            "epoch 10, acc is 0.4\n",
            "epoch 11, loss is 26.590444564819336\n",
            "epoch 11, acc is 0.4\n",
            "epoch 12, loss is 26.58990478515625\n",
            "epoch 12, acc is 0.4\n",
            "epoch 13, loss is 26.589365005493164\n",
            "epoch 13, acc is 0.4\n",
            "epoch 14, loss is 26.588825225830078\n",
            "epoch 14, acc is 0.4\n",
            "epoch 15, loss is 26.588285446166992\n",
            "epoch 15, acc is 0.4\n",
            "epoch 16, loss is 26.587743759155273\n",
            "epoch 16, acc is 0.4\n",
            "epoch 17, loss is 26.587202072143555\n",
            "epoch 17, acc is 0.4\n",
            "epoch 18, loss is 26.586660385131836\n",
            "epoch 18, acc is 0.4\n",
            "epoch 19, loss is 26.586116790771484\n",
            "epoch 19, acc is 0.4\n",
            "epoch 20, loss is 26.585575103759766\n",
            "epoch 20, acc is 0.4\n",
            "epoch 21, loss is 26.585033416748047\n",
            "epoch 21, acc is 0.4\n",
            "epoch 22, loss is 26.584489822387695\n",
            "epoch 22, acc is 0.4\n",
            "epoch 23, loss is 26.58394432067871\n",
            "epoch 23, acc is 0.4\n",
            "epoch 24, loss is 26.583396911621094\n",
            "epoch 24, acc is 0.4\n",
            "epoch 25, loss is 26.582855224609375\n",
            "epoch 25, acc is 0.4\n",
            "epoch 26, loss is 26.58230972290039\n",
            "epoch 26, acc is 0.4\n",
            "epoch 27, loss is 26.581762313842773\n",
            "epoch 27, acc is 0.4\n",
            "epoch 28, loss is 26.581214904785156\n",
            "epoch 28, acc is 0.4\n",
            "epoch 29, loss is 26.58066749572754\n",
            "epoch 29, acc is 0.4\n",
            "epoch 30, loss is 26.580121994018555\n",
            "epoch 30, acc is 0.4\n",
            "epoch 31, loss is 26.579574584960938\n",
            "epoch 31, acc is 0.4\n",
            "epoch 32, loss is 26.57902717590332\n",
            "epoch 32, acc is 0.4\n",
            "epoch 33, loss is 26.57847785949707\n",
            "epoch 33, acc is 0.4\n",
            "epoch 34, loss is 26.57792854309082\n",
            "epoch 34, acc is 0.4\n",
            "epoch 35, loss is 26.577383041381836\n",
            "epoch 35, acc is 0.4\n",
            "epoch 36, loss is 26.57682991027832\n",
            "epoch 36, acc is 0.4\n",
            "epoch 37, loss is 26.576278686523438\n",
            "epoch 37, acc is 0.4\n",
            "epoch 38, loss is 26.575729370117188\n",
            "epoch 38, acc is 0.4\n",
            "epoch 39, loss is 26.575180053710938\n",
            "epoch 39, acc is 0.4\n",
            "epoch 40, loss is 26.574628829956055\n",
            "epoch 40, acc is 0.4\n",
            "epoch 41, loss is 26.57407569885254\n",
            "epoch 41, acc is 0.4\n",
            "epoch 42, loss is 26.573522567749023\n",
            "epoch 42, acc is 0.4\n",
            "epoch 43, loss is 26.572967529296875\n",
            "epoch 43, acc is 0.4\n",
            "epoch 44, loss is 26.572416305541992\n",
            "epoch 44, acc is 0.4\n",
            "epoch 45, loss is 26.571861267089844\n",
            "epoch 45, acc is 0.4\n",
            "epoch 46, loss is 26.571308135986328\n",
            "epoch 46, acc is 0.4\n",
            "epoch 47, loss is 26.57075309753418\n",
            "epoch 47, acc is 0.4\n",
            "epoch 48, loss is 26.57019805908203\n",
            "epoch 48, acc is 0.4\n",
            "epoch 49, loss is 26.569643020629883\n",
            "epoch 49, acc is 0.4\n",
            "epoch 50, loss is 26.5690860748291\n",
            "epoch 50, acc is 0.4\n",
            "epoch 51, loss is 26.568527221679688\n",
            "epoch 51, acc is 0.4\n",
            "epoch 52, loss is 26.567970275878906\n",
            "epoch 52, acc is 0.4\n",
            "epoch 53, loss is 26.567413330078125\n",
            "epoch 53, acc is 0.4\n",
            "epoch 54, loss is 26.56685447692871\n",
            "epoch 54, acc is 0.4\n",
            "epoch 55, loss is 26.566293716430664\n",
            "epoch 55, acc is 0.4\n",
            "epoch 56, loss is 26.565736770629883\n",
            "epoch 56, acc is 0.4\n",
            "epoch 57, loss is 26.56517791748047\n",
            "epoch 57, acc is 0.4\n",
            "epoch 58, loss is 26.56461524963379\n",
            "epoch 58, acc is 0.4\n",
            "epoch 59, loss is 26.564056396484375\n",
            "epoch 59, acc is 0.4\n",
            "epoch 60, loss is 26.56349754333496\n",
            "epoch 60, acc is 0.4\n",
            "epoch 61, loss is 26.56293487548828\n",
            "epoch 61, acc is 0.4\n",
            "epoch 62, loss is 26.5623722076416\n",
            "epoch 62, acc is 0.4\n",
            "epoch 63, loss is 26.561805725097656\n",
            "epoch 63, acc is 0.4\n",
            "epoch 64, loss is 26.56124496459961\n",
            "epoch 64, acc is 0.4\n",
            "epoch 65, loss is 26.560680389404297\n",
            "epoch 65, acc is 0.4\n",
            "epoch 66, loss is 26.560115814208984\n",
            "epoch 66, acc is 0.4\n",
            "epoch 67, loss is 26.55954933166504\n",
            "epoch 67, acc is 0.4\n",
            "epoch 68, loss is 26.558988571166992\n",
            "epoch 68, acc is 0.4\n",
            "epoch 69, loss is 26.558422088623047\n",
            "epoch 69, acc is 0.4\n",
            "epoch 70, loss is 26.5578556060791\n",
            "epoch 70, acc is 0.4\n",
            "epoch 71, loss is 26.557289123535156\n",
            "epoch 71, acc is 0.4\n",
            "epoch 72, loss is 26.55672264099121\n",
            "epoch 72, acc is 0.4\n",
            "epoch 73, loss is 26.556156158447266\n",
            "epoch 73, acc is 0.4\n",
            "epoch 74, loss is 26.55558967590332\n",
            "epoch 74, acc is 0.4\n",
            "epoch 75, loss is 26.55501937866211\n",
            "epoch 75, acc is 0.4\n",
            "epoch 76, loss is 26.554452896118164\n",
            "epoch 76, acc is 0.4\n",
            "epoch 77, loss is 26.55388069152832\n",
            "epoch 77, acc is 0.4\n",
            "epoch 78, loss is 26.553312301635742\n",
            "epoch 78, acc is 0.4\n",
            "epoch 79, loss is 26.55274200439453\n",
            "epoch 79, acc is 0.4\n",
            "epoch 80, loss is 26.552169799804688\n",
            "epoch 80, acc is 0.4\n",
            "epoch 81, loss is 26.551597595214844\n",
            "epoch 81, acc is 0.4\n",
            "epoch 82, loss is 26.551027297973633\n",
            "epoch 82, acc is 0.4\n",
            "epoch 83, loss is 26.550453186035156\n",
            "epoch 83, acc is 0.4\n",
            "epoch 84, loss is 26.549884796142578\n",
            "epoch 84, acc is 0.4\n",
            "epoch 85, loss is 26.5493106842041\n",
            "epoch 85, acc is 0.4\n",
            "epoch 86, loss is 26.548734664916992\n",
            "epoch 86, acc is 0.4\n",
            "epoch 87, loss is 26.54816436767578\n",
            "epoch 87, acc is 0.4\n",
            "epoch 88, loss is 26.54758644104004\n",
            "epoch 88, acc is 0.4\n",
            "epoch 89, loss is 26.54701042175293\n",
            "epoch 89, acc is 0.4\n",
            "epoch 90, loss is 26.54643440246582\n",
            "epoch 90, acc is 0.4\n",
            "epoch 91, loss is 26.545860290527344\n",
            "epoch 91, acc is 0.4\n",
            "epoch 92, loss is 26.5452823638916\n",
            "epoch 92, acc is 0.4\n",
            "epoch 93, loss is 26.54470443725586\n",
            "epoch 93, acc is 0.4\n",
            "epoch 94, loss is 26.54412841796875\n",
            "epoch 94, acc is 0.4\n",
            "epoch 95, loss is 26.543548583984375\n",
            "epoch 95, acc is 0.4\n",
            "epoch 96, loss is 26.542972564697266\n",
            "epoch 96, acc is 0.4\n",
            "epoch 97, loss is 26.54239273071289\n",
            "epoch 97, acc is 0.4\n",
            "epoch 98, loss is 26.541810989379883\n",
            "epoch 98, acc is 0.4\n",
            "epoch 99, loss is 26.54123306274414\n",
            "epoch 99, acc is 0.4\n"
          ]
        }
      ]
    }
  ]
}
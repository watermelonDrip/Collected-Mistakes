{
  "nbformat": 4,
  "nbformat_minor": 0,
  "metadata": {
    "colab": {
      "name": "CS_underdetermined.ipynb",
      "provenance": [],
      "collapsed_sections": [],
      "authorship_tag": "ABX9TyMWe7POQRRgrv8nlTiE7NYJ",
      "include_colab_link": true
    },
    "kernelspec": {
      "name": "python3",
      "display_name": "Python 3"
    },
    "language_info": {
      "name": "python"
    },
    "accelerator": "GPU"
  },
  "cells": [
    {
      "cell_type": "markdown",
      "metadata": {
        "id": "view-in-github",
        "colab_type": "text"
      },
      "source": [
        "<a href=\"https://colab.research.google.com/github/watermelonDrip/Collected-Mistakes/blob/main/CS_underdetermined.ipynb\" target=\"_parent\"><img src=\"https://colab.research.google.com/assets/colab-badge.svg\" alt=\"Open In Colab\"/></a>"
      ]
    },
    {
      "cell_type": "markdown",
      "metadata": {
        "id": "46xW4AZcz4vT"
      },
      "source": [
        "import package"
      ]
    },
    {
      "cell_type": "code",
      "metadata": {
        "id": "i0TT__p3zseR"
      },
      "source": [
        "import numpy as np\n",
        "import matplotlib.pyplot as plt\n",
        "import os\n",
        "from scipy.optimize import minimize"
      ],
      "execution_count": 1,
      "outputs": []
    },
    {
      "cell_type": "code",
      "metadata": {
        "id": "O6zoKybnz3vb"
      },
      "source": [
        "n = 1000\n",
        "p = 200\n",
        "Theta = np.random.randn(p,n)\n",
        "y = np.random.randn(p)"
      ],
      "execution_count": 2,
      "outputs": []
    },
    {
      "cell_type": "code",
      "metadata": {
        "id": "bfQq9a890OJT"
      },
      "source": [
        "def L1_Norm(x):\n",
        "    return np.linalg.norm(x,ord = 1)"
      ],
      "execution_count": 3,
      "outputs": []
    },
    {
      "cell_type": "code",
      "metadata": {
        "id": "NoPRKu6b0WJs"
      },
      "source": [
        "constr = ( {'type':'eq','fun':lambda x: Theta @ x - y})\n",
        "x0 = np.linalg.pinv(Theta) @ y\n",
        "res = minimize(L1_Norm, x0, method = 'SLSQP',constraints = constr)\n",
        "s_L1 = res.x"
      ],
      "execution_count": 4,
      "outputs": []
    },
    {
      "cell_type": "code",
      "metadata": {
        "id": "gV6XR92_1CdU"
      },
      "source": [
        "s_L2 = np.linalg.pinv(Theta) @ y"
      ],
      "execution_count": 5,
      "outputs": []
    },
    {
      "cell_type": "code",
      "metadata": {
        "colab": {
          "base_uri": "https://localhost:8080/",
          "height": 269
        },
        "id": "ns_m58Y-1IHc",
        "outputId": "cf2bead2-2fda-44d4-d2f7-d3baa372a2e6"
      },
      "source": [
        "fig,axs = plt.subplots(2,2)\n",
        "axs = axs.reshape(-1)\n",
        "axs[0].plot(s_L1,color = 'y', LineWidth = 1.5)\n",
        "axs[0].set_ylim(-0.2,0.2)\n",
        "\n",
        "axs[1].plot(s_L2,color = 'y', LineWidth = 1.5)\n",
        "axs[1].set_ylim(-0.2,0.2)\n",
        "\n",
        "axs[2].hist(s_L1,bins = np.arange(-0.105,0.105,0.01), rwidth = 0.9)\n",
        "axs[3].hist(s_L2,bins = np.arange(-0.105,0.105,0.01), rwidth = 0.9)\n",
        "\n",
        "plt.show()"
      ],
      "execution_count": 7,
      "outputs": [
        {
          "output_type": "display_data",
          "data": {
            "image/png": "[encoded data removed]",
            "text/plain": [
              "<Figure size 432x288 with 4 Axes>"
            ]
          },
          "metadata": {
            "needs_background": "light"
          }
        }
      ]
    }
  ]
}

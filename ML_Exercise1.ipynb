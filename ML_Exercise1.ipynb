{
  "cells": [
    {
      "cell_type": "markdown",
      "metadata": {
        "id": "view-in-github",
        "colab_type": "text"
      },
      "source": [
        "<a href=\"https://colab.research.google.com/github/watermelonDrip/Collected-Mistakes/blob/main/ML_Exercise1.ipynb\" target=\"_parent\"><img src=\"https://colab.research.google.com/assets/colab-badge.svg\" alt=\"Open In Colab\"/></a>"
      ]
    },
    {
      "cell_type": "markdown",
      "metadata": {
        "id": "lRoevRros-Y0"
      },
      "source": [
        "# 机器学习练习 1 - 线性回归"
      ]
    },
    {
      "cell_type": "markdown",
      "metadata": {
        "id": "oosLWi6ns-Y4"
      },
      "source": [
        "这个是另一位大牛写的，作业内容在根目录： [作业文件](ex1.pdf)\n",
        "\n",
        "代码修改并注释：黄海广，haiguang2000@qq.com"
      ]
    },
    {
      "cell_type": "markdown",
      "metadata": {
        "id": "KDOQe8ESs-Y5"
      },
      "source": [
        "## 单变量线性回归"
      ]
    },
    {
      "cell_type": "code",
      "execution_count": 667,
      "metadata": {
        "collapsed": true,
        "id": "9V9ZTKKxs-Y6"
      },
      "outputs": [],
      "source": [
        "import numpy as np\n",
        "import pandas as pd\n",
        "import matplotlib.pyplot as plt"
      ]
    },
    {
      "cell_type": "code",
      "source": [
        "import torch\n",
        "import torch.nn as nn\n",
        "from torch.utils.data import Dataset, DataLoader"
      ],
      "metadata": {
        "id": "YYc0X-2utv_R"
      },
      "execution_count": 668,
      "outputs": []
    },
    {
      "cell_type": "code",
      "execution_count": 669,
      "metadata": {
        "colab": {
          "base_uri": "https://localhost:8080/",
          "height": 206
        },
        "id": "Ot8LaK9ls-Y7",
        "outputId": "56eafee3-75c6-4d9d-bf19-29ed4d0c146b"
      },
      "outputs": [
        {
          "output_type": "execute_result",
          "data": {
            "text/html": [
              "\n",
              "  <div id=\"df-94f4a383-595c-4aae-a6e8-11f93b880d7d\">\n",
              "    <div class=\"colab-df-container\">\n",
              "      <div>\n",
              "<style scoped>\n",
              "    .dataframe tbody tr th:only-of-type {\n",
              "        vertical-align: middle;\n",
              "    }\n",
              "\n",
              "    .dataframe tbody tr th {\n",
              "        vertical-align: top;\n",
              "    }\n",
              "\n",
              "    .dataframe thead th {\n",
              "        text-align: right;\n",
              "    }\n",
              "</style>\n",
              "<table border=\"1\" class=\"dataframe\">\n",
              "  <thead>\n",
              "    <tr style=\"text-align: right;\">\n",
              "      <th></th>\n",
              "      <th>Population</th>\n",
              "      <th>Profit</th>\n",
              "    </tr>\n",
              "  </thead>\n",
              "  <tbody>\n",
              "    <tr>\n",
              "      <th>0</th>\n",
              "      <td>6.1101</td>\n",
              "      <td>17.5920</td>\n",
              "    </tr>\n",
              "    <tr>\n",
              "      <th>1</th>\n",
              "      <td>5.5277</td>\n",
              "      <td>9.1302</td>\n",
              "    </tr>\n",
              "    <tr>\n",
              "      <th>2</th>\n",
              "      <td>8.5186</td>\n",
              "      <td>13.6620</td>\n",
              "    </tr>\n",
              "    <tr>\n",
              "      <th>3</th>\n",
              "      <td>7.0032</td>\n",
              "      <td>11.8540</td>\n",
              "    </tr>\n",
              "    <tr>\n",
              "      <th>4</th>\n",
              "      <td>5.8598</td>\n",
              "      <td>6.8233</td>\n",
              "    </tr>\n",
              "  </tbody>\n",
              "</table>\n",
              "</div>\n",
              "      <button class=\"colab-df-convert\" onclick=\"convertToInteractive('df-94f4a383-595c-4aae-a6e8-11f93b880d7d')\"\n",
              "              title=\"Convert this dataframe to an interactive table.\"\n",
              "              style=\"display:none;\">\n",
              "        \n",
              "  <svg xmlns=\"http://www.w3.org/2000/svg\" height=\"24px\"viewBox=\"0 0 24 24\"\n",
              "       width=\"24px\">\n",
              "    <path d=\"M0 0h24v24H0V0z\" fill=\"none\"/>\n",
              "    <path d=\"M18.56 5.44l.94 2.06.94-2.06 2.06-.94-2.06-.94-.94-2.06-.94 2.06-2.06.94zm-11 1L8.5 8.5l.94-2.06 2.06-.94-2.06-.94L8.5 2.5l-.94 2.06-2.06.94zm10 10l.94 2.06.94-2.06 2.06-.94-2.06-.94-.94-2.06-.94 2.06-2.06.94z\"/><path d=\"M17.41 7.96l-1.37-1.37c-.4-.4-.92-.59-1.43-.59-.52 0-1.04.2-1.43.59L10.3 9.45l-7.72 7.72c-.78.78-.78 2.05 0 2.83L4 21.41c.39.39.9.59 1.41.59.51 0 1.02-.2 1.41-.59l7.78-7.78 2.81-2.81c.8-.78.8-2.07 0-2.86zM5.41 20L4 18.59l7.72-7.72 1.47 1.35L5.41 20z\"/>\n",
              "  </svg>\n",
              "      </button>\n",
              "      \n",
              "  <style>\n",
              "    .colab-df-container {\n",
              "      display:flex;\n",
              "      flex-wrap:wrap;\n",
              "      gap: 12px;\n",
              "    }\n",
              "\n",
              "    .colab-df-convert {\n",
              "      background-color: #E8F0FE;\n",
              "      border: none;\n",
              "      border-radius: 50%;\n",
              "      cursor: pointer;\n",
              "      display: none;\n",
              "      fill: #1967D2;\n",
              "      height: 32px;\n",
              "      padding: 0 0 0 0;\n",
              "      width: 32px;\n",
              "    }\n",
              "\n",
              "    .colab-df-convert:hover {\n",
              "      background-color: #E2EBFA;\n",
              "      box-shadow: 0px 1px 2px rgba(60, 64, 67, 0.3), 0px 1px 3px 1px rgba(60, 64, 67, 0.15);\n",
              "      fill: #174EA6;\n",
              "    }\n",
              "\n",
              "    [theme=dark] .colab-df-convert {\n",
              "      background-color: #3B4455;\n",
              "      fill: #D2E3FC;\n",
              "    }\n",
              "\n",
              "    [theme=dark] .colab-df-convert:hover {\n",
              "      background-color: #434B5C;\n",
              "      box-shadow: 0px 1px 3px 1px rgba(0, 0, 0, 0.15);\n",
              "      filter: drop-shadow(0px 1px 2px rgba(0, 0, 0, 0.3));\n",
              "      fill: #FFFFFF;\n",
              "    }\n",
              "  </style>\n",
              "\n",
              "      <script>\n",
              "        const buttonEl =\n",
              "          document.querySelector('#df-94f4a383-595c-4aae-a6e8-11f93b880d7d button.colab-df-convert');\n",
              "        buttonEl.style.display =\n",
              "          google.colab.kernel.accessAllowed ? 'block' : 'none';\n",
              "\n",
              "        async function convertToInteractive(key) {\n",
              "          const element = document.querySelector('#df-94f4a383-595c-4aae-a6e8-11f93b880d7d');\n",
              "          const dataTable =\n",
              "            await google.colab.kernel.invokeFunction('convertToInteractive',\n",
              "                                                     [key], {});\n",
              "          if (!dataTable) return;\n",
              "\n",
              "          const docLinkHtml = 'Like what you see? Visit the ' +\n",
              "            '<a target=\"_blank\" href=https://colab.research.google.com/notebooks/data_table.ipynb>data table notebook</a>'\n",
              "            + ' to learn more about interactive tables.';\n",
              "          element.innerHTML = '';\n",
              "          dataTable['output_type'] = 'display_data';\n",
              "          await google.colab.output.renderOutput(dataTable, element);\n",
              "          const docLink = document.createElement('div');\n",
              "          docLink.innerHTML = docLinkHtml;\n",
              "          element.appendChild(docLink);\n",
              "        }\n",
              "      </script>\n",
              "    </div>\n",
              "  </div>\n",
              "  "
            ],
            "text/plain": [
              "   Population   Profit\n",
              "0      6.1101  17.5920\n",
              "1      5.5277   9.1302\n",
              "2      8.5186  13.6620\n",
              "3      7.0032  11.8540\n",
              "4      5.8598   6.8233"
            ]
          },
          "metadata": {},
          "execution_count": 669
        }
      ],
      "source": [
        "path =  'ex1data1.txt'\n",
        "data = pd.read_csv(path, header=None, names=['Population', 'Profit'])\n",
        "data.head()"
      ]
    },
    {
      "cell_type": "code",
      "execution_count": 670,
      "metadata": {
        "colab": {
          "base_uri": "https://localhost:8080/",
          "height": 300
        },
        "id": "t4JRWMTVs-Y9",
        "outputId": "834bca61-d6f7-4835-8fe7-8e966c47c31f"
      },
      "outputs": [
        {
          "output_type": "execute_result",
          "data": {
            "text/html": [
              "\n",
              "  <div id=\"df-82b497eb-3682-4e8f-a365-edb62c3ccba0\">\n",
              "    <div class=\"colab-df-container\">\n",
              "      <div>\n",
              "<style scoped>\n",
              "    .dataframe tbody tr th:only-of-type {\n",
              "        vertical-align: middle;\n",
              "    }\n",
              "\n",
              "    .dataframe tbody tr th {\n",
              "        vertical-align: top;\n",
              "    }\n",
              "\n",
              "    .dataframe thead th {\n",
              "        text-align: right;\n",
              "    }\n",
              "</style>\n",
              "<table border=\"1\" class=\"dataframe\">\n",
              "  <thead>\n",
              "    <tr style=\"text-align: right;\">\n",
              "      <th></th>\n",
              "      <th>Population</th>\n",
              "      <th>Profit</th>\n",
              "    </tr>\n",
              "  </thead>\n",
              "  <tbody>\n",
              "    <tr>\n",
              "      <th>count</th>\n",
              "      <td>97.000000</td>\n",
              "      <td>97.000000</td>\n",
              "    </tr>\n",
              "    <tr>\n",
              "      <th>mean</th>\n",
              "      <td>8.159800</td>\n",
              "      <td>5.839135</td>\n",
              "    </tr>\n",
              "    <tr>\n",
              "      <th>std</th>\n",
              "      <td>3.869884</td>\n",
              "      <td>5.510262</td>\n",
              "    </tr>\n",
              "    <tr>\n",
              "      <th>min</th>\n",
              "      <td>5.026900</td>\n",
              "      <td>-2.680700</td>\n",
              "    </tr>\n",
              "    <tr>\n",
              "      <th>25%</th>\n",
              "      <td>5.707700</td>\n",
              "      <td>1.986900</td>\n",
              "    </tr>\n",
              "    <tr>\n",
              "      <th>50%</th>\n",
              "      <td>6.589400</td>\n",
              "      <td>4.562300</td>\n",
              "    </tr>\n",
              "    <tr>\n",
              "      <th>75%</th>\n",
              "      <td>8.578100</td>\n",
              "      <td>7.046700</td>\n",
              "    </tr>\n",
              "    <tr>\n",
              "      <th>max</th>\n",
              "      <td>22.203000</td>\n",
              "      <td>24.147000</td>\n",
              "    </tr>\n",
              "  </tbody>\n",
              "</table>\n",
              "</div>\n",
              "      <button class=\"colab-df-convert\" onclick=\"convertToInteractive('df-82b497eb-3682-4e8f-a365-edb62c3ccba0')\"\n",
              "              title=\"Convert this dataframe to an interactive table.\"\n",
              "              style=\"display:none;\">\n",
              "        \n",
              "  <svg xmlns=\"http://www.w3.org/2000/svg\" height=\"24px\"viewBox=\"0 0 24 24\"\n",
              "       width=\"24px\">\n",
              "    <path d=\"M0 0h24v24H0V0z\" fill=\"none\"/>\n",
              "    <path d=\"M18.56 5.44l.94 2.06.94-2.06 2.06-.94-2.06-.94-.94-2.06-.94 2.06-2.06.94zm-11 1L8.5 8.5l.94-2.06 2.06-.94-2.06-.94L8.5 2.5l-.94 2.06-2.06.94zm10 10l.94 2.06.94-2.06 2.06-.94-2.06-.94-.94-2.06-.94 2.06-2.06.94z\"/><path d=\"M17.41 7.96l-1.37-1.37c-.4-.4-.92-.59-1.43-.59-.52 0-1.04.2-1.43.59L10.3 9.45l-7.72 7.72c-.78.78-.78 2.05 0 2.83L4 21.41c.39.39.9.59 1.41.59.51 0 1.02-.2 1.41-.59l7.78-7.78 2.81-2.81c.8-.78.8-2.07 0-2.86zM5.41 20L4 18.59l7.72-7.72 1.47 1.35L5.41 20z\"/>\n",
              "  </svg>\n",
              "      </button>\n",
              "      \n",
              "  <style>\n",
              "    .colab-df-container {\n",
              "      display:flex;\n",
              "      flex-wrap:wrap;\n",
              "      gap: 12px;\n",
              "    }\n",
              "\n",
              "    .colab-df-convert {\n",
              "      background-color: #E8F0FE;\n",
              "      border: none;\n",
              "      border-radius: 50%;\n",
              "      cursor: pointer;\n",
              "      display: none;\n",
              "      fill: #1967D2;\n",
              "      height: 32px;\n",
              "      padding: 0 0 0 0;\n",
              "      width: 32px;\n",
              "    }\n",
              "\n",
              "    .colab-df-convert:hover {\n",
              "      background-color: #E2EBFA;\n",
              "      box-shadow: 0px 1px 2px rgba(60, 64, 67, 0.3), 0px 1px 3px 1px rgba(60, 64, 67, 0.15);\n",
              "      fill: #174EA6;\n",
              "    }\n",
              "\n",
              "    [theme=dark] .colab-df-convert {\n",
              "      background-color: #3B4455;\n",
              "      fill: #D2E3FC;\n",
              "    }\n",
              "\n",
              "    [theme=dark] .colab-df-convert:hover {\n",
              "      background-color: #434B5C;\n",
              "      box-shadow: 0px 1px 3px 1px rgba(0, 0, 0, 0.15);\n",
              "      filter: drop-shadow(0px 1px 2px rgba(0, 0, 0, 0.3));\n",
              "      fill: #FFFFFF;\n",
              "    }\n",
              "  </style>\n",
              "\n",
              "      <script>\n",
              "        const buttonEl =\n",
              "          document.querySelector('#df-82b497eb-3682-4e8f-a365-edb62c3ccba0 button.colab-df-convert');\n",
              "        buttonEl.style.display =\n",
              "          google.colab.kernel.accessAllowed ? 'block' : 'none';\n",
              "\n",
              "        async function convertToInteractive(key) {\n",
              "          const element = document.querySelector('#df-82b497eb-3682-4e8f-a365-edb62c3ccba0');\n",
              "          const dataTable =\n",
              "            await google.colab.kernel.invokeFunction('convertToInteractive',\n",
              "                                                     [key], {});\n",
              "          if (!dataTable) return;\n",
              "\n",
              "          const docLinkHtml = 'Like what you see? Visit the ' +\n",
              "            '<a target=\"_blank\" href=https://colab.research.google.com/notebooks/data_table.ipynb>data table notebook</a>'\n",
              "            + ' to learn more about interactive tables.';\n",
              "          element.innerHTML = '';\n",
              "          dataTable['output_type'] = 'display_data';\n",
              "          await google.colab.output.renderOutput(dataTable, element);\n",
              "          const docLink = document.createElement('div');\n",
              "          docLink.innerHTML = docLinkHtml;\n",
              "          element.appendChild(docLink);\n",
              "        }\n",
              "      </script>\n",
              "    </div>\n",
              "  </div>\n",
              "  "
            ],
            "text/plain": [
              "       Population     Profit\n",
              "count   97.000000  97.000000\n",
              "mean     8.159800   5.839135\n",
              "std      3.869884   5.510262\n",
              "min      5.026900  -2.680700\n",
              "25%      5.707700   1.986900\n",
              "50%      6.589400   4.562300\n",
              "75%      8.578100   7.046700\n",
              "max     22.203000  24.147000"
            ]
          },
          "metadata": {},
          "execution_count": 670
        }
      ],
      "source": [
        "data.describe()"
      ]
    },
    {
      "cell_type": "markdown",
      "metadata": {
        "id": "Unwhqc14s-Y-"
      },
      "source": [
        "看下数据长什么样子"
      ]
    },
    {
      "cell_type": "code",
      "execution_count": 671,
      "metadata": {
        "colab": {
          "base_uri": "https://localhost:8080/",
          "height": 497
        },
        "id": "MbegX13Rs-Y-",
        "outputId": "c09032fe-938e-4351-ddc5-cbc38e42f38d"
      },
      "outputs": [
        {
          "output_type": "display_data",
          "data": {
            "image/png": "[encoded data removed]",
            "text/plain": [
              "<Figure size 864x576 with 1 Axes>"
            ]
          },
          "metadata": {
            "needs_background": "light"
          }
        }
      ],
      "source": [
        "data.plot(kind='scatter', x='Population', y='Profit', figsize=(12,8))\n",
        "plt.show()"
      ]
    },
    {
      "cell_type": "markdown",
      "metadata": {
        "id": "TTZngmyZs-Y_"
      },
      "source": [
        "现在让我们使用梯度下降来实现线性回归，以最小化成本函数。 以下代码示例中实现的方程在“练习”文件夹中的“ex1.pdf”中有详细说明。"
      ]
    },
    {
      "cell_type": "markdown",
      "metadata": {
        "id": "NDjh0qJEs-ZA"
      },
      "source": [
        "首先，我们将创建一个以参数θ为特征函数的代价函数\n",
        "$$J\\left( \\theta  \\right)=\\frac{1}{2m}\\sum\\limits_{i=1}^{m}{{{\\left( {{h}_{\\theta }}\\left( {{x}^{(i)}} \\right)-{{y}^{(i)}} \\right)}^{2}}}$$\n",
        "其中：\\\\[{{h}_{\\theta }}\\left( x \\right)={{\\theta }^{T}}X={{\\theta }_{0}}{{x}_{0}}+{{\\theta }_{1}}{{x}_{1}}+{{\\theta }_{2}}{{x}_{2}}+...+{{\\theta }_{n}}{{x}_{n}}\\\\] "
      ]
    },
    {
      "cell_type": "code",
      "source": [
        "def get_device():\n",
        "  #  if GPU , get device\n",
        "    return 'cuda' if torch.cuda.is_available() else 'cpu'"
      ],
      "metadata": {
        "id": "5qYlOG8lt7vB"
      },
      "execution_count": 672,
      "outputs": []
    },
    {
      "cell_type": "markdown",
      "source": [
        "## computeCost(X, y, theta):(numpy)"
      ],
      "metadata": {
        "id": "H6HAq1kRwi_7"
      }
    },
    {
      "cell_type": "code",
      "execution_count": 673,
      "metadata": {
        "collapsed": true,
        "id": "DSoZ4F5Us-ZA"
      },
      "outputs": [],
      "source": [
        "#def computeCost(X, y, theta):\n",
        " #   inner = np.power(((X * theta.T) - y), 2)\n",
        " #   return np.sum(inner) / (2 * len(X))"
      ]
    },
    {
      "cell_type": "code",
      "source": [
        "#def computeCost(X, y, theta):\n",
        " #   criterion  = nn.MSELoss(reduction='mean')\n",
        " #   return criterion(X * theta.T,y)"
      ],
      "metadata": {
        "id": "Wb2j4jUlwoMz"
      },
      "execution_count": 674,
      "outputs": []
    },
    {
      "cell_type": "markdown",
      "metadata": {
        "id": "kAWMHkO1s-ZB"
      },
      "source": [
        "让我们在训练集中添加一列，以便我们可以使用向量化的解决方案来计算代价和梯度。"
      ]
    },
    {
      "cell_type": "code",
      "execution_count": 675,
      "metadata": {
        "collapsed": true,
        "id": "4UuRdS-Es-ZB"
      },
      "outputs": [],
      "source": [
        "data.insert(0, 'Ones', 1)"
      ]
    },
    {
      "cell_type": "markdown",
      "metadata": {
        "id": "kfdLxKuHs-ZB"
      },
      "source": [
        "现在我们来做一些变量初始化。"
      ]
    },
    {
      "cell_type": "code",
      "execution_count": 676,
      "metadata": {
        "collapsed": true,
        "colab": {
          "base_uri": "https://localhost:8080/"
        },
        "id": "7igNyFqJs-ZC",
        "outputId": "58500cff-d718-4cdd-833c-dd698929f869"
      },
      "outputs": [
        {
          "output_type": "stream",
          "name": "stdout",
          "text": [
            "3\n",
            "(97, 2)\n"
          ]
        }
      ],
      "source": [
        "# set X (training data) and y (target variable)\n",
        "cols = data.shape[1]\n",
        "print(cols)\n",
        "X = data.iloc[:,1:cols]#X是所有行，去掉最后一列\n",
        "y = data.iloc[:,cols-1:cols]#X是所有行，最后一列\n",
        "inputDim  = X.shape\n",
        "print(inputDim)"
      ]
    },
    {
      "cell_type": "markdown",
      "metadata": {
        "id": "K2sT0gmRs-ZC"
      },
      "source": [
        "观察下 X (训练集) and y (目标变量)是否正确."
      ]
    },
    {
      "cell_type": "code",
      "execution_count": 677,
      "metadata": {
        "scrolled": true,
        "colab": {
          "base_uri": "https://localhost:8080/",
          "height": 206
        },
        "id": "DcinUb1Ts-ZC",
        "outputId": "43cd9d7f-f572-43ee-b0f0-eae0d0887ca8"
      },
      "outputs": [
        {
          "output_type": "execute_result",
          "data": {
            "text/html": [
              "\n",
              "  <div id=\"df-600537c2-6227-458d-8df1-89a2bf7c2cf3\">\n",
              "    <div class=\"colab-df-container\">\n",
              "      <div>\n",
              "<style scoped>\n",
              "    .dataframe tbody tr th:only-of-type {\n",
              "        vertical-align: middle;\n",
              "    }\n",
              "\n",
              "    .dataframe tbody tr th {\n",
              "        vertical-align: top;\n",
              "    }\n",
              "\n",
              "    .dataframe thead th {\n",
              "        text-align: right;\n",
              "    }\n",
              "</style>\n",
              "<table border=\"1\" class=\"dataframe\">\n",
              "  <thead>\n",
              "    <tr style=\"text-align: right;\">\n",
              "      <th></th>\n",
              "      <th>Population</th>\n",
              "      <th>Profit</th>\n",
              "    </tr>\n",
              "  </thead>\n",
              "  <tbody>\n",
              "    <tr>\n",
              "      <th>0</th>\n",
              "      <td>6.1101</td>\n",
              "      <td>17.5920</td>\n",
              "    </tr>\n",
              "    <tr>\n",
              "      <th>1</th>\n",
              "      <td>5.5277</td>\n",
              "      <td>9.1302</td>\n",
              "    </tr>\n",
              "    <tr>\n",
              "      <th>2</th>\n",
              "      <td>8.5186</td>\n",
              "      <td>13.6620</td>\n",
              "    </tr>\n",
              "    <tr>\n",
              "      <th>3</th>\n",
              "      <td>7.0032</td>\n",
              "      <td>11.8540</td>\n",
              "    </tr>\n",
              "    <tr>\n",
              "      <th>4</th>\n",
              "      <td>5.8598</td>\n",
              "      <td>6.8233</td>\n",
              "    </tr>\n",
              "  </tbody>\n",
              "</table>\n",
              "</div>\n",
              "      <button class=\"colab-df-convert\" onclick=\"convertToInteractive('df-600537c2-6227-458d-8df1-89a2bf7c2cf3')\"\n",
              "              title=\"Convert this dataframe to an interactive table.\"\n",
              "              style=\"display:none;\">\n",
              "        \n",
              "  <svg xmlns=\"http://www.w3.org/2000/svg\" height=\"24px\"viewBox=\"0 0 24 24\"\n",
              "       width=\"24px\">\n",
              "    <path d=\"M0 0h24v24H0V0z\" fill=\"none\"/>\n",
              "    <path d=\"M18.56 5.44l.94 2.06.94-2.06 2.06-.94-2.06-.94-.94-2.06-.94 2.06-2.06.94zm-11 1L8.5 8.5l.94-2.06 2.06-.94-2.06-.94L8.5 2.5l-.94 2.06-2.06.94zm10 10l.94 2.06.94-2.06 2.06-.94-2.06-.94-.94-2.06-.94 2.06-2.06.94z\"/><path d=\"M17.41 7.96l-1.37-1.37c-.4-.4-.92-.59-1.43-.59-.52 0-1.04.2-1.43.59L10.3 9.45l-7.72 7.72c-.78.78-.78 2.05 0 2.83L4 21.41c.39.39.9.59 1.41.59.51 0 1.02-.2 1.41-.59l7.78-7.78 2.81-2.81c.8-.78.8-2.07 0-2.86zM5.41 20L4 18.59l7.72-7.72 1.47 1.35L5.41 20z\"/>\n",
              "  </svg>\n",
              "      </button>\n",
              "      \n",
              "  <style>\n",
              "    .colab-df-container {\n",
              "      display:flex;\n",
              "      flex-wrap:wrap;\n",
              "      gap: 12px;\n",
              "    }\n",
              "\n",
              "    .colab-df-convert {\n",
              "      background-color: #E8F0FE;\n",
              "      border: none;\n",
              "      border-radius: 50%;\n",
              "      cursor: pointer;\n",
              "      display: none;\n",
              "      fill: #1967D2;\n",
              "      height: 32px;\n",
              "      padding: 0 0 0 0;\n",
              "      width: 32px;\n",
              "    }\n",
              "\n",
              "    .colab-df-convert:hover {\n",
              "      background-color: #E2EBFA;\n",
              "      box-shadow: 0px 1px 2px rgba(60, 64, 67, 0.3), 0px 1px 3px 1px rgba(60, 64, 67, 0.15);\n",
              "      fill: #174EA6;\n",
              "    }\n",
              "\n",
              "    [theme=dark] .colab-df-convert {\n",
              "      background-color: #3B4455;\n",
              "      fill: #D2E3FC;\n",
              "    }\n",
              "\n",
              "    [theme=dark] .colab-df-convert:hover {\n",
              "      background-color: #434B5C;\n",
              "      box-shadow: 0px 1px 3px 1px rgba(0, 0, 0, 0.15);\n",
              "      filter: drop-shadow(0px 1px 2px rgba(0, 0, 0, 0.3));\n",
              "      fill: #FFFFFF;\n",
              "    }\n",
              "  </style>\n",
              "\n",
              "      <script>\n",
              "        const buttonEl =\n",
              "          document.querySelector('#df-600537c2-6227-458d-8df1-89a2bf7c2cf3 button.colab-df-convert');\n",
              "        buttonEl.style.display =\n",
              "          google.colab.kernel.accessAllowed ? 'block' : 'none';\n",
              "\n",
              "        async function convertToInteractive(key) {\n",
              "          const element = document.querySelector('#df-600537c2-6227-458d-8df1-89a2bf7c2cf3');\n",
              "          const dataTable =\n",
              "            await google.colab.kernel.invokeFunction('convertToInteractive',\n",
              "                                                     [key], {});\n",
              "          if (!dataTable) return;\n",
              "\n",
              "          const docLinkHtml = 'Like what you see? Visit the ' +\n",
              "            '<a target=\"_blank\" href=https://colab.research.google.com/notebooks/data_table.ipynb>data table notebook</a>'\n",
              "            + ' to learn more about interactive tables.';\n",
              "          element.innerHTML = '';\n",
              "          dataTable['output_type'] = 'display_data';\n",
              "          await google.colab.output.renderOutput(dataTable, element);\n",
              "          const docLink = document.createElement('div');\n",
              "          docLink.innerHTML = docLinkHtml;\n",
              "          element.appendChild(docLink);\n",
              "        }\n",
              "      </script>\n",
              "    </div>\n",
              "  </div>\n",
              "  "
            ],
            "text/plain": [
              "   Population   Profit\n",
              "0      6.1101  17.5920\n",
              "1      5.5277   9.1302\n",
              "2      8.5186  13.6620\n",
              "3      7.0032  11.8540\n",
              "4      5.8598   6.8233"
            ]
          },
          "metadata": {},
          "execution_count": 677
        }
      ],
      "source": [
        "X.head()#head()是观察前5行"
      ]
    },
    {
      "cell_type": "code",
      "execution_count": 678,
      "metadata": {
        "colab": {
          "base_uri": "https://localhost:8080/",
          "height": 206
        },
        "id": "Ja46Ap5xs-ZD",
        "outputId": "f6f4875c-3874-462b-c144-44a524cca3f9"
      },
      "outputs": [
        {
          "output_type": "execute_result",
          "data": {
            "text/html": [
              "\n",
              "  <div id=\"df-846e49b4-9929-47ae-9d1c-a9c582cfe6ae\">\n",
              "    <div class=\"colab-df-container\">\n",
              "      <div>\n",
              "<style scoped>\n",
              "    .dataframe tbody tr th:only-of-type {\n",
              "        vertical-align: middle;\n",
              "    }\n",
              "\n",
              "    .dataframe tbody tr th {\n",
              "        vertical-align: top;\n",
              "    }\n",
              "\n",
              "    .dataframe thead th {\n",
              "        text-align: right;\n",
              "    }\n",
              "</style>\n",
              "<table border=\"1\" class=\"dataframe\">\n",
              "  <thead>\n",
              "    <tr style=\"text-align: right;\">\n",
              "      <th></th>\n",
              "      <th>Profit</th>\n",
              "    </tr>\n",
              "  </thead>\n",
              "  <tbody>\n",
              "    <tr>\n",
              "      <th>0</th>\n",
              "      <td>17.5920</td>\n",
              "    </tr>\n",
              "    <tr>\n",
              "      <th>1</th>\n",
              "      <td>9.1302</td>\n",
              "    </tr>\n",
              "    <tr>\n",
              "      <th>2</th>\n",
              "      <td>13.6620</td>\n",
              "    </tr>\n",
              "    <tr>\n",
              "      <th>3</th>\n",
              "      <td>11.8540</td>\n",
              "    </tr>\n",
              "    <tr>\n",
              "      <th>4</th>\n",
              "      <td>6.8233</td>\n",
              "    </tr>\n",
              "  </tbody>\n",
              "</table>\n",
              "</div>\n",
              "      <button class=\"colab-df-convert\" onclick=\"convertToInteractive('df-846e49b4-9929-47ae-9d1c-a9c582cfe6ae')\"\n",
              "              title=\"Convert this dataframe to an interactive table.\"\n",
              "              style=\"display:none;\">\n",
              "        \n",
              "  <svg xmlns=\"http://www.w3.org/2000/svg\" height=\"24px\"viewBox=\"0 0 24 24\"\n",
              "       width=\"24px\">\n",
              "    <path d=\"M0 0h24v24H0V0z\" fill=\"none\"/>\n",
              "    <path d=\"M18.56 5.44l.94 2.06.94-2.06 2.06-.94-2.06-.94-.94-2.06-.94 2.06-2.06.94zm-11 1L8.5 8.5l.94-2.06 2.06-.94-2.06-.94L8.5 2.5l-.94 2.06-2.06.94zm10 10l.94 2.06.94-2.06 2.06-.94-2.06-.94-.94-2.06-.94 2.06-2.06.94z\"/><path d=\"M17.41 7.96l-1.37-1.37c-.4-.4-.92-.59-1.43-.59-.52 0-1.04.2-1.43.59L10.3 9.45l-7.72 7.72c-.78.78-.78 2.05 0 2.83L4 21.41c.39.39.9.59 1.41.59.51 0 1.02-.2 1.41-.59l7.78-7.78 2.81-2.81c.8-.78.8-2.07 0-2.86zM5.41 20L4 18.59l7.72-7.72 1.47 1.35L5.41 20z\"/>\n",
              "  </svg>\n",
              "      </button>\n",
              "      \n",
              "  <style>\n",
              "    .colab-df-container {\n",
              "      display:flex;\n",
              "      flex-wrap:wrap;\n",
              "      gap: 12px;\n",
              "    }\n",
              "\n",
              "    .colab-df-convert {\n",
              "      background-color: #E8F0FE;\n",
              "      border: none;\n",
              "      border-radius: 50%;\n",
              "      cursor: pointer;\n",
              "      display: none;\n",
              "      fill: #1967D2;\n",
              "      height: 32px;\n",
              "      padding: 0 0 0 0;\n",
              "      width: 32px;\n",
              "    }\n",
              "\n",
              "    .colab-df-convert:hover {\n",
              "      background-color: #E2EBFA;\n",
              "      box-shadow: 0px 1px 2px rgba(60, 64, 67, 0.3), 0px 1px 3px 1px rgba(60, 64, 67, 0.15);\n",
              "      fill: #174EA6;\n",
              "    }\n",
              "\n",
              "    [theme=dark] .colab-df-convert {\n",
              "      background-color: #3B4455;\n",
              "      fill: #D2E3FC;\n",
              "    }\n",
              "\n",
              "    [theme=dark] .colab-df-convert:hover {\n",
              "      background-color: #434B5C;\n",
              "      box-shadow: 0px 1px 3px 1px rgba(0, 0, 0, 0.15);\n",
              "      filter: drop-shadow(0px 1px 2px rgba(0, 0, 0, 0.3));\n",
              "      fill: #FFFFFF;\n",
              "    }\n",
              "  </style>\n",
              "\n",
              "      <script>\n",
              "        const buttonEl =\n",
              "          document.querySelector('#df-846e49b4-9929-47ae-9d1c-a9c582cfe6ae button.colab-df-convert');\n",
              "        buttonEl.style.display =\n",
              "          google.colab.kernel.accessAllowed ? 'block' : 'none';\n",
              "\n",
              "        async function convertToInteractive(key) {\n",
              "          const element = document.querySelector('#df-846e49b4-9929-47ae-9d1c-a9c582cfe6ae');\n",
              "          const dataTable =\n",
              "            await google.colab.kernel.invokeFunction('convertToInteractive',\n",
              "                                                     [key], {});\n",
              "          if (!dataTable) return;\n",
              "\n",
              "          const docLinkHtml = 'Like what you see? Visit the ' +\n",
              "            '<a target=\"_blank\" href=https://colab.research.google.com/notebooks/data_table.ipynb>data table notebook</a>'\n",
              "            + ' to learn more about interactive tables.';\n",
              "          element.innerHTML = '';\n",
              "          dataTable['output_type'] = 'display_data';\n",
              "          await google.colab.output.renderOutput(dataTable, element);\n",
              "          const docLink = document.createElement('div');\n",
              "          docLink.innerHTML = docLinkHtml;\n",
              "          element.appendChild(docLink);\n",
              "        }\n",
              "      </script>\n",
              "    </div>\n",
              "  </div>\n",
              "  "
            ],
            "text/plain": [
              "    Profit\n",
              "0  17.5920\n",
              "1   9.1302\n",
              "2  13.6620\n",
              "3  11.8540\n",
              "4   6.8233"
            ]
          },
          "metadata": {},
          "execution_count": 678
        }
      ],
      "source": [
        "y.head()"
      ]
    },
    {
      "cell_type": "markdown",
      "metadata": {
        "id": "n4XTffZis-ZD"
      },
      "source": [
        "代价函数是应该是numpy矩阵，所以我们需要转换X和Y，然后才能使用它们。 我们还需要初始化theta。"
      ]
    },
    {
      "cell_type": "markdown",
      "source": [
        "##numpy (read data)"
      ],
      "metadata": {
        "id": "Tdtca70kuZ3x"
      }
    },
    {
      "cell_type": "code",
      "execution_count": 679,
      "metadata": {
        "collapsed": true,
        "id": "PVEMl5Fqs-ZD"
      },
      "outputs": [],
      "source": [
        "#X = np.matrix(X.values)\n",
        "#y = np.matrix(y.values)\n",
        "#theta = np.matrix(np.array([0,0]))"
      ]
    },
    {
      "cell_type": "code",
      "source": [
        "from torch.autograd import Variable\n",
        "\n",
        "X = np.array(X)\n",
        "y = np.array(y)\n",
        "theta = np.array([0,0])\n",
        "\n",
        "\n",
        "#X = torch.FloatTensor(X)\n",
        "#y = torch.FloatTensor(y)\n",
        "#theta = torch.FloatTensor(theta)\n"
      ],
      "metadata": {
        "id": "evzxN3cLuc5x"
      },
      "execution_count": 680,
      "outputs": []
    },
    {
      "cell_type": "markdown",
      "metadata": {
        "id": "ggYCTCTEs-ZE"
      },
      "source": [
        "theta 是一个(1,2)矩阵"
      ]
    },
    {
      "cell_type": "code",
      "execution_count": 681,
      "metadata": {
        "colab": {
          "base_uri": "https://localhost:8080/"
        },
        "id": "2UcJtdZds-ZE",
        "outputId": "42773df1-e7c8-457b-89e9-624a1fd5261e"
      },
      "outputs": [
        {
          "output_type": "execute_result",
          "data": {
            "text/plain": [
              "array([0, 0])"
            ]
          },
          "metadata": {},
          "execution_count": 681
        }
      ],
      "source": [
        "theta"
      ]
    },
    {
      "cell_type": "markdown",
      "metadata": {
        "id": "936PsI2ss-ZE"
      },
      "source": [
        "看下维度"
      ]
    },
    {
      "cell_type": "code",
      "execution_count": 682,
      "metadata": {
        "colab": {
          "base_uri": "https://localhost:8080/"
        },
        "id": "mtVX25X-s-ZE",
        "outputId": "7647a9df-bb4a-4387-a6f8-229de1ef5235"
      },
      "outputs": [
        {
          "output_type": "execute_result",
          "data": {
            "text/plain": [
              "((97, 2), (2,), (97, 1))"
            ]
          },
          "metadata": {},
          "execution_count": 682
        }
      ],
      "source": [
        "X.shape, theta.shape, y.shape"
      ]
    },
    {
      "cell_type": "markdown",
      "metadata": {
        "id": "lFvloIfds-ZF"
      },
      "source": [
        "计算代价函数 (theta初始值为0)."
      ]
    },
    {
      "cell_type": "code",
      "execution_count": 683,
      "metadata": {
        "id": "Kn5bfMcAs-ZF"
      },
      "outputs": [],
      "source": [
        "#computeCost(X, y, theta)"
      ]
    },
    {
      "cell_type": "markdown",
      "metadata": {
        "id": "K1Za1gzRs-ZF"
      },
      "source": [
        "# batch gradient decent（批量梯度下降）\n",
        "$${{\\theta }_{j}}:={{\\theta }_{j}}-\\alpha \\frac{\\partial }{\\partial {{\\theta }_{j}}}J\\left( \\theta  \\right)$$"
      ]
    },
    {
      "cell_type": "code",
      "execution_count": 684,
      "metadata": {
        "collapsed": true,
        "id": "SOiyLzOas-ZF"
      },
      "outputs": [],
      "source": [
        "#def gradientDescent(X, y, theta, alpha, iters):\n",
        "#    temp = np.matrix(np.zeros(theta.shape))\n",
        "#    parameters = int(theta.ravel().shape[1])\n",
        "#    cost = np.zeros(iters)\n",
        "#    \n",
        "#    for i in range(iters):\n",
        "#        error = (X * theta.T) - y\n",
        "#        \n",
        "#        for j in range(parameters):\n",
        "#            term = np.multiply(error, X[:,j])\n",
        "#            temp[0,j] = theta[0,j] - ((alpha / len(X)) * np.sum(term))\n",
        "#            \n",
        "#        theta = temp\n",
        "#        cost[i] = computeCost(X, y, theta)\n",
        "#        \n",
        "#    return theta, cost"
      ]
    },
    {
      "cell_type": "code",
      "source": [
        "from torch.cuda import device\n",
        "#def gradientDescent(X, y, theta, alpha, iters):\n",
        "#    X,y = X.to(device), y.to(device)\n",
        " #   for i in range(iters):\n",
        " #       while torch.no_grad():\n",
        " #           mse_loss = computeCost(X, y, theta)\n",
        " #           print(mse_loss)\n",
        "\n",
        "        "
      ],
      "metadata": {
        "id": "fmm3oX0ZxsFv"
      },
      "execution_count": 685,
      "outputs": []
    },
    {
      "cell_type": "code",
      "source": [
        "import torch\n",
        "from torch.autograd import Variable\n",
        "## torch \n",
        "class LinearRegression(nn.Module):\n",
        "    def __init__(self, input_dim, output_dim):\n",
        "        super(LinearRegression, self).__init__()\n",
        "        self.linear = torch.nn.Linear(input_dim,output_dim)\n",
        "        # Mean squared error loss\n",
        "        self.criterion = nn.MSELoss(reduction = 'mean')\n",
        "        \n",
        "    def forward(self,x):\n",
        "        out = self.linear(x)\n",
        "        return out\n",
        "    def cal_loss(self, pred, target):\n",
        "        ''' Calculate loss '''\n",
        "        # TODO: you may implement L2 regularization here\n",
        "       #  self.criterion = ((pred - target.cuda())**2).mean() \n",
        "        x = self.criterion(pred, target)\n",
        "        res = torch.div(x, 2)\n",
        "        return res\n",
        "        "
      ],
      "metadata": {
        "id": "DJGdMcuU0vai"
      },
      "execution_count": 686,
      "outputs": []
    },
    {
      "cell_type": "markdown",
      "source": [
        ""
      ],
      "metadata": {
        "id": "lkFtYLFRzHnN"
      }
    },
    {
      "cell_type": "markdown",
      "metadata": {
        "id": "Yg4VO32ts-ZF"
      },
      "source": [
        "初始化一些附加变量 - 学习速率α和要执行的迭代次数。"
      ]
    },
    {
      "cell_type": "code",
      "execution_count": 687,
      "metadata": {
        "collapsed": true,
        "id": "6fqdJEYss-ZG"
      },
      "outputs": [],
      "source": [
        "learningRate = 0.001\n",
        "epochs = 1000\n",
        "input_dim = 2\n",
        "output_dim  = 1"
      ]
    },
    {
      "cell_type": "markdown",
      "metadata": {
        "id": "R2ed_F5Es-ZG"
      },
      "source": [
        "现在让我们运行梯度下降算法来将我们的参数θ适合于训练集。"
      ]
    },
    {
      "cell_type": "code",
      "source": [
        "model = LinearRegression(input_dim, output_dim)\n",
        "##### For GPU #######\n",
        "if torch.cuda.is_available():\n",
        "    model.cuda()"
      ],
      "metadata": {
        "id": "_r3jxKpE2bC7"
      },
      "execution_count": 688,
      "outputs": []
    },
    {
      "cell_type": "code",
      "source": [
        "#criterion = torch.nn.MSELoss()   # define MMSE\n",
        "optimizer = torch.optim.SGD(model.parameters(), lr=learningRate) # optimization method"
      ],
      "metadata": {
        "id": "Edq5ajHn2nHh"
      },
      "execution_count": 689,
      "outputs": []
    },
    {
      "cell_type": "code",
      "source": [
        "for epoch in range(epochs):\n",
        "   # model.train() \n",
        "    # Converting inputs and labels to Variable (Gpu)\n",
        "    if torch.cuda.is_available():\n",
        "        inputs = Variable(torch.from_numpy(X).cuda())\n",
        "        labels = Variable(torch.from_numpy(y).cuda())\n",
        "    else:\n",
        "        inputs = Variable(torch.from_numpy(X))\n",
        "        \n",
        "        labels = Variable(torch.from_numpy(y))\n",
        "    optimizer.zero_grad()\n",
        "    # get output from the model, given the inputs\n",
        "    outputs = model(inputs.float())\n",
        "    #print(outputs)\n",
        "    # get loss for the predicted output\n",
        "    #loss = criterion(outputs.float(), labels.float())\n",
        "    mse_loss = model.cal_loss(outputs.float(), labels.float())  # compute loss\n",
        "    # get gradients w.r.t to parameters\n",
        "\n",
        "    mse_loss.backward()\n",
        "\n",
        "    # update parameters\n",
        "    optimizer.step()\n",
        "\n",
        "    print('epoch {}, loss {}'.format(epoch, mse_loss.item()))"
      ],
      "metadata": {
        "colab": {
          "base_uri": "https://localhost:8080/"
        },
        "id": "py4Ae7if2-6P",
        "outputId": "8b5ee143-714c-426c-e437-9362e4227aaa"
      },
      "execution_count": 690,
      "outputs": [
        {
          "output_type": "stream",
          "name": "stdout",
          "text": [
            "epoch 0, loss 46.49204635620117\n",
            "epoch 1, loss 34.75977325439453\n",
            "epoch 2, loss 26.065746307373047\n",
            "epoch 3, loss 19.622045516967773\n",
            "epoch 4, loss 14.845108985900879\n",
            "epoch 5, loss 11.302716255187988\n",
            "epoch 6, loss 8.674750328063965\n",
            "epoch 7, loss 6.7241058349609375\n",
            "epoch 8, loss 5.275180816650391\n",
            "epoch 9, loss 4.197910308837891\n",
            "epoch 10, loss 3.3959619998931885\n",
            "epoch 11, loss 2.7979884147644043\n",
            "epoch 12, loss 2.3511431217193604\n",
            "epoch 13, loss 2.0162856578826904\n",
            "epoch 14, loss 1.7644282579421997\n",
            "epoch 15, loss 1.5740963220596313\n",
            "epoch 16, loss 1.4293874502182007\n",
            "epoch 17, loss 1.3185209035873413\n",
            "epoch 18, loss 1.2327711582183838\n",
            "epoch 19, loss 1.165675163269043\n",
            "epoch 20, loss 1.1124449968338013\n",
            "epoch 21, loss 1.0695345401763916\n",
            "epoch 22, loss 1.0343157052993774\n",
            "epoch 23, loss 1.004841685295105\n",
            "epoch 24, loss 0.9796704053878784\n",
            "epoch 25, loss 0.9577322006225586\n",
            "epoch 26, loss 0.9382345676422119\n",
            "epoch 27, loss 0.9205906987190247\n",
            "epoch 28, loss 0.9043643474578857\n",
            "epoch 29, loss 0.8892316818237305\n",
            "epoch 30, loss 0.8749530911445618\n",
            "epoch 31, loss 0.8613499402999878\n",
            "epoch 32, loss 0.8482894897460938\n",
            "epoch 33, loss 0.8356726765632629\n",
            "epoch 34, loss 0.8234256505966187\n",
            "epoch 35, loss 0.811492919921875\n",
            "epoch 36, loss 0.7998335957527161\n",
            "epoch 37, loss 0.7884154915809631\n",
            "epoch 38, loss 0.7772156596183777\n",
            "epoch 39, loss 0.7662157416343689\n",
            "epoch 40, loss 0.7554012537002563\n",
            "epoch 41, loss 0.744762122631073\n",
            "epoch 42, loss 0.7342891097068787\n",
            "epoch 43, loss 0.7239757180213928\n",
            "epoch 44, loss 0.7138163447380066\n",
            "epoch 45, loss 0.7038059830665588\n",
            "epoch 46, loss 0.6939412951469421\n",
            "epoch 47, loss 0.6842184066772461\n",
            "epoch 48, loss 0.6746346354484558\n",
            "epoch 49, loss 0.6651870608329773\n",
            "epoch 50, loss 0.65587317943573\n",
            "epoch 51, loss 0.646691083908081\n",
            "epoch 52, loss 0.6376379728317261\n",
            "epoch 53, loss 0.6287124752998352\n",
            "epoch 54, loss 0.619912326335907\n",
            "epoch 55, loss 0.6112356781959534\n",
            "epoch 56, loss 0.6026806235313416\n",
            "epoch 57, loss 0.5942457318305969\n",
            "epoch 58, loss 0.5859288573265076\n",
            "epoch 59, loss 0.5777285695075989\n",
            "epoch 60, loss 0.5696431398391724\n",
            "epoch 61, loss 0.5616708993911743\n",
            "epoch 62, loss 0.5538102388381958\n",
            "epoch 63, loss 0.5460596680641174\n",
            "epoch 64, loss 0.5384175181388855\n",
            "epoch 65, loss 0.5308825373649597\n",
            "epoch 66, loss 0.5234527587890625\n",
            "epoch 67, loss 0.5161271095275879\n",
            "epoch 68, loss 0.5089040398597717\n",
            "epoch 69, loss 0.5017819404602051\n",
            "epoch 70, loss 0.4947596490383148\n",
            "epoch 71, loss 0.48783549666404724\n",
            "epoch 72, loss 0.48100829124450684\n",
            "epoch 73, loss 0.47427666187286377\n",
            "epoch 74, loss 0.46763932704925537\n",
            "epoch 75, loss 0.4610949158668518\n",
            "epoch 76, loss 0.4546419084072113\n",
            "epoch 77, loss 0.4482792913913727\n",
            "epoch 78, loss 0.4420057237148285\n",
            "epoch 79, loss 0.43581998348236084\n",
            "epoch 80, loss 0.42972084879875183\n",
            "epoch 81, loss 0.4237067401409149\n",
            "epoch 82, loss 0.41777724027633667\n",
            "epoch 83, loss 0.41193050146102905\n",
            "epoch 84, loss 0.4061656594276428\n",
            "epoch 85, loss 0.400481641292572\n",
            "epoch 86, loss 0.39487698674201965\n",
            "epoch 87, loss 0.389350950717926\n",
            "epoch 88, loss 0.38390204310417175\n",
            "epoch 89, loss 0.37852945923805237\n",
            "epoch 90, loss 0.37323200702667236\n",
            "epoch 91, loss 0.3680087625980377\n",
            "epoch 92, loss 0.36285868287086487\n",
            "epoch 93, loss 0.3577806055545807\n",
            "epoch 94, loss 0.35277363657951355\n",
            "epoch 95, loss 0.34783676266670227\n",
            "epoch 96, loss 0.34296897053718567\n",
            "epoch 97, loss 0.338169127702713\n",
            "epoch 98, loss 0.33343660831451416\n",
            "epoch 99, loss 0.32877030968666077\n",
            "epoch 100, loss 0.3241692781448364\n",
            "epoch 101, loss 0.3196326792240143\n",
            "epoch 102, loss 0.31515952944755554\n",
            "epoch 103, loss 0.3107491135597229\n",
            "epoch 104, loss 0.3064003586769104\n",
            "epoch 105, loss 0.3021124005317688\n",
            "epoch 106, loss 0.29788461327552795\n",
            "epoch 107, loss 0.2937159240245819\n",
            "epoch 108, loss 0.28960558772087097\n",
            "epoch 109, loss 0.2855527698993683\n",
            "epoch 110, loss 0.2815565764904022\n",
            "epoch 111, loss 0.2776164710521698\n",
            "epoch 112, loss 0.2737313508987427\n",
            "epoch 113, loss 0.2699005603790283\n",
            "epoch 114, loss 0.266123503446579\n",
            "epoch 115, loss 0.262399286031723\n",
            "epoch 116, loss 0.258727103471756\n",
            "epoch 117, loss 0.25510644912719727\n",
            "epoch 118, loss 0.25153636932373047\n",
            "epoch 119, loss 0.2480163425207138\n",
            "epoch 120, loss 0.24454568326473236\n",
            "epoch 121, loss 0.24112336337566376\n",
            "epoch 122, loss 0.23774904012680054\n",
            "epoch 123, loss 0.23442186415195465\n",
            "epoch 124, loss 0.23114143311977386\n",
            "epoch 125, loss 0.22790676355361938\n",
            "epoch 126, loss 0.224717378616333\n",
            "epoch 127, loss 0.2215726375579834\n",
            "epoch 128, loss 0.21847186982631683\n",
            "epoch 129, loss 0.2154146134853363\n",
            "epoch 130, loss 0.2124001532793045\n",
            "epoch 131, loss 0.20942765474319458\n",
            "epoch 132, loss 0.2064969688653946\n",
            "epoch 133, loss 0.2036072313785553\n",
            "epoch 134, loss 0.2007579356431961\n",
            "epoch 135, loss 0.19794857501983643\n",
            "epoch 136, loss 0.19517843425273895\n",
            "epoch 137, loss 0.19244717061519623\n",
            "epoch 138, loss 0.18975405395030975\n",
            "epoch 139, loss 0.18709872663021088\n",
            "epoch 140, loss 0.1844804584980011\n",
            "epoch 141, loss 0.18189889192581177\n",
            "epoch 142, loss 0.17935334146022797\n",
            "epoch 143, loss 0.1768435388803482\n",
            "epoch 144, loss 0.17436888813972473\n",
            "epoch 145, loss 0.1719287931919098\n",
            "epoch 146, loss 0.16952286660671234\n",
            "epoch 147, loss 0.1671505868434906\n",
            "epoch 148, loss 0.16481153666973114\n",
            "epoch 149, loss 0.16250523924827576\n",
            "epoch 150, loss 0.16023121774196625\n",
            "epoch 151, loss 0.15798892080783844\n",
            "epoch 152, loss 0.15577813982963562\n",
            "epoch 153, loss 0.15359823405742645\n",
            "epoch 154, loss 0.1514488011598587\n",
            "epoch 155, loss 0.14932949841022491\n",
            "epoch 156, loss 0.14723992347717285\n",
            "epoch 157, loss 0.14517956972122192\n",
            "epoch 158, loss 0.14314796030521393\n",
            "epoch 159, loss 0.14114484190940857\n",
            "epoch 160, loss 0.13916972279548645\n",
            "epoch 161, loss 0.1372222602367401\n",
            "epoch 162, loss 0.13530214130878448\n",
            "epoch 163, loss 0.1334088146686554\n",
            "epoch 164, loss 0.131541907787323\n",
            "epoch 165, loss 0.12970127165317535\n",
            "epoch 166, loss 0.1278863102197647\n",
            "epoch 167, loss 0.1260967254638672\n",
            "epoch 168, loss 0.12433232367038727\n",
            "epoch 169, loss 0.12259247153997421\n",
            "epoch 170, loss 0.12087700515985489\n",
            "epoch 171, loss 0.11918558925390244\n",
            "epoch 172, loss 0.11751779168844223\n",
            "epoch 173, loss 0.11587343364953995\n",
            "epoch 174, loss 0.1142520159482956\n",
            "epoch 175, loss 0.11265328526496887\n",
            "epoch 176, loss 0.11107685416936874\n",
            "epoch 177, loss 0.10952267050743103\n",
            "epoch 178, loss 0.10799004882574081\n",
            "epoch 179, loss 0.10647891461849213\n",
            "epoch 180, loss 0.10498900711536407\n",
            "epoch 181, loss 0.10351993143558502\n",
            "epoch 182, loss 0.10207144170999527\n",
            "epoch 183, loss 0.10064316540956497\n",
            "epoch 184, loss 0.09923502057790756\n",
            "epoch 185, loss 0.09784650802612305\n",
            "epoch 186, loss 0.09647729992866516\n",
            "epoch 187, loss 0.09512738138437271\n",
            "epoch 188, loss 0.09379630535840988\n",
            "epoch 189, loss 0.09248387813568115\n",
            "epoch 190, loss 0.09118987619876862\n",
            "epoch 191, loss 0.08991390466690063\n",
            "epoch 192, loss 0.08865582197904587\n",
            "epoch 193, loss 0.08741530030965805\n",
            "epoch 194, loss 0.08619211614131927\n",
            "epoch 195, loss 0.08498610556125641\n",
            "epoch 196, loss 0.08379709720611572\n",
            "epoch 197, loss 0.08262454718351364\n",
            "epoch 198, loss 0.08146841078996658\n",
            "epoch 199, loss 0.0803285762667656\n",
            "epoch 200, loss 0.07920456677675247\n",
            "epoch 201, loss 0.07809638977050781\n",
            "epoch 202, loss 0.07700374722480774\n",
            "epoch 203, loss 0.0759262666106224\n",
            "epoch 204, loss 0.07486395537853241\n",
            "epoch 205, loss 0.0738164559006691\n",
            "epoch 206, loss 0.0727836936712265\n",
            "epoch 207, loss 0.07176533341407776\n",
            "epoch 208, loss 0.07076121866703033\n",
            "epoch 209, loss 0.0697711929678917\n",
            "epoch 210, loss 0.06879494339227676\n",
            "epoch 211, loss 0.06783241778612137\n",
            "epoch 212, loss 0.06688342243432999\n",
            "epoch 213, loss 0.06594761461019516\n",
            "epoch 214, loss 0.0650249794125557\n",
            "epoch 215, loss 0.06411520391702652\n",
            "epoch 216, loss 0.06321816146373749\n",
            "epoch 217, loss 0.06233370304107666\n",
            "epoch 218, loss 0.061461642384529114\n",
            "epoch 219, loss 0.06060177832841873\n",
            "epoch 220, loss 0.05975387990474701\n",
            "epoch 221, loss 0.05891788750886917\n",
            "epoch 222, loss 0.05809361860156059\n",
            "epoch 223, loss 0.057280849665403366\n",
            "epoch 224, loss 0.056479401886463165\n",
            "epoch 225, loss 0.055689260363578796\n",
            "epoch 226, loss 0.05491011589765549\n",
            "epoch 227, loss 0.054141927510499954\n",
            "epoch 228, loss 0.053384505212306976\n",
            "epoch 229, loss 0.05263761803507805\n",
            "epoch 230, loss 0.051901206374168396\n",
            "epoch 231, loss 0.051175087690353394\n",
            "epoch 232, loss 0.050459157675504684\n",
            "epoch 233, loss 0.04975323751568794\n",
            "epoch 234, loss 0.04905719310045242\n",
            "epoch 235, loss 0.048370905220508575\n",
            "epoch 236, loss 0.047694213688373566\n",
            "epoch 237, loss 0.04702703654766083\n",
            "epoch 238, loss 0.046369146555662155\n",
            "epoch 239, loss 0.04572047293186188\n",
            "epoch 240, loss 0.04508086293935776\n",
            "epoch 241, loss 0.044450193643569946\n",
            "epoch 242, loss 0.043828364461660385\n",
            "epoch 243, loss 0.043215252459049225\n",
            "epoch 244, loss 0.04261070862412453\n",
            "epoch 245, loss 0.04201464727520943\n",
            "epoch 246, loss 0.04142692685127258\n",
            "epoch 247, loss 0.04084745794534683\n",
            "epoch 248, loss 0.04027606546878815\n",
            "epoch 249, loss 0.039712607860565186\n",
            "epoch 250, loss 0.03915710747241974\n",
            "epoch 251, loss 0.038609396666288376\n",
            "epoch 252, loss 0.03806931525468826\n",
            "epoch 253, loss 0.03753680735826492\n",
            "epoch 254, loss 0.03701171651482582\n",
            "epoch 255, loss 0.03649400174617767\n",
            "epoch 256, loss 0.03598354384303093\n",
            "epoch 257, loss 0.03548021614551544\n",
            "epoch 258, loss 0.03498389944434166\n",
            "epoch 259, loss 0.03449459746479988\n",
            "epoch 260, loss 0.034012094140052795\n",
            "epoch 261, loss 0.03353637084364891\n",
            "epoch 262, loss 0.03306732326745987\n",
            "epoch 263, loss 0.03260478004813194\n",
            "epoch 264, loss 0.032148733735084534\n",
            "epoch 265, loss 0.031699132174253464\n",
            "epoch 266, loss 0.031255751848220825\n",
            "epoch 267, loss 0.030818602070212364\n",
            "epoch 268, loss 0.030387548729777336\n",
            "epoch 269, loss 0.02996257320046425\n",
            "epoch 270, loss 0.029543492943048477\n",
            "epoch 271, loss 0.02913030982017517\n",
            "epoch 272, loss 0.02872290275990963\n",
            "epoch 273, loss 0.02832118608057499\n",
            "epoch 274, loss 0.02792508713901043\n",
            "epoch 275, loss 0.02753453142940998\n",
            "epoch 276, loss 0.027149472385644913\n",
            "epoch 277, loss 0.02676975540816784\n",
            "epoch 278, loss 0.02639543078839779\n",
            "epoch 279, loss 0.026026256382465363\n",
            "epoch 280, loss 0.025662319734692574\n",
            "epoch 281, loss 0.025303417816758156\n",
            "epoch 282, loss 0.0249495767056942\n",
            "epoch 283, loss 0.024600641801953316\n",
            "epoch 284, loss 0.02425665594637394\n",
            "epoch 285, loss 0.023917432874441147\n",
            "epoch 286, loss 0.02358299307525158\n",
            "epoch 287, loss 0.02325320430099964\n",
            "epoch 288, loss 0.02292807586491108\n",
            "epoch 289, loss 0.022607458755373955\n",
            "epoch 290, loss 0.022291334345936775\n",
            "epoch 291, loss 0.02197961136698723\n",
            "epoch 292, loss 0.021672282367944717\n",
            "epoch 293, loss 0.021369261667132378\n",
            "epoch 294, loss 0.02107049897313118\n",
            "epoch 295, loss 0.02077588438987732\n",
            "epoch 296, loss 0.02048538066446781\n",
            "epoch 297, loss 0.02019895426928997\n",
            "epoch 298, loss 0.019916530698537827\n",
            "epoch 299, loss 0.0196380615234375\n",
            "epoch 300, loss 0.01936349831521511\n",
            "epoch 301, loss 0.01909276656806469\n",
            "epoch 302, loss 0.018825845792889595\n",
            "epoch 303, loss 0.018562646582722664\n",
            "epoch 304, loss 0.018303120508790016\n",
            "epoch 305, loss 0.018047215417027473\n",
            "epoch 306, loss 0.01779491826891899\n",
            "epoch 307, loss 0.017546173185110092\n",
            "epoch 308, loss 0.01730087772011757\n",
            "epoch 309, loss 0.017059005796909332\n",
            "epoch 310, loss 0.016820542514324188\n",
            "epoch 311, loss 0.016585392877459526\n",
            "epoch 312, loss 0.01635354943573475\n",
            "epoch 313, loss 0.016124967485666275\n",
            "epoch 314, loss 0.01589956507086754\n",
            "epoch 315, loss 0.015677325427532196\n",
            "epoch 316, loss 0.015458201989531517\n",
            "epoch 317, loss 0.015242131426930428\n",
            "epoch 318, loss 0.015029092319309711\n",
            "epoch 319, loss 0.014818999916315079\n",
            "epoch 320, loss 0.01461187656968832\n",
            "epoch 321, loss 0.014407639391720295\n",
            "epoch 322, loss 0.014206267893314362\n",
            "epoch 323, loss 0.014007754623889923\n",
            "epoch 324, loss 0.013811971060931683\n",
            "epoch 325, loss 0.013618928380310535\n",
            "epoch 326, loss 0.013428608886897564\n",
            "epoch 327, loss 0.013240957632660866\n",
            "epoch 328, loss 0.013055901974439621\n",
            "epoch 329, loss 0.012873439118266106\n",
            "epoch 330, loss 0.012693547643721104\n",
            "epoch 331, loss 0.012516180984675884\n",
            "epoch 332, loss 0.012341270223259926\n",
            "epoch 333, loss 0.012168808840215206\n",
            "epoch 334, loss 0.011998777277767658\n",
            "epoch 335, loss 0.011831126175820827\n",
            "epoch 336, loss 0.011665848083794117\n",
            "epoch 337, loss 0.011502825655043125\n",
            "epoch 338, loss 0.011342129670083523\n",
            "epoch 339, loss 0.011183655820786953\n",
            "epoch 340, loss 0.011027415283024311\n",
            "epoch 341, loss 0.010873380117118359\n",
            "epoch 342, loss 0.01072146650403738\n",
            "epoch 343, loss 0.010571678169071674\n",
            "epoch 344, loss 0.0104239946231246\n",
            "epoch 345, loss 0.010278384201228619\n",
            "epoch 346, loss 0.010134782642126083\n",
            "epoch 347, loss 0.009993219748139381\n",
            "epoch 348, loss 0.00985361635684967\n",
            "epoch 349, loss 0.009715990163385868\n",
            "epoch 350, loss 0.009580275975167751\n",
            "epoch 351, loss 0.009446480311453342\n",
            "epoch 352, loss 0.009314538910984993\n",
            "epoch 353, loss 0.009184441529214382\n",
            "epoch 354, loss 0.00905619002878666\n",
            "epoch 355, loss 0.008929714560508728\n",
            "epoch 356, loss 0.008805002085864544\n",
            "epoch 357, loss 0.008682037703692913\n",
            "epoch 358, loss 0.00856081210076809\n",
            "epoch 359, loss 0.008441269397735596\n",
            "epoch 360, loss 0.008323390036821365\n",
            "epoch 361, loss 0.008207178674638271\n",
            "epoch 362, loss 0.008092598989605904\n",
            "epoch 363, loss 0.00797960627824068\n",
            "epoch 364, loss 0.007868192158639431\n",
            "epoch 365, loss 0.007758339401334524\n",
            "epoch 366, loss 0.007650007493793964\n",
            "epoch 367, loss 0.007543228100985289\n",
            "epoch 368, loss 0.007437904365360737\n",
            "epoch 369, loss 0.007334085647016764\n",
            "epoch 370, loss 0.007231720257550478\n",
            "epoch 371, loss 0.007130761630833149\n",
            "epoch 372, loss 0.007031233049929142\n",
            "epoch 373, loss 0.006933098193258047\n",
            "epoch 374, loss 0.00683634402230382\n",
            "epoch 375, loss 0.006740935612469912\n",
            "epoch 376, loss 0.00664686830714345\n",
            "epoch 377, loss 0.006554099731147289\n",
            "epoch 378, loss 0.006462644319981337\n",
            "epoch 379, loss 0.0063724578358232975\n",
            "epoch 380, loss 0.006283568684011698\n",
            "epoch 381, loss 0.006195884197950363\n",
            "epoch 382, loss 0.00610943790525198\n",
            "epoch 383, loss 0.006024195812642574\n",
            "epoch 384, loss 0.005940164439380169\n",
            "epoch 385, loss 0.005857278127223253\n",
            "epoch 386, loss 0.005775595083832741\n",
            "epoch 387, loss 0.005695016123354435\n",
            "epoch 388, loss 0.00561558548361063\n",
            "epoch 389, loss 0.005537271965295076\n",
            "epoch 390, loss 0.005460030864924192\n",
            "epoch 391, loss 0.005383893381804228\n",
            "epoch 392, loss 0.005308806896209717\n",
            "epoch 393, loss 0.005234790500253439\n",
            "epoch 394, loss 0.005161779932677746\n",
            "epoch 395, loss 0.005089788231998682\n",
            "epoch 396, loss 0.005018831230700016\n",
            "epoch 397, loss 0.004948864225298166\n",
            "epoch 398, loss 0.004879872780293226\n",
            "epoch 399, loss 0.0048118396662175655\n",
            "epoch 400, loss 0.004744763486087322\n",
            "epoch 401, loss 0.004678638186305761\n",
            "epoch 402, loss 0.004613419063389301\n",
            "epoch 403, loss 0.004549112170934677\n",
            "epoch 404, loss 0.004485716111958027\n",
            "epoch 405, loss 0.004423219710588455\n",
            "epoch 406, loss 0.004361567087471485\n",
            "epoch 407, loss 0.0043007973581552505\n",
            "epoch 408, loss 0.004240867681801319\n",
            "epoch 409, loss 0.0041817910969257355\n",
            "epoch 410, loss 0.004123535007238388\n",
            "epoch 411, loss 0.004066083114594221\n",
            "epoch 412, loss 0.004009447060525417\n",
            "epoch 413, loss 0.003953602164983749\n",
            "epoch 414, loss 0.0038985442370176315\n",
            "epoch 415, loss 0.0038442539516836405\n",
            "epoch 416, loss 0.003790712682530284\n",
            "epoch 417, loss 0.0037379374261945486\n",
            "epoch 418, loss 0.003685885341838002\n",
            "epoch 419, loss 0.0036345620173960924\n",
            "epoch 420, loss 0.003583946032449603\n",
            "epoch 421, loss 0.0035340518224984407\n",
            "epoch 422, loss 0.003484874963760376\n",
            "epoch 423, loss 0.00343636074103415\n",
            "epoch 424, loss 0.0033885326702147722\n",
            "epoch 425, loss 0.003341375384479761\n",
            "epoch 426, loss 0.003294876776635647\n",
            "epoch 427, loss 0.003249025670811534\n",
            "epoch 428, loss 0.0032038195058703423\n",
            "epoch 429, loss 0.0031592531595379114\n",
            "epoch 430, loss 0.003115295432507992\n",
            "epoch 431, loss 0.00307196332141757\n",
            "epoch 432, loss 0.0030292426235973835\n",
            "epoch 433, loss 0.002987107029184699\n",
            "epoch 434, loss 0.002945555839687586\n",
            "epoch 435, loss 0.002904595108702779\n",
            "epoch 436, loss 0.0028642043471336365\n",
            "epoch 437, loss 0.0028243747074157\n",
            "epoch 438, loss 0.002785119228065014\n",
            "epoch 439, loss 0.002746415790170431\n",
            "epoch 440, loss 0.002708235988393426\n",
            "epoch 441, loss 0.002670604269951582\n",
            "epoch 442, loss 0.00263348501175642\n",
            "epoch 443, loss 0.0025969005655497313\n",
            "epoch 444, loss 0.002560818800702691\n",
            "epoch 445, loss 0.0025252357590943575\n",
            "epoch 446, loss 0.0024901574943214655\n",
            "epoch 447, loss 0.0024555805139243603\n",
            "epoch 448, loss 0.0024214761797338724\n",
            "epoch 449, loss 0.0023878435604274273\n",
            "epoch 450, loss 0.0023546910379081964\n",
            "epoch 451, loss 0.002321997657418251\n",
            "epoch 452, loss 0.0022897731978446245\n",
            "epoch 453, loss 0.0022579829674214125\n",
            "epoch 454, loss 0.002226651646196842\n",
            "epoch 455, loss 0.0021957445424050093\n",
            "epoch 456, loss 0.002165291691198945\n",
            "epoch 457, loss 0.00213523767888546\n",
            "epoch 458, loss 0.0021056265104562044\n",
            "epoch 459, loss 0.002076420234516263\n",
            "epoch 460, loss 0.002047620713710785\n",
            "epoch 461, loss 0.0020192298106849194\n",
            "epoch 462, loss 0.0019912368152290583\n",
            "epoch 463, loss 0.001963621936738491\n",
            "epoch 464, loss 0.0019364171894267201\n",
            "epoch 465, loss 0.0019095708848908544\n",
            "epoch 466, loss 0.001883112359791994\n",
            "epoch 467, loss 0.0018570155370980501\n",
            "epoch 468, loss 0.001831292756833136\n",
            "epoch 469, loss 0.0018059349386021495\n",
            "epoch 470, loss 0.0017809226410463452\n",
            "epoch 471, loss 0.0017562550492584705\n",
            "epoch 472, loss 0.0017319406615570188\n",
            "epoch 473, loss 0.0017079608514904976\n",
            "epoch 474, loss 0.0016843217890709639\n",
            "epoch 475, loss 0.0016610142774879932\n",
            "epoch 476, loss 0.00163803540635854\n",
            "epoch 477, loss 0.0016153743490576744\n",
            "epoch 478, loss 0.001593021908774972\n",
            "epoch 479, loss 0.0015709905419498682\n",
            "epoch 480, loss 0.0015492696547880769\n",
            "epoch 481, loss 0.0015278487699106336\n",
            "epoch 482, loss 0.0015067316126078367\n",
            "epoch 483, loss 0.001485901651903987\n",
            "epoch 484, loss 0.0014653654070571065\n",
            "epoch 485, loss 0.0014451288152486086\n",
            "epoch 486, loss 0.0014251630054786801\n",
            "epoch 487, loss 0.0014054718194529414\n",
            "epoch 488, loss 0.0013860651524737477\n",
            "epoch 489, loss 0.0013669283362105489\n",
            "epoch 490, loss 0.0013480604393407702\n",
            "epoch 491, loss 0.00132946006488055\n",
            "epoch 492, loss 0.001311115687713027\n",
            "epoch 493, loss 0.0012930292868986726\n",
            "epoch 494, loss 0.0012751985341310501\n",
            "epoch 495, loss 0.0012576046865433455\n",
            "epoch 496, loss 0.0012402590364217758\n",
            "epoch 497, loss 0.0012231663567945361\n",
            "epoch 498, loss 0.001206315471790731\n",
            "epoch 499, loss 0.001189684378914535\n",
            "epoch 500, loss 0.0011732977582141757\n",
            "epoch 501, loss 0.0011571336071938276\n",
            "epoch 502, loss 0.0011412044987082481\n",
            "epoch 503, loss 0.0011254868004471064\n",
            "epoch 504, loss 0.0011099971598014235\n",
            "epoch 505, loss 0.001094721956178546\n",
            "epoch 506, loss 0.001079658162780106\n",
            "epoch 507, loss 0.0010648074094206095\n",
            "epoch 508, loss 0.0010501625947654247\n",
            "epoch 509, loss 0.001035729655995965\n",
            "epoch 510, loss 0.0010214860085397959\n",
            "epoch 511, loss 0.0010074502788484097\n",
            "epoch 512, loss 0.000993614667095244\n",
            "epoch 513, loss 0.0009799703257158399\n",
            "epoch 514, loss 0.0009665141114965081\n",
            "epoch 515, loss 0.0009532508556731045\n",
            "epoch 516, loss 0.0009401662391610444\n",
            "epoch 517, loss 0.00092726742150262\n",
            "epoch 518, loss 0.0009145518415607512\n",
            "epoch 519, loss 0.0009020105935633183\n",
            "epoch 520, loss 0.0008896474028006196\n",
            "epoch 521, loss 0.0008774598245508969\n",
            "epoch 522, loss 0.0008654387784190476\n",
            "epoch 523, loss 0.0008535839733667672\n",
            "epoch 524, loss 0.0008418993093073368\n",
            "epoch 525, loss 0.0008303719223476946\n",
            "epoch 526, loss 0.0008190095541067421\n",
            "epoch 527, loss 0.0008078069658949971\n",
            "epoch 528, loss 0.000796761829406023\n",
            "epoch 529, loss 0.0007858676253817976\n",
            "epoch 530, loss 0.0007751222583465278\n",
            "epoch 531, loss 0.0007645374862477183\n",
            "epoch 532, loss 0.0007540933438576758\n",
            "epoch 533, loss 0.0007438011234626174\n",
            "epoch 534, loss 0.0007336496491916478\n",
            "epoch 535, loss 0.00072364421794191\n",
            "epoch 536, loss 0.0007137767970561981\n",
            "epoch 537, loss 0.0007040381897240877\n",
            "epoch 538, loss 0.0006944439955987036\n",
            "epoch 539, loss 0.0006849878700450063\n",
            "epoch 540, loss 0.0006756599759683013\n",
            "epoch 541, loss 0.0006664592656306922\n",
            "epoch 542, loss 0.0006573911523446441\n",
            "epoch 543, loss 0.0006484490586444736\n",
            "epoch 544, loss 0.0006396304233931005\n",
            "epoch 545, loss 0.0006309375166893005\n",
            "epoch 546, loss 0.0006223687087185681\n",
            "epoch 547, loss 0.0006139117758721113\n",
            "epoch 548, loss 0.0006055773119442165\n",
            "epoch 549, loss 0.0005973608349449933\n",
            "epoch 550, loss 0.0005892516928724945\n",
            "epoch 551, loss 0.0005812618765048683\n",
            "epoch 552, loss 0.0005733835278078914\n",
            "epoch 553, loss 0.0005656132125295699\n",
            "epoch 554, loss 0.0005579550052061677\n",
            "epoch 555, loss 0.000550402794033289\n",
            "epoch 556, loss 0.0005429580342024565\n",
            "epoch 557, loss 0.0005356162437237799\n",
            "epoch 558, loss 0.0005283772479742765\n",
            "epoch 559, loss 0.0005212369142100215\n",
            "epoch 560, loss 0.0005142007139511406\n",
            "epoch 561, loss 0.0005072584608569741\n",
            "epoch 562, loss 0.0005004227859899402\n",
            "epoch 563, loss 0.000493673316668719\n",
            "epoch 564, loss 0.00048701855121180415\n",
            "epoch 565, loss 0.0004804600903298706\n",
            "epoch 566, loss 0.00047399368486367166\n",
            "epoch 567, loss 0.000467613892396912\n",
            "epoch 568, loss 0.00046132676652632654\n",
            "epoch 569, loss 0.00045512872748076916\n",
            "epoch 570, loss 0.0004490182618610561\n",
            "epoch 571, loss 0.0004429889377206564\n",
            "epoch 572, loss 0.0004370460519567132\n",
            "epoch 573, loss 0.0004311849770601839\n",
            "epoch 574, loss 0.0004254039959050715\n",
            "epoch 575, loss 0.0004197083180770278\n",
            "epoch 576, loss 0.0004140864475630224\n",
            "epoch 577, loss 0.0004085488908458501\n",
            "epoch 578, loss 0.0004030864511150867\n",
            "epoch 579, loss 0.0003977029409725219\n",
            "epoch 580, loss 0.0003923893382307142\n",
            "epoch 581, loss 0.000387151405448094\n",
            "epoch 582, loss 0.0003819872217718512\n",
            "epoch 583, loss 0.00037689675809815526\n",
            "epoch 584, loss 0.0003718762018252164\n",
            "epoch 585, loss 0.0003669294819701463\n",
            "epoch 586, loss 0.0003620485949795693\n",
            "epoch 587, loss 0.00035723758628591895\n",
            "epoch 588, loss 0.0003524901403579861\n",
            "epoch 589, loss 0.000347812136169523\n",
            "epoch 590, loss 0.0003432005469221622\n",
            "epoch 591, loss 0.0003386519674677402\n",
            "epoch 592, loss 0.00033416564110666513\n",
            "epoch 593, loss 0.00032974101486615837\n",
            "epoch 594, loss 0.0003253780596423894\n",
            "epoch 595, loss 0.0003210782597307116\n",
            "epoch 596, loss 0.00031683946144767106\n",
            "epoch 597, loss 0.0003126582596451044\n",
            "epoch 598, loss 0.0003085378266405314\n",
            "epoch 599, loss 0.0003044749901164323\n",
            "epoch 600, loss 0.00030046634492464364\n",
            "epoch 601, loss 0.0002965145977213979\n",
            "epoch 602, loss 0.00029261907911859453\n",
            "epoch 603, loss 0.00028877705335617065\n",
            "epoch 604, loss 0.00028499052859842777\n",
            "epoch 605, loss 0.0002812549064401537\n",
            "epoch 606, loss 0.00027757466887123883\n",
            "epoch 607, loss 0.00027394009521231055\n",
            "epoch 608, loss 0.00027036209939979017\n",
            "epoch 609, loss 0.00026683113537728786\n",
            "epoch 610, loss 0.0002633491239976138\n",
            "epoch 611, loss 0.0002599128638394177\n",
            "epoch 612, loss 0.0002565300674177706\n",
            "epoch 613, loss 0.000253195408731699\n",
            "epoch 614, loss 0.0002499046386219561\n",
            "epoch 615, loss 0.00024665947421453893\n",
            "epoch 616, loss 0.00024345982819795609\n",
            "epoch 617, loss 0.00024030634085647762\n",
            "epoch 618, loss 0.0002371962764300406\n",
            "epoch 619, loss 0.00023412855807691813\n",
            "epoch 620, loss 0.00023110401525627822\n",
            "epoch 621, loss 0.00022812267707195133\n",
            "epoch 622, loss 0.00022518541663885117\n",
            "epoch 623, loss 0.0002222822658950463\n",
            "epoch 624, loss 0.00021942380408290774\n",
            "epoch 625, loss 0.0002166071062674746\n",
            "epoch 626, loss 0.00021383048442658037\n",
            "epoch 627, loss 0.00021108843793626875\n",
            "epoch 628, loss 0.0002083854196825996\n",
            "epoch 629, loss 0.00020572112407535315\n",
            "epoch 630, loss 0.0002030958712566644\n",
            "epoch 631, loss 0.00020050577586516738\n",
            "epoch 632, loss 0.0001979501685127616\n",
            "epoch 633, loss 0.00019543302187230438\n",
            "epoch 634, loss 0.0001929469726746902\n",
            "epoch 635, loss 0.00019049916591029614\n",
            "epoch 636, loss 0.00018808446475304663\n",
            "epoch 637, loss 0.00018570123938843608\n",
            "epoch 638, loss 0.000183355703484267\n",
            "epoch 639, loss 0.00018104046466760337\n",
            "epoch 640, loss 0.00017875974299386144\n",
            "epoch 641, loss 0.00017650767404120415\n",
            "epoch 642, loss 0.00017428897263016552\n",
            "epoch 643, loss 0.00017210336227435619\n",
            "epoch 644, loss 0.00016994343604892492\n",
            "epoch 645, loss 0.000167818769114092\n",
            "epoch 646, loss 0.00016571999003645033\n",
            "epoch 647, loss 0.0001636506203794852\n",
            "epoch 648, loss 0.00016160952509380877\n",
            "epoch 649, loss 0.0001596002111909911\n",
            "epoch 650, loss 0.00015761860413476825\n",
            "epoch 651, loss 0.0001556603383505717\n",
            "epoch 652, loss 0.0001537312928121537\n",
            "epoch 653, loss 0.0001518317440059036\n",
            "epoch 654, loss 0.00014995867968536913\n",
            "epoch 655, loss 0.00014810916036367416\n",
            "epoch 656, loss 0.00014628481585532427\n",
            "epoch 657, loss 0.00014448653382714838\n",
            "epoch 658, loss 0.00014271629333961755\n",
            "epoch 659, loss 0.00014097016537562013\n",
            "epoch 660, loss 0.0001392459380440414\n",
            "epoch 661, loss 0.00013754474639426917\n",
            "epoch 662, loss 0.00013587101420853287\n",
            "epoch 663, loss 0.0001342192554147914\n",
            "epoch 664, loss 0.0001325904595432803\n",
            "epoch 665, loss 0.0001309835643041879\n",
            "epoch 666, loss 0.00012939985026605427\n",
            "epoch 667, loss 0.0001278388808714226\n",
            "epoch 668, loss 0.00012629835691768676\n",
            "epoch 669, loss 0.00012477836571633816\n",
            "epoch 670, loss 0.0001232815848197788\n",
            "epoch 671, loss 0.00012180404883110896\n",
            "epoch 672, loss 0.00012035074178129435\n",
            "epoch 673, loss 0.00011891436588484794\n",
            "epoch 674, loss 0.00011749839904950932\n",
            "epoch 675, loss 0.00011610238288994879\n",
            "epoch 676, loss 0.00011472622281871736\n",
            "epoch 677, loss 0.00011336891475366428\n",
            "epoch 678, loss 0.00011203086614841595\n",
            "epoch 679, loss 0.00011071145127061754\n",
            "epoch 680, loss 0.00010941080108750612\n",
            "epoch 681, loss 0.00010812656546477228\n",
            "epoch 682, loss 0.00010686357563827187\n",
            "epoch 683, loss 0.00010561713861534372\n",
            "epoch 684, loss 0.00010438616300234571\n",
            "epoch 685, loss 0.00010317518899682909\n",
            "epoch 686, loss 0.00010197811934631318\n",
            "epoch 687, loss 0.00010079839557874948\n",
            "epoch 688, loss 9.96357630356215e-05\n",
            "epoch 689, loss 9.848974150372669e-05\n",
            "epoch 690, loss 9.735905769048259e-05\n",
            "epoch 691, loss 9.624416998121887e-05\n",
            "epoch 692, loss 9.514431440038607e-05\n",
            "epoch 693, loss 9.406018943991512e-05\n",
            "epoch 694, loss 9.299250814365223e-05\n",
            "epoch 695, loss 9.193872392643243e-05\n",
            "epoch 696, loss 9.090000094147399e-05\n",
            "epoch 697, loss 8.987358887679875e-05\n",
            "epoch 698, loss 8.886299474397674e-05\n",
            "epoch 699, loss 8.786621765466407e-05\n",
            "epoch 700, loss 8.688477100804448e-05\n",
            "epoch 701, loss 8.591540972702205e-05\n",
            "epoch 702, loss 8.495934162056074e-05\n",
            "epoch 703, loss 8.401858212891966e-05\n",
            "epoch 704, loss 8.308920951094478e-05\n",
            "epoch 705, loss 8.217427239287645e-05\n",
            "epoch 706, loss 8.126971079036593e-05\n",
            "epoch 707, loss 8.037896623136476e-05\n",
            "epoch 708, loss 7.950088183861226e-05\n",
            "epoch 709, loss 7.863400969654322e-05\n",
            "epoch 710, loss 7.778158033033833e-05\n",
            "epoch 711, loss 7.693890074733645e-05\n",
            "epoch 712, loss 7.610902684973553e-05\n",
            "epoch 713, loss 7.52885389374569e-05\n",
            "epoch 714, loss 7.448180258506909e-05\n",
            "epoch 715, loss 7.368445221800357e-05\n",
            "epoch 716, loss 7.289915083674714e-05\n",
            "epoch 717, loss 7.21243632142432e-05\n",
            "epoch 718, loss 7.13617992005311e-05\n",
            "epoch 719, loss 7.060680945869535e-05\n",
            "epoch 720, loss 6.986455991864204e-05\n",
            "epoch 721, loss 6.913305696798488e-05\n",
            "epoch 722, loss 6.841133290436119e-05\n",
            "epoch 723, loss 6.769946776330471e-05\n",
            "epoch 724, loss 6.699685764033347e-05\n",
            "epoch 725, loss 6.630513234995306e-05\n",
            "epoch 726, loss 6.562217458849773e-05\n",
            "epoch 727, loss 6.494887929875404e-05\n",
            "epoch 728, loss 6.428617052733898e-05\n",
            "epoch 729, loss 6.363077409332618e-05\n",
            "epoch 730, loss 6.29865171504207e-05\n",
            "epoch 731, loss 6.234933971427381e-05\n",
            "epoch 732, loss 6.17214827798307e-05\n",
            "epoch 733, loss 6.110384128987789e-05\n",
            "epoch 734, loss 6.049264993635006e-05\n",
            "epoch 735, loss 5.989020428387448e-05\n",
            "epoch 736, loss 5.9296911786077544e-05\n",
            "epoch 737, loss 5.871189932804555e-05\n",
            "epoch 738, loss 5.8135636209044605e-05\n",
            "epoch 739, loss 5.756599784945138e-05\n",
            "epoch 740, loss 5.700540714315139e-05\n",
            "epoch 741, loss 5.64517431485001e-05\n",
            "epoch 742, loss 5.5906504712766036e-05\n",
            "epoch 743, loss 5.536751268664375e-05\n",
            "epoch 744, loss 5.4836749768583104e-05\n",
            "epoch 745, loss 5.431361205410212e-05\n",
            "epoch 746, loss 5.379597860155627e-05\n",
            "epoch 747, loss 5.3288182243704796e-05\n",
            "epoch 748, loss 5.278565367916599e-05\n",
            "epoch 749, loss 5.2290990424808115e-05\n",
            "epoch 750, loss 5.180266089155339e-05\n",
            "epoch 751, loss 5.132118167239241e-05\n",
            "epoch 752, loss 5.084650911157951e-05\n",
            "epoch 753, loss 5.037843220634386e-05\n",
            "epoch 754, loss 4.991713285562582e-05\n",
            "epoch 755, loss 4.946169428876601e-05\n",
            "epoch 756, loss 4.9014081014320254e-05\n",
            "epoch 757, loss 4.857146996073425e-05\n",
            "epoch 758, loss 4.813408668269403e-05\n",
            "epoch 759, loss 4.770374289364554e-05\n",
            "epoch 760, loss 4.727895066025667e-05\n",
            "epoch 761, loss 4.6860390284564346e-05\n",
            "epoch 762, loss 4.6448232751572505e-05\n",
            "epoch 763, loss 4.604120840667747e-05\n",
            "epoch 764, loss 4.5639386371476576e-05\n",
            "epoch 765, loss 4.524315954768099e-05\n",
            "epoch 766, loss 4.4852757127955556e-05\n",
            "epoch 767, loss 4.446754974196665e-05\n",
            "epoch 768, loss 4.4087370042689145e-05\n",
            "epoch 769, loss 4.3713262130040675e-05\n",
            "epoch 770, loss 4.3344523874111474e-05\n",
            "epoch 771, loss 4.2980183934560046e-05\n",
            "epoch 772, loss 4.2621813918231055e-05\n",
            "epoch 773, loss 4.22666926169768e-05\n",
            "epoch 774, loss 4.191803964204155e-05\n",
            "epoch 775, loss 4.15717986470554e-05\n",
            "epoch 776, loss 4.123346661799587e-05\n",
            "epoch 777, loss 4.0898048609960824e-05\n",
            "epoch 778, loss 4.056786201545037e-05\n",
            "epoch 779, loss 4.024090230814181e-05\n",
            "epoch 780, loss 3.99198652303312e-05\n",
            "epoch 781, loss 3.960327012464404e-05\n",
            "epoch 782, loss 3.929005833924748e-05\n",
            "epoch 783, loss 3.8982328987913206e-05\n",
            "epoch 784, loss 3.867832128889859e-05\n",
            "epoch 785, loss 3.837828990072012e-05\n",
            "epoch 786, loss 3.808262408711016e-05\n",
            "epoch 787, loss 3.779136386583559e-05\n",
            "epoch 788, loss 3.7502628401853144e-05\n",
            "epoch 789, loss 3.722031760844402e-05\n",
            "epoch 790, loss 3.6939396522939205e-05\n",
            "epoch 791, loss 3.66634558304213e-05\n",
            "epoch 792, loss 3.6390978493727744e-05\n",
            "epoch 793, loss 3.612349973991513e-05\n",
            "epoch 794, loss 3.585865852073766e-05\n",
            "epoch 795, loss 3.559786273399368e-05\n",
            "epoch 796, loss 3.5339733585715294e-05\n",
            "epoch 797, loss 3.508577719912864e-05\n",
            "epoch 798, loss 3.483520413283259e-05\n",
            "epoch 799, loss 3.458797073108144e-05\n",
            "epoch 800, loss 3.434488462517038e-05\n",
            "epoch 801, loss 3.4105280064977705e-05\n",
            "epoch 802, loss 3.38680183631368e-05\n",
            "epoch 803, loss 3.3633827115409076e-05\n",
            "epoch 804, loss 3.34039177687373e-05\n",
            "epoch 805, loss 3.317630762467161e-05\n",
            "epoch 806, loss 3.295312126283534e-05\n",
            "epoch 807, loss 3.2731240935390815e-05\n",
            "epoch 808, loss 3.2513195037608966e-05\n",
            "epoch 809, loss 3.22977575706318e-05\n",
            "epoch 810, loss 3.208521957276389e-05\n",
            "epoch 811, loss 3.187593392794952e-05\n",
            "epoch 812, loss 3.166916940244846e-05\n",
            "epoch 813, loss 3.146644667140208e-05\n",
            "epoch 814, loss 3.1265415600501e-05\n",
            "epoch 815, loss 3.106736039626412e-05\n",
            "epoch 816, loss 3.0871728085912764e-05\n",
            "epoch 817, loss 3.068019941565581e-05\n",
            "epoch 818, loss 3.0489349228446372e-05\n",
            "epoch 819, loss 3.0301776860142127e-05\n",
            "epoch 820, loss 3.01170348393498e-05\n",
            "epoch 821, loss 2.9934233680251054e-05\n",
            "epoch 822, loss 2.9753931812592782e-05\n",
            "epoch 823, loss 2.957675860670861e-05\n",
            "epoch 824, loss 2.940218837466091e-05\n",
            "epoch 825, loss 2.922982457675971e-05\n",
            "epoch 826, loss 2.905918336182367e-05\n",
            "epoch 827, loss 2.889091229008045e-05\n",
            "epoch 828, loss 2.8725346055580303e-05\n",
            "epoch 829, loss 2.8561809813254513e-05\n",
            "epoch 830, loss 2.8401020244928077e-05\n",
            "epoch 831, loss 2.8242529879207723e-05\n",
            "epoch 832, loss 2.8085643862141296e-05\n",
            "epoch 833, loss 2.7931131626246497e-05\n",
            "epoch 834, loss 2.7777463401434943e-05\n",
            "epoch 835, loss 2.762707845249679e-05\n",
            "epoch 836, loss 2.7478672564029694e-05\n",
            "epoch 837, loss 2.7332060199114494e-05\n",
            "epoch 838, loss 2.7187383238924667e-05\n",
            "epoch 839, loss 2.7045151000493206e-05\n",
            "epoch 840, loss 2.6905110644293018e-05\n",
            "epoch 841, loss 2.6766627343022265e-05\n",
            "epoch 842, loss 2.6630448701325804e-05\n",
            "epoch 843, loss 2.6494763005757704e-05\n",
            "epoch 844, loss 2.6362269636592828e-05\n",
            "epoch 845, loss 2.6230636649415828e-05\n",
            "epoch 846, loss 2.6101663024746813e-05\n",
            "epoch 847, loss 2.5973558877012692e-05\n",
            "epoch 848, loss 2.5847961296676658e-05\n",
            "epoch 849, loss 2.5723056751303375e-05\n",
            "epoch 850, loss 2.5600233129807748e-05\n",
            "epoch 851, loss 2.5479344913037494e-05\n",
            "epoch 852, loss 2.5359366190969013e-05\n",
            "epoch 853, loss 2.5240855393349193e-05\n",
            "epoch 854, loss 2.5125447791651823e-05\n",
            "epoch 855, loss 2.501000381016638e-05\n",
            "epoch 856, loss 2.489739199518226e-05\n",
            "epoch 857, loss 2.4785389541648328e-05\n",
            "epoch 858, loss 2.4675198801560327e-05\n",
            "epoch 859, loss 2.4566228603362106e-05\n",
            "epoch 860, loss 2.445938480377663e-05\n",
            "epoch 861, loss 2.4353254048037343e-05\n",
            "epoch 862, loss 2.4248580302810296e-05\n",
            "epoch 863, loss 2.4146582290995866e-05\n",
            "epoch 864, loss 2.4044671590672806e-05\n",
            "epoch 865, loss 2.3943959604366682e-05\n",
            "epoch 866, loss 2.3845106625230983e-05\n",
            "epoch 867, loss 2.3747648810967803e-05\n",
            "epoch 868, loss 2.365200452913996e-05\n",
            "epoch 869, loss 2.3556711312266998e-05\n",
            "epoch 870, loss 2.3462751414626837e-05\n",
            "epoch 871, loss 2.3370170310954563e-05\n",
            "epoch 872, loss 2.3279259039554745e-05\n",
            "epoch 873, loss 2.3188438717625104e-05\n",
            "epoch 874, loss 2.310041236341931e-05\n",
            "epoch 875, loss 2.3012036763248034e-05\n",
            "epoch 876, loss 2.2926189558347687e-05\n",
            "epoch 877, loss 2.2840524252387695e-05\n",
            "epoch 878, loss 2.2756419639335945e-05\n",
            "epoch 879, loss 2.267352829221636e-05\n",
            "epoch 880, loss 2.2591888409806415e-05\n",
            "epoch 881, loss 2.251042860734742e-05\n",
            "epoch 882, loss 2.2431599063565955e-05\n",
            "epoch 883, loss 2.2352638552547432e-05\n",
            "epoch 884, loss 2.2275069568422623e-05\n",
            "epoch 885, loss 2.2197751604835503e-05\n",
            "epoch 886, loss 2.212165236414876e-05\n",
            "epoch 887, loss 2.2047537640901282e-05\n",
            "epoch 888, loss 2.197323010477703e-05\n",
            "epoch 889, loss 2.190068335039541e-05\n",
            "epoch 890, loss 2.182905336667318e-05\n",
            "epoch 891, loss 2.1758305592811666e-05\n",
            "epoch 892, loss 2.1687839762307703e-05\n",
            "epoch 893, loss 2.1619272956741042e-05\n",
            "epoch 894, loss 2.1551077225012705e-05\n",
            "epoch 895, loss 2.1484132957994007e-05\n",
            "epoch 896, loss 2.1417739844764583e-05\n",
            "epoch 897, loss 2.135209615516942e-05\n",
            "epoch 898, loss 2.128778760379646e-05\n",
            "epoch 899, loss 2.1223739167908207e-05\n",
            "epoch 900, loss 2.1161080439924262e-05\n",
            "epoch 901, loss 2.1098590877954848e-05\n",
            "epoch 902, loss 2.103778751916252e-05\n",
            "epoch 903, loss 2.09771933441516e-05\n",
            "epoch 904, loss 2.091697206196841e-05\n",
            "epoch 905, loss 2.0858024072367698e-05\n",
            "epoch 906, loss 2.0799827325390652e-05\n",
            "epoch 907, loss 2.0741841581184417e-05\n",
            "epoch 908, loss 2.0685856725322083e-05\n",
            "epoch 909, loss 2.0630259314202704e-05\n",
            "epoch 910, loss 2.0574329028022476e-05\n",
            "epoch 911, loss 2.0519797544693574e-05\n",
            "epoch 912, loss 2.0465333363972604e-05\n",
            "epoch 913, loss 2.0412689991644584e-05\n",
            "epoch 914, loss 2.0359697373351082e-05\n",
            "epoch 915, loss 2.0308461898821406e-05\n",
            "epoch 916, loss 2.0257701180526055e-05\n",
            "epoch 917, loss 2.020600004470907e-05\n",
            "epoch 918, loss 2.0156832761131227e-05\n",
            "epoch 919, loss 2.0106956071686e-05\n",
            "epoch 920, loss 2.0059118469362147e-05\n",
            "epoch 921, loss 2.0011177184642293e-05\n",
            "epoch 922, loss 1.996278115257155e-05\n",
            "epoch 923, loss 1.991688259295188e-05\n",
            "epoch 924, loss 1.9870951291522942e-05\n",
            "epoch 925, loss 1.9824979972327128e-05\n",
            "epoch 926, loss 1.977955616894178e-05\n",
            "epoch 927, loss 1.9734794477699324e-05\n",
            "epoch 928, loss 1.9692104615387507e-05\n",
            "epoch 929, loss 1.9648416127893142e-05\n",
            "epoch 930, loss 1.960522604349535e-05\n",
            "epoch 931, loss 1.9562641682568938e-05\n",
            "epoch 932, loss 1.9521847207215615e-05\n",
            "epoch 933, loss 1.9480043192743324e-05\n",
            "epoch 934, loss 1.943866300280206e-05\n",
            "epoch 935, loss 1.939956382557284e-05\n",
            "epoch 936, loss 1.935897125804331e-05\n",
            "epoch 937, loss 1.9319790226290934e-05\n",
            "epoch 938, loss 1.9281666027382016e-05\n",
            "epoch 939, loss 1.9242856069467962e-05\n",
            "epoch 940, loss 1.9204746422474273e-05\n",
            "epoch 941, loss 1.916872861329466e-05\n",
            "epoch 942, loss 1.913137202791404e-05\n",
            "epoch 943, loss 1.9094884919468313e-05\n",
            "epoch 944, loss 1.9059678379562683e-05\n",
            "epoch 945, loss 1.9023533241124824e-05\n",
            "epoch 946, loss 1.898811933642719e-05\n",
            "epoch 947, loss 1.895362038339954e-05\n",
            "epoch 948, loss 1.8919208741863258e-05\n",
            "epoch 949, loss 1.8885708414018154e-05\n",
            "epoch 950, loss 1.8851804270525463e-05\n",
            "epoch 951, loss 1.8818798707798123e-05\n",
            "epoch 952, loss 1.8786226064548828e-05\n",
            "epoch 953, loss 1.8754008124233223e-05\n",
            "epoch 954, loss 1.8722974346019328e-05\n",
            "epoch 955, loss 1.869057450676337e-05\n",
            "epoch 956, loss 1.8660222849575803e-05\n",
            "epoch 957, loss 1.8629556507221423e-05\n",
            "epoch 958, loss 1.8598753740661778e-05\n",
            "epoch 959, loss 1.85689605132211e-05\n",
            "epoch 960, loss 1.8539742086431943e-05\n",
            "epoch 961, loss 1.851096749305725e-05\n",
            "epoch 962, loss 1.848094689194113e-05\n",
            "epoch 963, loss 1.8453001757734455e-05\n",
            "epoch 964, loss 1.8424854715703987e-05\n",
            "epoch 965, loss 1.839749893406406e-05\n",
            "epoch 966, loss 1.8369004465057515e-05\n",
            "epoch 967, loss 1.8342185285291635e-05\n",
            "epoch 968, loss 1.8315298802917823e-05\n",
            "epoch 969, loss 1.8289214494870976e-05\n",
            "epoch 970, loss 1.8262147932546213e-05\n",
            "epoch 971, loss 1.8236300093121827e-05\n",
            "epoch 972, loss 1.821100158849731e-05\n",
            "epoch 973, loss 1.8185564840678126e-05\n",
            "epoch 974, loss 1.8159824321628548e-05\n",
            "epoch 975, loss 1.8135502614313737e-05\n",
            "epoch 976, loss 1.8111253666575067e-05\n",
            "epoch 977, loss 1.8087081116391346e-05\n",
            "epoch 978, loss 1.8062406525132246e-05\n",
            "epoch 979, loss 1.803850318538025e-05\n",
            "epoch 980, loss 1.8015301975538023e-05\n",
            "epoch 981, loss 1.7992650100495666e-05\n",
            "epoch 982, loss 1.7969436157727614e-05\n",
            "epoch 983, loss 1.794686795619782e-05\n",
            "epoch 984, loss 1.792431612557266e-05\n",
            "epoch 985, loss 1.790196620277129e-05\n",
            "epoch 986, loss 1.7880965970107354e-05\n",
            "epoch 987, loss 1.7858661522041075e-05\n",
            "epoch 988, loss 1.783684092515614e-05\n",
            "epoch 989, loss 1.7815795217757113e-05\n",
            "epoch 990, loss 1.7795313397073187e-05\n",
            "epoch 991, loss 1.777502075128723e-05\n",
            "epoch 992, loss 1.7754064174368978e-05\n",
            "epoch 993, loss 1.773397707438562e-05\n",
            "epoch 994, loss 1.7714066416374408e-05\n",
            "epoch 995, loss 1.7694115740596317e-05\n",
            "epoch 996, loss 1.7674914488452487e-05\n",
            "epoch 997, loss 1.765416527632624e-05\n",
            "epoch 998, loss 1.7635542462812737e-05\n",
            "epoch 999, loss 1.761708153935615e-05\n"
          ]
        }
      ]
    },
    {
      "cell_type": "code",
      "execution_count": 691,
      "metadata": {
        "id": "t-zAnCb7s-ZG"
      },
      "outputs": [],
      "source": [
        "#g, cost = gradientDescent(X, y, theta, alpha, iters)\n",
        "#g"
      ]
    },
    {
      "cell_type": "markdown",
      "metadata": {
        "id": "mCNWA-qes-ZG"
      },
      "source": [
        "最后，我们可以使用我们拟合的参数计算训练模型的代价函数（误差）。"
      ]
    },
    {
      "cell_type": "code",
      "execution_count": 692,
      "metadata": {
        "id": "jGa5K7U6s-ZG"
      },
      "outputs": [],
      "source": [
        "#computeCost(X, y, g)"
      ]
    },
    {
      "cell_type": "markdown",
      "metadata": {
        "id": "kSKyfSQLs-ZH"
      },
      "source": [
        "现在我们来绘制线性模型以及数据，直观地看出它的拟合。"
      ]
    },
    {
      "cell_type": "code",
      "source": [
        "with torch.no_grad(): # we don't need gradients in the testing phase\n",
        "    # Converting inputs and labels to Variable (Gpu)\n",
        " \n",
        "    predicted = model(inputs.float()).cpu().data.numpy()\n",
        "     \n",
        "   \n",
        "\n",
        "plt.clf()\n",
        "plt.plot(X, y, 'go', label='True data')\n",
        "plt.plot(X, predicted, '--', label='Predictions')\n",
        "plt.legend(loc='best')\n",
        "plt.show()"
      ],
      "metadata": {
        "colab": {
          "base_uri": "https://localhost:8080/",
          "height": 266
        },
        "id": "SJFKUzAoQJgc",
        "outputId": "26674509-0cba-48c0-fe17-b884c359d9e3"
      },
      "execution_count": 699,
      "outputs": [
        {
          "output_type": "display_data",
          "data": {
            "image/png": "[encoded data removed]",
            "text/plain": [
              "<Figure size 432x288 with 1 Axes>"
            ]
          },
          "metadata": {
            "needs_background": "light"
          }
        }
      ]
    },
    {
      "cell_type": "code",
      "source": [
        "with torch.no_grad(): # we don't need gradients in the testing phase\n",
        "    # Converting inputs and labels to Variable (Gpu)\n",
        " \n",
        "    predicted = model(inputs.float()).cpu().data.numpy()\n",
        "     \n",
        "   \n",
        "\n",
        "plt.clf()\n",
        "plt.plot(X, y, 'go', label='True data')\n",
        "plt.plot(X, predicted, '--', label='Predictions')\n",
        "plt.legend(loc='best')\n",
        "plt.show()"
      ],
      "metadata": {
        "colab": {
          "base_uri": "https://localhost:8080/",
          "height": 266
        },
        "id": "C4CqolCAM-JR",
        "outputId": "e3125400-84ca-4d7d-b771-8a74580585cd"
      },
      "execution_count": 694,
      "outputs": [
        {
          "output_type": "display_data",
          "data": {
            "image/png": "[encoded data removed]",
            "text/plain": [
              "<Figure size 432x288 with 1 Axes>"
            ]
          },
          "metadata": {
            "needs_background": "light"
          }
        }
      ]
    },
    {
      "cell_type": "code",
      "execution_count": 695,
      "metadata": {
        "colab": {
          "base_uri": "https://localhost:8080/",
          "height": 530
        },
        "id": "OZy1L9L8s-ZH",
        "outputId": "079d9e95-2f13-41d4-cd7f-7ed81f900c9b"
      },
      "outputs": [
        {
          "output_type": "stream",
          "name": "stdout",
          "text": [
            "(97, 2)\n"
          ]
        },
        {
          "output_type": "display_data",
          "data": {
            "image/png": "[encoded data removed]",
            "text/plain": [
              "<Figure size 864x576 with 1 Axes>"
            ]
          },
          "metadata": {
            "needs_background": "light"
          }
        }
      ],
      "source": [
        ""
      ]
    },
    {
      "cell_type": "markdown",
      "metadata": {
        "id": "_31_rNQYs-ZH"
      },
      "source": [
        "由于梯度方程式函数也在每个训练迭代中输出一个代价的向量，所以我们也可以绘制。 请注意，代价总是降低 - 这是凸优化问题的一个例子。"
      ]
    },
    {
      "cell_type": "markdown",
      "metadata": {
        "id": "BO6hYLbOs-ZI"
      },
      "source": [
        "## 多变量线性回归"
      ]
    },
    {
      "cell_type": "markdown",
      "metadata": {
        "id": "zOx5XbKLs-ZI"
      },
      "source": [
        "练习1还包括一个房屋价格数据集，其中有2个变量（房子的大小，卧室的数量）和目标（房子的价格）。 我们使用我们已经应用的技术来分析数据集。"
      ]
    },
    {
      "cell_type": "code",
      "execution_count": null,
      "metadata": {
        "id": "Fhsyu-nGs-ZI"
      },
      "outputs": [],
      "source": [
        "path =  'ex1data2.txt'\n",
        "data2 = pd.read_csv(path, header=None, names=['Size', 'Bedrooms', 'Price'])\n",
        "data2.head()"
      ]
    },
    {
      "cell_type": "markdown",
      "metadata": {
        "id": "fWOWDhRts-ZJ"
      },
      "source": [
        "对于此任务，我们添加了另一个预处理步骤 - 特征归一化。 这个对于pandas来说很简单"
      ]
    },
    {
      "cell_type": "code",
      "execution_count": null,
      "metadata": {
        "id": "bjjd0Tp5s-ZJ"
      },
      "outputs": [],
      "source": [
        "data2 = (data2 - data2.mean()) / data2.std()\n",
        "data2.head()"
      ]
    },
    {
      "cell_type": "markdown",
      "metadata": {
        "id": "iXM_347us-ZJ"
      },
      "source": [
        "现在我们重复第1部分的预处理步骤，并对新数据集运行线性回归程序。"
      ]
    },
    {
      "cell_type": "code",
      "execution_count": null,
      "metadata": {
        "id": "hBFZzXBIs-ZJ"
      },
      "outputs": [],
      "source": [
        "# add ones column\n",
        "data2.insert(0, 'Ones', 1)\n",
        "\n",
        "# set X (training data) and y (target variable)\n",
        "cols = data2.shape[1]\n",
        "X2 = data2.iloc[:,0:cols-1]\n",
        "y2 = data2.iloc[:,cols-1:cols]\n",
        "\n",
        "# convert to matrices and initialize theta\n",
        "X2 = np.matrix(X2.values)\n",
        "y2 = np.matrix(y2.values)\n",
        "theta2 = np.matrix(np.array([0,0,0]))\n",
        "\n",
        "# perform linear regression on the data set\n",
        "g2, cost2 = gradientDescent(X2, y2, theta2, alpha, iters)\n",
        "\n",
        "# get the cost (error) of the model\n",
        "computeCost(X2, y2, g2)"
      ]
    },
    {
      "cell_type": "markdown",
      "metadata": {
        "id": "GPfjSrdEs-ZJ"
      },
      "source": [
        "我们也可以快速查看这一个的训练进程。"
      ]
    },
    {
      "cell_type": "code",
      "execution_count": null,
      "metadata": {
        "scrolled": true,
        "id": "bgR8PHHps-ZK"
      },
      "outputs": [],
      "source": [
        "fig, ax = plt.subplots(figsize=(12,8))\n",
        "ax.plot(np.arange(iters), cost2, 'r')\n",
        "ax.set_xlabel('Iterations')\n",
        "ax.set_ylabel('Cost')\n",
        "ax.set_title('Error vs. Training Epoch')\n",
        "plt.show()"
      ]
    },
    {
      "cell_type": "markdown",
      "metadata": {
        "id": "nEHtRl86s-ZK"
      },
      "source": [
        "我们也可以使用scikit-learn的线性回归函数，而不是从头开始实现这些算法。 我们将scikit-learn的线性回归算法应用于第1部分的数据，并看看它的表现。"
      ]
    },
    {
      "cell_type": "code",
      "execution_count": null,
      "metadata": {
        "id": "FGsfu6HEs-ZK"
      },
      "outputs": [],
      "source": [
        "from sklearn import linear_model\n",
        "model = linear_model.LinearRegression()\n",
        "model.fit(X, y)"
      ]
    },
    {
      "cell_type": "markdown",
      "metadata": {
        "id": "n-mk11Qds-ZK"
      },
      "source": [
        "scikit-learn model的预测表现"
      ]
    },
    {
      "cell_type": "code",
      "execution_count": null,
      "metadata": {
        "scrolled": true,
        "id": "cc0QWTONs-ZK"
      },
      "outputs": [],
      "source": [
        "x = np.array(X[:, 1].A1)\n",
        "f = model.predict(X).flatten()\n",
        "\n",
        "fig, ax = plt.subplots(figsize=(12,8))\n",
        "ax.plot(x, f, 'r', label='Prediction')\n",
        "ax.scatter(data.Population, data.Profit, label='Traning Data')\n",
        "ax.legend(loc=2)\n",
        "ax.set_xlabel('Population')\n",
        "ax.set_ylabel('Profit')\n",
        "ax.set_title('Predicted Profit vs. Population Size')\n",
        "plt.show()"
      ]
    },
    {
      "cell_type": "markdown",
      "metadata": {
        "id": "xBFHHcOSs-ZL"
      },
      "source": [
        "# 4. normal equation（正规方程）\n",
        "正规方程是通过求解下面的方程来找出使得代价函数最小的参数的：$\\frac{\\partial }{\\partial {{\\theta }_{j}}}J\\left( {{\\theta }_{j}} \\right)=0$ 。\n",
        " 假设我们的训练集特征矩阵为 X（包含了${{x}_{0}}=1$）并且我们的训练集结果为向量 y，则利用正规方程解出向量 $\\theta ={{\\left( {{X}^{T}}X \\right)}^{-1}}{{X}^{T}}y$ 。\n",
        "上标T代表矩阵转置，上标-1 代表矩阵的逆。设矩阵$A={{X}^{T}}X$，则：${{\\left( {{X}^{T}}X \\right)}^{-1}}={{A}^{-1}}$\n",
        "\n",
        "梯度下降与正规方程的比较：\n",
        "\n",
        "梯度下降：需要选择学习率α，需要多次迭代，当特征数量n大时也能较好适用，适用于各种类型的模型\t\n",
        "\n",
        "正规方程：不需要选择学习率α，一次计算得出，需要计算${{\\left( {{X}^{T}}X \\right)}^{-1}}$，如果特征数量n较大则运算代价大，因为矩阵逆的计算时间复杂度为$O(n3)$，通常来说当$n$小于10000 时还是可以接受的，只适用于线性模型，不适合逻辑回归模型等其他模型"
      ]
    },
    {
      "cell_type": "code",
      "execution_count": null,
      "metadata": {
        "collapsed": true,
        "id": "uzn-RNyos-ZL"
      },
      "outputs": [],
      "source": [
        "# 正规方程\n",
        "def normalEqn(X, y):\n",
        "    theta = np.linalg.inv(X.T@X)@X.T@y#X.T@X等价于X.T.dot(X)\n",
        "    return theta"
      ]
    },
    {
      "cell_type": "code",
      "execution_count": null,
      "metadata": {
        "id": "Na_xNKc7s-ZL"
      },
      "outputs": [],
      "source": [
        "final_theta2=normalEqn(X, y)#感觉和批量梯度下降的theta的值有点差距\n",
        "final_theta2"
      ]
    },
    {
      "cell_type": "code",
      "execution_count": null,
      "metadata": {
        "collapsed": true,
        "id": "-tGGrYv9s-ZL"
      },
      "outputs": [],
      "source": [
        "#梯度下降得到的结果是matrix([[-3.24140214,  1.1272942 ]])"
      ]
    },
    {
      "cell_type": "markdown",
      "metadata": {
        "id": "FCKIxpYes-ZL"
      },
      "source": [
        "在练习2中，我们将看看分类问题的逻辑回归。"
      ]
    },
    {
      "cell_type": "code",
      "execution_count": null,
      "metadata": {
        "collapsed": true,
        "id": "hZuBv3fos-ZM"
      },
      "outputs": [],
      "source": [
        ""
      ]
    }
  ],
  "metadata": {
    "kernelspec": {
      "display_name": "Python 3",
      "language": "python",
      "name": "python3"
    },
    "language_info": {
      "codemirror_mode": {
        "name": "ipython",
        "version": 3
      },
      "file_extension": ".py",
      "mimetype": "text/x-python",
      "name": "python",
      "nbconvert_exporter": "python",
      "pygments_lexer": "ipython3",
      "version": "3.7.4"
    },
    "colab": {
      "name": "ML-Exercise1.ipynb",
      "provenance": [],
      "include_colab_link": true
    },
    "accelerator": "GPU"
  },
  "nbformat": 4,
  "nbformat_minor": 0
}